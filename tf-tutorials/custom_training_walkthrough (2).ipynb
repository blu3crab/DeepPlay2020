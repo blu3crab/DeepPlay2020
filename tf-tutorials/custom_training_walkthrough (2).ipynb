{
  "nbformat": 4,
  "nbformat_minor": 0,
  "metadata": {
    "colab": {
      "name": "custom_training_walkthrough.ipynb",
      "provenance": [],
      "collapsed_sections": [],
      "toc_visible": true
    },
    "kernelspec": {
      "display_name": "Python 3",
      "name": "python3"
    }
  },
  "cells": [
    {
      "cell_type": "markdown",
      "metadata": {
        "id": "rwxGnsA92emp"
      },
      "source": [
        "##### Copyright 2018 The TensorFlow Authors."
      ]
    },
    {
      "cell_type": "code",
      "metadata": {
        "cellView": "form",
        "id": "CPII1rGR2rF9"
      },
      "source": [
        "#@title Licensed under the Apache License, Version 2.0 (the \"License\");\n",
        "# you may not use this file except in compliance with the License.\n",
        "# You may obtain a copy of the License at\n",
        "#\n",
        "# https://www.apache.org/licenses/LICENSE-2.0\n",
        "#\n",
        "# Unless required by applicable law or agreed to in writing, software\n",
        "# distributed under the License is distributed on an \"AS IS\" BASIS,\n",
        "# WITHOUT WARRANTIES OR CONDITIONS OF ANY KIND, either express or implied.\n",
        "# See the License for the specific language governing permissions and\n",
        "# limitations under the License."
      ],
      "execution_count": 50,
      "outputs": []
    },
    {
      "cell_type": "markdown",
      "metadata": {
        "id": "JtEZ1pCPn--z"
      },
      "source": [
        "# Custom training: walkthrough"
      ]
    },
    {
      "cell_type": "markdown",
      "metadata": {
        "id": "GV1F7tVTN3Dn"
      },
      "source": [
        "<table class=\"tfo-notebook-buttons\" align=\"left\">\n",
        "  <td>\n",
        "    <a target=\"_blank\" href=\"https://www.tensorflow.org/tutorials/customization/custom_training_walkthrough\"><img src=\"https://www.tensorflow.org/images/tf_logo_32px.png\" />View on TensorFlow.org</a>\n",
        "  </td>\n",
        "  <td>\n",
        "    <a target=\"_blank\" href=\"https://colab.research.google.com/github/tensorflow/docs/blob/master/site/en/tutorials/customization/custom_training_walkthrough.ipynb\"><img src=\"https://www.tensorflow.org/images/colab_logo_32px.png\" />Run in Google Colab</a>\n",
        "  </td>\n",
        "  <td>\n",
        "    <a target=\"_blank\" href=\"https://github.com/tensorflow/docs/blob/master/site/en/tutorials/customization/custom_training_walkthrough.ipynb\"><img src=\"https://www.tensorflow.org/images/GitHub-Mark-32px.png\" />View source on GitHub</a>\n",
        "  </td>\n",
        "  <td>\n",
        "    <a href=\"https://storage.googleapis.com/tensorflow_docs/docs/site/en/tutorials/customization/custom_training_walkthrough.ipynb\"><img src=\"https://www.tensorflow.org/images/download_logo_32px.png\" />Download notebook</a>\n",
        "  </td>\n",
        "</table>"
      ]
    },
    {
      "cell_type": "markdown",
      "metadata": {
        "id": "LDrzLFXE8T1l"
      },
      "source": [
        "This guide uses machine learning to *categorize* Iris flowers by species. It uses TensorFlow to:\n",
        "1. Build a model,\n",
        "2. Train this model on example data, and\n",
        "3. Use the model to make predictions about unknown data.\n",
        "\n",
        "## TensorFlow programming\n",
        "\n",
        "This guide uses these high-level TensorFlow concepts:\n",
        "\n",
        "* Use TensorFlow's default [eager execution](../../guide/eager.ipynb) development environment,\n",
        "* Import data with the [Datasets API](../../guide/datasets.ipynb),\n",
        "* Build models and layers with TensorFlow's [Keras API](../../guide/keras/overview.ipynb).\n",
        "\n",
        "This tutorial is structured like many TensorFlow programs:\n",
        "\n",
        "1. Import and parse the dataset.\n",
        "2. Select the type of model.\n",
        "3. Train the model.\n",
        "4. Evaluate the model's effectiveness.\n",
        "5. Use the trained model to make predictions."
      ]
    },
    {
      "cell_type": "markdown",
      "metadata": {
        "id": "yNr7H-AIoLOR"
      },
      "source": [
        "## Setup program"
      ]
    },
    {
      "cell_type": "markdown",
      "metadata": {
        "id": "1J3AuPBT9gyR"
      },
      "source": [
        "### Configure imports\n",
        "\n",
        "Import TensorFlow and the other required Python modules. By default, TensorFlow uses [eager execution](../../guide/eager.ipynb) to evaluate operations immediately, returning concrete values instead of creating a computational graph that is executed later. If you are used to a REPL or the `python` interactive console, this feels familiar."
      ]
    },
    {
      "cell_type": "code",
      "metadata": {
        "id": "jElLULrDhQZR"
      },
      "source": [
        "import os\n",
        "import matplotlib.pyplot as plt"
      ],
      "execution_count": 51,
      "outputs": []
    },
    {
      "cell_type": "code",
      "metadata": {
        "id": "bfV2Dai0Ow2o"
      },
      "source": [
        "import tensorflow as tf"
      ],
      "execution_count": 52,
      "outputs": []
    },
    {
      "cell_type": "code",
      "metadata": {
        "id": "g4Wzg69bnwK2",
        "outputId": "c938fa8d-9072-4a40-a3a5-7267f03c5eb1",
        "colab": {
          "base_uri": "https://localhost:8080/"
        }
      },
      "source": [
        "print(\"TensorFlow version: {}\".format(tf.__version__))\n",
        "print(\"Eager execution: {}\".format(tf.executing_eagerly()))"
      ],
      "execution_count": 53,
      "outputs": [
        {
          "output_type": "stream",
          "text": [
            "TensorFlow version: 2.3.0\n",
            "Eager execution: True\n"
          ],
          "name": "stdout"
        }
      ]
    },
    {
      "cell_type": "markdown",
      "metadata": {
        "id": "Zx7wc0LuuxaJ"
      },
      "source": [
        "## The Iris classification problem\n",
        "\n",
        "Imagine you are a botanist seeking an automated way to categorize each Iris flower you find. Machine learning provides many algorithms to classify flowers statistically. For instance, a sophisticated machine learning program could classify flowers based on photographs. Our ambitions are more modest—we're going to classify Iris flowers based on the length and width measurements of their [sepals](https://en.wikipedia.org/wiki/Sepal) and [petals](https://en.wikipedia.org/wiki/Petal).\n",
        "\n",
        "The Iris genus entails about 300 species, but our program will only classify the following three:\n",
        "\n",
        "* Iris setosa\n",
        "* Iris virginica\n",
        "* Iris versicolor\n",
        "\n",
        "<table>\n",
        "  <tr><td>\n",
        "    <img src=\"https://www.tensorflow.org/images/iris_three_species.jpg\"\n",
        "         alt=\"Petal geometry compared for three iris species: Iris setosa, Iris virginica, and Iris versicolor\">\n",
        "  </td></tr>\n",
        "  <tr><td align=\"center\">\n",
        "    <b>Figure 1.</b> <a href=\"https://commons.wikimedia.org/w/index.php?curid=170298\">Iris setosa</a> (by <a href=\"https://commons.wikimedia.org/wiki/User:Radomil\">Radomil</a>, CC BY-SA 3.0), <a href=\"https://commons.wikimedia.org/w/index.php?curid=248095\">Iris versicolor</a>, (by <a href=\"https://commons.wikimedia.org/wiki/User:Dlanglois\">Dlanglois</a>, CC BY-SA 3.0), and <a href=\"https://www.flickr.com/photos/33397993@N05/3352169862\">Iris virginica</a> (by <a href=\"https://www.flickr.com/photos/33397993@N05\">Frank Mayfield</a>, CC BY-SA 2.0).<br/>&nbsp;\n",
        "  </td></tr>\n",
        "</table>\n",
        "\n",
        "Fortunately, someone has already created a [dataset of 120 Iris flowers](https://en.wikipedia.org/wiki/Iris_flower_data_set) with the sepal and petal measurements. This is a classic dataset that is popular for beginner machine learning classification problems."
      ]
    },
    {
      "cell_type": "markdown",
      "metadata": {
        "id": "3Px6KAg0Jowz"
      },
      "source": [
        "## Import and parse the training dataset\n",
        "\n",
        "Download the dataset file and convert it into a structure that can be used by this Python program.\n",
        "\n",
        "### Download the dataset\n",
        "\n",
        "Download the training dataset file using the `tf.keras.utils.get_file` function. This returns the file path of the downloaded file:"
      ]
    },
    {
      "cell_type": "code",
      "metadata": {
        "id": "J6c7uEU9rjRM",
        "outputId": "992680cc-a144-4a27-f944-8b9554b247fc",
        "colab": {
          "base_uri": "https://localhost:8080/"
        }
      },
      "source": [
        "train_dataset_url = \"https://storage.googleapis.com/download.tensorflow.org/data/iris_training.csv\"\n",
        "\n",
        "train_dataset_fp = tf.keras.utils.get_file(fname=os.path.basename(train_dataset_url),\n",
        "                                           origin=train_dataset_url)\n",
        "\n",
        "print(\"Local copy of the dataset file: {}\".format(train_dataset_fp))"
      ],
      "execution_count": 54,
      "outputs": [
        {
          "output_type": "stream",
          "text": [
            "Local copy of the dataset file: /root/.keras/datasets/iris_training.csv\n"
          ],
          "name": "stdout"
        }
      ]
    },
    {
      "cell_type": "markdown",
      "metadata": {
        "id": "qnX1-aLors4S"
      },
      "source": [
        "### Inspect the data\n",
        "\n",
        "This dataset, `iris_training.csv`, is a plain text file that stores tabular data formatted as comma-separated values (CSV). Use the `head -n5` command to take a peek at the first five entries:"
      ]
    },
    {
      "cell_type": "code",
      "metadata": {
        "id": "FQvb_JYdrpPm",
        "outputId": "dbb2964a-322e-4b25-f9a5-bbd39c2b999e",
        "colab": {
          "base_uri": "https://localhost:8080/"
        }
      },
      "source": [
        "!head -n5 {train_dataset_fp}"
      ],
      "execution_count": 55,
      "outputs": [
        {
          "output_type": "stream",
          "text": [
            "120,4,setosa,versicolor,virginica\n",
            "6.4,2.8,5.6,2.2,2\n",
            "5.0,2.3,3.3,1.0,1\n",
            "4.9,2.5,4.5,1.7,2\n",
            "4.9,3.1,1.5,0.1,0\n"
          ],
          "name": "stdout"
        }
      ]
    },
    {
      "cell_type": "markdown",
      "metadata": {
        "id": "kQhzD6P-uBoq"
      },
      "source": [
        "From this view of the dataset, notice the following:\n",
        "\n",
        "1. The first line is a header containing information about the dataset:\n",
        "  * There are 120 total examples. Each example has four features and one of three possible label names.\n",
        "2. Subsequent rows are data records, one *[example](https://developers.google.com/machine-learning/glossary/#example)* per line, where:\n",
        "  * The first four fields are *[features](https://developers.google.com/machine-learning/glossary/#feature)*: these are the characteristics of an example. Here, the fields hold float numbers representing flower measurements.\n",
        "  * The last column is the *[label](https://developers.google.com/machine-learning/glossary/#label)*: this is the value we want to predict. For this dataset, it's an integer value of 0, 1, or 2 that corresponds to a flower name.\n",
        "\n",
        "Let's write that out in code:"
      ]
    },
    {
      "cell_type": "code",
      "metadata": {
        "id": "9Edhevw7exl6",
        "outputId": "d4b0c1ff-1e1d-46b1-a20e-63448dd7bb0a",
        "colab": {
          "base_uri": "https://localhost:8080/"
        }
      },
      "source": [
        "# column order in CSV file\n",
        "column_names = ['sepal_length', 'sepal_width', 'petal_length', 'petal_width', 'species']\n",
        "\n",
        "feature_names = column_names[:-1]\n",
        "label_name = column_names[-1]\n",
        "\n",
        "print(\"Features: {}\".format(feature_names))\n",
        "print(\"Label: {}\".format(label_name))"
      ],
      "execution_count": 56,
      "outputs": [
        {
          "output_type": "stream",
          "text": [
            "Features: ['sepal_length', 'sepal_width', 'petal_length', 'petal_width']\n",
            "Label: species\n"
          ],
          "name": "stdout"
        }
      ]
    },
    {
      "cell_type": "markdown",
      "metadata": {
        "id": "CCtwLoJhhDNc"
      },
      "source": [
        "Each label is associated with string name (for example, \"setosa\"), but machine learning typically relies on numeric values. The label numbers are mapped to a named representation, such as:\n",
        "\n",
        "* `0`: Iris setosa\n",
        "* `1`: Iris versicolor\n",
        "* `2`: Iris virginica\n",
        "\n",
        "For more information about features and labels, see the [ML Terminology section of the Machine Learning Crash Course](https://developers.google.com/machine-learning/crash-course/framing/ml-terminology)."
      ]
    },
    {
      "cell_type": "code",
      "metadata": {
        "id": "sVNlJlUOhkoX",
        "outputId": "d1492fdb-d280-4640-8895-641e8ccb7c17",
        "colab": {
          "base_uri": "https://localhost:8080/"
        }
      },
      "source": [
        "class_names = ['Iris setosa', 'Iris versicolor', 'Iris virginica']\n",
        "print(class_names)"
      ],
      "execution_count": 57,
      "outputs": [
        {
          "output_type": "stream",
          "text": [
            "['Iris setosa', 'Iris versicolor', 'Iris virginica']\n"
          ],
          "name": "stdout"
        }
      ]
    },
    {
      "cell_type": "markdown",
      "metadata": {
        "id": "dqPkQExM2Pwt"
      },
      "source": [
        "### Create a `tf.data.Dataset`\n",
        "\n",
        "TensorFlow's [Dataset API](../../guide/data.ipynb) handles many common cases for loading data into a model. This is a high-level API for reading data and transforming it into a form used for training.\n",
        "\n",
        "\n",
        "Since the dataset is a CSV-formatted text file, use the `tf.data.experimental.make_csv_dataset` function to parse the data into a suitable format. Since this function generates data for training models, the default behavior is to shuffle the data (`shuffle=True, shuffle_buffer_size=10000`), and repeat the dataset forever (`num_epochs=None`). We also set the [batch_size](https://developers.google.com/machine-learning/glossary/#batch_size) parameter:"
      ]
    },
    {
      "cell_type": "code",
      "metadata": {
        "id": "WsxHnz1ebJ2S"
      },
      "source": [
        "batch_size = 32\n",
        "\n",
        "train_dataset = tf.data.experimental.make_csv_dataset(\n",
        "    train_dataset_fp,\n",
        "    batch_size,\n",
        "    column_names=column_names,\n",
        "    label_name=label_name,\n",
        "    num_epochs=1)"
      ],
      "execution_count": 58,
      "outputs": []
    },
    {
      "cell_type": "markdown",
      "metadata": {
        "id": "gB_RSn62c-3G"
      },
      "source": [
        "The `make_csv_dataset` function returns a `tf.data.Dataset` of `(features, label)` pairs, where `features` is a dictionary: `{'feature_name': value}`\n",
        "\n",
        "These `Dataset` objects are iterable. Let's look at a batch of features:"
      ]
    },
    {
      "cell_type": "code",
      "metadata": {
        "id": "iDuG94H-C122",
        "outputId": "7f85f672-dfb5-4c91-c2e2-e95fe6fc50ed",
        "colab": {
          "base_uri": "https://localhost:8080/"
        }
      },
      "source": [
        "features, labels = next(iter(train_dataset))\n",
        "\n",
        "print(features)"
      ],
      "execution_count": 59,
      "outputs": [
        {
          "output_type": "stream",
          "text": [
            "OrderedDict([('sepal_length', <tf.Tensor: shape=(32,), dtype=float32, numpy=\n",
            "array([6. , 4.6, 7.2, 6.6, 4.8, 6.5, 6.4, 4.4, 5. , 6.2, 5. , 7.7, 5.6,\n",
            "       5.4, 6.5, 5.1, 5.1, 6.3, 5.8, 5.7, 5.6, 4.6, 4.7, 5. , 5.8, 5.4,\n",
            "       5. , 6.7, 4.9, 6.4, 6.1, 5.5], dtype=float32)>), ('sepal_width', <tf.Tensor: shape=(32,), dtype=float32, numpy=\n",
            "array([2.2, 3.6, 3.2, 3. , 3.4, 3. , 2.8, 3.2, 3.2, 3.4, 3.5, 2.8, 2.9,\n",
            "       3.7, 3. , 3.8, 2.5, 3.3, 2.7, 3.8, 2.7, 3.4, 3.2, 3.4, 2.7, 3.9,\n",
            "       3.4, 3. , 2.5, 3.2, 2.6, 2.4], dtype=float32)>), ('petal_length', <tf.Tensor: shape=(32,), dtype=float32, numpy=\n",
            "array([5. , 1. , 6. , 4.4, 1.6, 5.5, 5.6, 1.3, 1.2, 5.4, 1.6, 6.7, 3.6,\n",
            "       1.5, 5.8, 1.9, 3. , 4.7, 5.1, 1.7, 4.2, 1.4, 1.3, 1.6, 5.1, 1.7,\n",
            "       1.5, 5.2, 4.5, 4.5, 5.6, 3.8], dtype=float32)>), ('petal_width', <tf.Tensor: shape=(32,), dtype=float32, numpy=\n",
            "array([1.5, 0.2, 1.8, 1.4, 0.2, 1.8, 2.2, 0.2, 0.2, 2.3, 0.6, 2. , 1.3,\n",
            "       0.2, 2.2, 0.4, 1.1, 1.6, 1.9, 0.3, 1.3, 0.3, 0.2, 0.4, 1.9, 0.4,\n",
            "       0.2, 2.3, 1.7, 1.5, 1.4, 1.1], dtype=float32)>)])\n"
          ],
          "name": "stdout"
        }
      ]
    },
    {
      "cell_type": "markdown",
      "metadata": {
        "id": "E63mArnQaAGz"
      },
      "source": [
        "Notice that like-features are grouped together, or *batched*. Each example row's fields are appended to the corresponding feature array. Change the `batch_size` to set the number of examples stored in these feature arrays.\n",
        "\n",
        "You can start to see some clusters by plotting a few features from the batch:"
      ]
    },
    {
      "cell_type": "code",
      "metadata": {
        "id": "me5Wn-9FcyyO",
        "outputId": "bc333e20-b803-4fa5-fe42-0f99117cd685",
        "colab": {
          "base_uri": "https://localhost:8080/",
          "height": 279
        }
      },
      "source": [
        "plt.scatter(features['petal_length'],\n",
        "            features['sepal_length'],\n",
        "            c=labels,\n",
        "            cmap='viridis')\n",
        "\n",
        "plt.xlabel(\"Petal length\")\n",
        "plt.ylabel(\"Sepal length\")\n",
        "plt.show()"
      ],
      "execution_count": 60,
      "outputs": [
        {
          "output_type": "display_data",
          "data": {
            "image/png": "[encoded data removed]",
            "text/plain": [
              "<Figure size 432x288 with 1 Axes>"
            ]
          },
          "metadata": {
            "tags": [],
            "needs_background": "light"
          }
        }
      ]
    },
    {
      "cell_type": "markdown",
      "metadata": {
        "id": "YlxpSyHlhT6M"
      },
      "source": [
        "To simplify the model building step, create a function to repackage the features dictionary into a single array with shape: `(batch_size, num_features)`.\n",
        "\n",
        "This function uses the `tf.stack` method which takes values from a list of tensors and creates a combined tensor at the specified dimension:"
      ]
    },
    {
      "cell_type": "code",
      "metadata": {
        "id": "jm932WINcaGU"
      },
      "source": [
        "def pack_features_vector(features, labels):\n",
        "  \"\"\"Pack the features into a single array.\"\"\"\n",
        "  features = tf.stack(list(features.values()), axis=1)\n",
        "  return features, labels"
      ],
      "execution_count": 61,
      "outputs": []
    },
    {
      "cell_type": "markdown",
      "metadata": {
        "id": "V1Vuph_eDl8x"
      },
      "source": [
        "Then use the `tf.data.Dataset#map` method to pack the `features` of each `(features,label)` pair into the training dataset:"
      ]
    },
    {
      "cell_type": "code",
      "metadata": {
        "id": "ZbDkzGZIkpXf"
      },
      "source": [
        "train_dataset = train_dataset.map(pack_features_vector)"
      ],
      "execution_count": 62,
      "outputs": []
    },
    {
      "cell_type": "markdown",
      "metadata": {
        "id": "NLy0Q1xCldVO"
      },
      "source": [
        "The features element of the `Dataset` are now arrays with shape `(batch_size, num_features)`. Let's look at the first few examples:"
      ]
    },
    {
      "cell_type": "code",
      "metadata": {
        "id": "kex9ibEek6Tr",
        "outputId": "a5451ec6-5a7b-43a6-f486-96cd5650942c",
        "colab": {
          "base_uri": "https://localhost:8080/"
        }
      },
      "source": [
        "features, labels = next(iter(train_dataset))\n",
        "\n",
        "print(features[:5])"
      ],
      "execution_count": 63,
      "outputs": [
        {
          "output_type": "stream",
          "text": [
            "tf.Tensor(\n",
            "[[6.  3.  4.8 1.8]\n",
            " [4.9 2.5 4.5 1.7]\n",
            " [4.9 3.1 1.5 0.1]\n",
            " [5.7 2.8 4.1 1.3]\n",
            " [5.5 3.5 1.3 0.2]], shape=(5, 4), dtype=float32)\n"
          ],
          "name": "stdout"
        }
      ]
    },
    {
      "cell_type": "code",
      "metadata": {
        "id": "b1jI_npflkmF",
        "outputId": "8e9b3f03-b4b8-4aa3-dc64-d76449f61f84",
        "colab": {
          "base_uri": "https://localhost:8080/"
        }
      },
      "source": [
        "print(labels[:5])"
      ],
      "execution_count": 64,
      "outputs": [
        {
          "output_type": "stream",
          "text": [
            "tf.Tensor([2 2 0 1 0], shape=(5,), dtype=int32)\n"
          ],
          "name": "stdout"
        }
      ]
    },
    {
      "cell_type": "markdown",
      "metadata": {
        "id": "LsaVrtNM3Tx5"
      },
      "source": [
        "## Select the type of model\n",
        "\n",
        "### Why model?\n",
        "\n",
        "A *[model](https://developers.google.com/machine-learning/crash-course/glossary#model)* is a relationship between features and the label.  For the Iris classification problem, the model defines the relationship between the sepal and petal measurements and the predicted Iris species. Some simple models can be described with a few lines of algebra, but complex machine learning models have a large number of parameters that are difficult to summarize.\n",
        "\n",
        "Could you determine the relationship between the four features and the Iris species *without* using machine learning?  That is, could you use traditional programming techniques (for example, a lot of conditional statements) to create a model?  Perhaps—if you analyzed the dataset long enough to determine the relationships between petal and sepal measurements to a particular species. And this becomes difficult—maybe impossible—on more complicated datasets. A good machine learning approach *determines the model for you*. If you feed enough representative examples into the right machine learning model type, the program will figure out the relationships for you.\n",
        "\n",
        "### Select the model\n",
        "\n",
        "We need to select the kind of model to train. There are many types of models and picking a good one takes experience. This tutorial uses a neural network to solve the Iris classification problem. *[Neural networks](https://developers.google.com/machine-learning/glossary/#neural_network)* can find complex relationships between features and the label. It is a highly-structured graph, organized into one or more *[hidden layers](https://developers.google.com/machine-learning/glossary/#hidden_layer)*. Each hidden layer consists of one or more *[neurons](https://developers.google.com/machine-learning/glossary/#neuron)*. There are several categories of neural networks and this program uses a dense, or *[fully-connected neural network](https://developers.google.com/machine-learning/glossary/#fully_connected_layer)*: the neurons in one layer receive input connections from *every* neuron in the previous layer. For example, Figure 2 illustrates a dense neural network consisting of an input layer, two hidden layers, and an output layer:\n",
        "\n",
        "<table>\n",
        "  <tr><td>\n",
        "    <img src=\"https://www.tensorflow.org/images/custom_estimators/full_network.png\"\n",
        "         alt=\"A diagram of the network architecture: Inputs, 2 hidden layers, and outputs\">\n",
        "  </td></tr>\n",
        "  <tr><td align=\"center\">\n",
        "    <b>Figure 2.</b> A neural network with features, hidden layers, and predictions.<br/>&nbsp;\n",
        "  </td></tr>\n",
        "</table>\n",
        "\n",
        "When the model from Figure 2 is trained and fed an unlabeled example, it yields three predictions: the likelihood that this flower is the given Iris species. This prediction is called *[inference](https://developers.google.com/machine-learning/crash-course/glossary#inference)*. For this example, the sum of the output predictions is 1.0. In Figure 2, this prediction breaks down as: `0.02` for *Iris setosa*, `0.95` for *Iris versicolor*, and `0.03` for *Iris virginica*. This means that the model predicts—with 95% probability—that an unlabeled example flower is an *Iris versicolor*."
      ]
    },
    {
      "cell_type": "markdown",
      "metadata": {
        "id": "W23DIMVPQEBt"
      },
      "source": [
        "### Create a model using Keras\n",
        "\n",
        "The TensorFlow `tf.keras` API is the preferred way to create models and layers. This makes it easy to build models and experiment while Keras handles the complexity of connecting everything together.\n",
        "\n",
        "The `tf.keras.Sequential` model is a linear stack of layers. Its constructor takes a list of layer instances, in this case, two `tf.keras.layers.Dense` layers with 10 nodes each, and an output layer with 3 nodes representing our label predictions. The first layer's `input_shape` parameter corresponds to the number of features from the dataset, and is required:"
      ]
    },
    {
      "cell_type": "code",
      "metadata": {
        "id": "2fZ6oL2ig3ZK"
      },
      "source": [
        "model = tf.keras.Sequential([\n",
        "  tf.keras.layers.Dense(10, activation=tf.nn.relu, input_shape=(4,)),  # input shape required\n",
        "  tf.keras.layers.Dense(10, activation=tf.nn.relu),\n",
        "  # tf.keras.layers.Dense(2, activation=tf.nn.relu, input_shape=(4,)),  # input shape required\n",
        "  # tf.keras.layers.Dense(2, activation=tf.nn.relu),\n",
        "  tf.keras.layers.Dense(3)\n",
        "])"
      ],
      "execution_count": 65,
      "outputs": []
    },
    {
      "cell_type": "code",
      "metadata": {
        "id": "Wf2twK8_oq36",
        "outputId": "6d8e4f2f-4114-4db3-e1c9-8e212c0d99e5",
        "colab": {
          "base_uri": "https://localhost:8080/"
        }
      },
      "source": [
        "model.summary()"
      ],
      "execution_count": 66,
      "outputs": [
        {
          "output_type": "stream",
          "text": [
            "Model: \"sequential_3\"\n",
            "_________________________________________________________________\n",
            "Layer (type)                 Output Shape              Param #   \n",
            "=================================================================\n",
            "dense_9 (Dense)              (None, 10)                50        \n",
            "_________________________________________________________________\n",
            "dense_10 (Dense)             (None, 10)                110       \n",
            "_________________________________________________________________\n",
            "dense_11 (Dense)             (None, 3)                 33        \n",
            "=================================================================\n",
            "Total params: 193\n",
            "Trainable params: 193\n",
            "Non-trainable params: 0\n",
            "_________________________________________________________________\n"
          ],
          "name": "stdout"
        }
      ]
    },
    {
      "cell_type": "markdown",
      "metadata": {
        "id": "FHcbEzMpxbHL"
      },
      "source": [
        "The *[activation function](https://developers.google.com/machine-learning/crash-course/glossary#activation_function)* determines the output shape of each node in the layer. These non-linearities are important—without them the model would be equivalent to a single layer. There are many `tf.keras.activations`, but [ReLU](https://developers.google.com/machine-learning/crash-course/glossary#ReLU) is common for hidden layers.\n",
        "\n",
        "The ideal number of hidden layers and neurons depends on the problem and the dataset. Like many aspects of machine learning, picking the best shape of the neural network requires a mixture of knowledge and experimentation. As a rule of thumb, increasing the number of hidden layers and neurons typically creates a more powerful model, which requires more data to train effectively."
      ]
    },
    {
      "cell_type": "markdown",
      "metadata": {
        "id": "2wFKnhWCpDSS"
      },
      "source": [
        "### Using the model\n",
        "\n",
        "Let's have a quick look at what this model does to a batch of features:"
      ]
    },
    {
      "cell_type": "code",
      "metadata": {
        "id": "xe6SQ5NrpB-I",
        "outputId": "c713084e-bb8f-4872-ba40-260e8a1667ed",
        "colab": {
          "base_uri": "https://localhost:8080/"
        }
      },
      "source": [
        "predictions = model(features)\n",
        "predictions[:5]"
      ],
      "execution_count": 67,
      "outputs": [
        {
          "output_type": "execute_result",
          "data": {
            "text/plain": [
              "<tf.Tensor: shape=(5, 3), dtype=float32, numpy=\n",
              "array([[ 2.8412213 , -0.9098437 ,  0.7694204 ],\n",
              "       [ 2.2996626 , -0.65415895,  0.62151843],\n",
              "       [ 2.1908598 , -1.101965  ,  0.5931527 ],\n",
              "       [ 2.6470013 , -0.98522544,  0.7311484 ],\n",
              "       [ 2.5489917 , -1.2419746 ,  0.68231344]], dtype=float32)>"
            ]
          },
          "metadata": {
            "tags": []
          },
          "execution_count": 67
        }
      ]
    },
    {
      "cell_type": "markdown",
      "metadata": {
        "id": "wxyXOhwVr5S3"
      },
      "source": [
        "Here, each example returns a [logit](https://developers.google.com/machine-learning/crash-course/glossary#logits) for each class.\n",
        "\n",
        "To convert these logits to a probability for each class, use the [softmax](https://developers.google.com/machine-learning/crash-course/glossary#softmax) function:"
      ]
    },
    {
      "cell_type": "code",
      "metadata": {
        "id": "_tRwHZmTNTX2",
        "outputId": "15e01ff5-c529-43a4-be22-226e3a532a00",
        "colab": {
          "base_uri": "https://localhost:8080/"
        }
      },
      "source": [
        "tf.nn.softmax(predictions[:5])"
      ],
      "execution_count": 68,
      "outputs": [
        {
          "output_type": "execute_result",
          "data": {
            "text/plain": [
              "<tf.Tensor: shape=(5, 3), dtype=float32, numpy=\n",
              "array([[0.8699803 , 0.0204382 , 0.1095816 ],\n",
              "       [0.8071936 , 0.04208713, 0.15071931],\n",
              "       [0.8067712 , 0.02997055, 0.16325821],\n",
              "       [0.8520258 , 0.02254222, 0.12543203],\n",
              "       [0.84946585, 0.01917565, 0.1313584 ]], dtype=float32)>"
            ]
          },
          "metadata": {
            "tags": []
          },
          "execution_count": 68
        }
      ]
    },
    {
      "cell_type": "markdown",
      "metadata": {
        "id": "uRZmchElo481"
      },
      "source": [
        "Taking the `tf.argmax` across classes gives us the predicted class index. But, the model hasn't been trained yet, so these aren't good predictions:"
      ]
    },
    {
      "cell_type": "code",
      "metadata": {
        "id": "-Jzm_GoErz8B",
        "outputId": "da42672f-9d9b-4cf0-e054-9b49f3fd908c",
        "colab": {
          "base_uri": "https://localhost:8080/"
        }
      },
      "source": [
        "print(\"Prediction: {}\".format(tf.argmax(predictions, axis=1)))\n",
        "print(\"    Labels: {}\".format(labels))"
      ],
      "execution_count": 69,
      "outputs": [
        {
          "output_type": "stream",
          "text": [
            "Prediction: [0 0 0 0 0 0 0 0 0 0 0 0 0 0 0 0 0 0 0 0 0 0 0 0 0 0 0 0 0 0 0 0]\n",
            "    Labels: [2 2 0 1 0 2 2 0 2 0 2 1 2 0 2 0 1 0 2 0 0 1 2 2 0 0 1 1 0 2 1 1]\n"
          ],
          "name": "stdout"
        }
      ]
    },
    {
      "cell_type": "markdown",
      "metadata": {
        "id": "Vzq2E5J2QMtw"
      },
      "source": [
        "## Train the model\n",
        "\n",
        "*[Training](https://developers.google.com/machine-learning/crash-course/glossary#training)* is the stage of machine learning when the model is gradually optimized, or the model *learns* the dataset. The goal is to learn enough about the structure of the training dataset to make predictions about unseen data. If you learn *too much* about the training dataset, then the predictions only work for the data it has seen and will not be generalizable. This problem is called *[overfitting](https://developers.google.com/machine-learning/crash-course/glossary#overfitting)*—it's like memorizing the answers instead of understanding how to solve a problem.\n",
        "\n",
        "The Iris classification problem is an example of *[supervised machine learning](https://developers.google.com/machine-learning/glossary/#supervised_machine_learning)*: the model is trained from examples that contain labels. In *[unsupervised machine learning](https://developers.google.com/machine-learning/glossary/#unsupervised_machine_learning)*, the examples don't contain labels. Instead, the model typically finds patterns among the features."
      ]
    },
    {
      "cell_type": "markdown",
      "metadata": {
        "id": "RaKp8aEjKX6B"
      },
      "source": [
        "### Define the loss and gradient function\n",
        "\n",
        "Both training and evaluation stages need to calculate the model's *[loss](https://developers.google.com/machine-learning/crash-course/glossary#loss)*. This measures how off a model's predictions are from the desired label, in other words, how bad the model is performing. We want to minimize, or optimize, this value.\n",
        "\n",
        "Our model will calculate its loss using the `tf.keras.losses.SparseCategoricalCrossentropy` function which takes the model's class probability predictions and the desired label, and returns the average loss across the examples."
      ]
    },
    {
      "cell_type": "code",
      "metadata": {
        "id": "QOsi6b-1CXIn"
      },
      "source": [
        "loss_object = tf.keras.losses.SparseCategoricalCrossentropy(from_logits=True)"
      ],
      "execution_count": 70,
      "outputs": []
    },
    {
      "cell_type": "code",
      "metadata": {
        "id": "tMAT4DcMPwI-",
        "outputId": "9b8ac743-5111-4bad-8ecb-0e1c6280f36b",
        "colab": {
          "base_uri": "https://localhost:8080/"
        }
      },
      "source": [
        "def loss(model, x, y, training):\n",
        "  # training=training is needed only if there are layers with different\n",
        "  # behavior during training versus inference (e.g. Dropout).\n",
        "  y_ = model(x, training=training)\n",
        "\n",
        "  return loss_object(y_true=y, y_pred=y_)\n",
        "\n",
        "\n",
        "l = loss(model, features, labels, training=False)\n",
        "print(\"Loss test: {}\".format(l))"
      ],
      "execution_count": 71,
      "outputs": [
        {
          "output_type": "stream",
          "text": [
            "Loss test: 1.950150489807129\n"
          ],
          "name": "stdout"
        }
      ]
    },
    {
      "cell_type": "markdown",
      "metadata": {
        "id": "3IcPqA24QM6B"
      },
      "source": [
        "Use the `tf.GradientTape` context to calculate the *[gradients](https://developers.google.com/machine-learning/crash-course/glossary#gradient)* used to optimize your model:"
      ]
    },
    {
      "cell_type": "code",
      "metadata": {
        "id": "x57HcKWhKkei"
      },
      "source": [
        "def grad(model, inputs, targets):\n",
        "  with tf.GradientTape() as tape:\n",
        "    loss_value = loss(model, inputs, targets, training=True)\n",
        "  return loss_value, tape.gradient(loss_value, model.trainable_variables)"
      ],
      "execution_count": 72,
      "outputs": []
    },
    {
      "cell_type": "markdown",
      "metadata": {
        "id": "lOxFimtlKruu"
      },
      "source": [
        "### Create an optimizer\n",
        "\n",
        "An *[optimizer](https://developers.google.com/machine-learning/crash-course/glossary#optimizer)* applies the computed gradients to the model's variables to minimize the `loss` function. You can think of the loss function as a curved surface (see Figure 3) and we want to find its lowest point by walking around. The gradients point in the direction of steepest ascent—so we'll travel the opposite way and move down the hill. By iteratively calculating the loss and gradient for each batch, we'll adjust the model during training. Gradually, the model will find the best combination of weights and bias to minimize loss. And the lower the loss, the better the model's predictions.\n",
        "\n",
        "<table>\n",
        "  <tr><td>\n",
        "    <img src=\"https://cs231n.github.io/assets/nn3/opt1.gif\" width=\"70%\"\n",
        "         alt=\"Optimization algorithms visualized over time in 3D space.\">\n",
        "  </td></tr>\n",
        "  <tr><td align=\"center\">\n",
        "    <b>Figure 3.</b> Optimization algorithms visualized over time in 3D space.<br/>(Source: <a href=\"http://cs231n.github.io/neural-networks-3/\">Stanford class CS231n</a>, MIT License, Image credit: <a href=\"https://twitter.com/alecrad\">Alec Radford</a>)\n",
        "  </td></tr>\n",
        "</table>\n",
        "\n",
        "TensorFlow has many optimization algorithms available for training. This model uses the `tf.keras.optimizers.SGD` that implements the *[stochastic gradient descent](https://developers.google.com/machine-learning/crash-course/glossary#gradient_descent)* (SGD) algorithm. The `learning_rate` sets the step size to take for each iteration down the hill. This is a *hyperparameter* that you'll commonly adjust to achieve better results."
      ]
    },
    {
      "cell_type": "markdown",
      "metadata": {
        "id": "XkUd6UiZa_dF"
      },
      "source": [
        "Let's setup the optimizer:"
      ]
    },
    {
      "cell_type": "code",
      "metadata": {
        "id": "8xxi2NNGKwG_"
      },
      "source": [
        "optimizer = tf.keras.optimizers.SGD(learning_rate=0.01)"
      ],
      "execution_count": 73,
      "outputs": []
    },
    {
      "cell_type": "markdown",
      "metadata": {
        "id": "pJVRZ0hP52ZB"
      },
      "source": [
        "We'll use this to calculate a single optimization step:"
      ]
    },
    {
      "cell_type": "code",
      "metadata": {
        "id": "rxRNTFVe56RG",
        "outputId": "ada4594f-3deb-48f0-a8eb-e849eee6178d",
        "colab": {
          "base_uri": "https://localhost:8080/"
        }
      },
      "source": [
        "loss_value, grads = grad(model, features, labels)\n",
        "\n",
        "print(\"Step: {}, Initial Loss: {}\".format(optimizer.iterations.numpy(),\n",
        "                                          loss_value.numpy()))\n",
        "\n",
        "optimizer.apply_gradients(zip(grads, model.trainable_variables))\n",
        "\n",
        "print(\"Step: {},         Loss: {}\".format(optimizer.iterations.numpy(),\n",
        "                                          loss(model, features, labels, training=True).numpy()))"
      ],
      "execution_count": 74,
      "outputs": [
        {
          "output_type": "stream",
          "text": [
            "Step: 0, Initial Loss: 1.950150489807129\n",
            "Step: 1,         Loss: 1.365973711013794\n"
          ],
          "name": "stdout"
        }
      ]
    },
    {
      "cell_type": "markdown",
      "metadata": {
        "id": "7Y2VSELvwAvW"
      },
      "source": [
        "### Training loop\n",
        "\n",
        "With all the pieces in place, the model is ready for training! A training loop feeds the dataset examples into the model to help it make better predictions. The following code block sets up these training steps:\n",
        "\n",
        "1. Iterate each *epoch*. An epoch is one pass through the dataset.\n",
        "2. Within an epoch, iterate over each example in the training `Dataset` grabbing its *features* (`x`) and *label* (`y`).\n",
        "3. Using the example's features, make a prediction and compare it with the label. Measure the inaccuracy of the prediction and use that to calculate the model's loss and gradients.\n",
        "4. Use an `optimizer` to update the model's variables.\n",
        "5. Keep track of some stats for visualization.\n",
        "6. Repeat for each epoch.\n",
        "\n",
        "The `num_epochs` variable is the number of times to loop over the dataset collection. Counter-intuitively, training a model longer does not guarantee a better model. `num_epochs` is a *[hyperparameter](https://developers.google.com/machine-learning/glossary/#hyperparameter)* that you can tune. Choosing the right number usually requires both experience and experimentation:"
      ]
    },
    {
      "cell_type": "code",
      "metadata": {
        "id": "AIgulGRUhpto",
        "outputId": "da346f85-e74c-4afe-e99e-511ed323972a",
        "colab": {
          "base_uri": "https://localhost:8080/"
        }
      },
      "source": [
        "## Note: Rerunning this cell uses the same model variables\n",
        "\n",
        "# Keep results for plotting\n",
        "train_loss_results = []\n",
        "train_accuracy_results = []\n",
        "\n",
        "num_epochs = 201\n",
        "#num_epochs = 2\n",
        "\n",
        "for epoch in range(num_epochs):\n",
        "  epoch_loss_avg = tf.keras.metrics.Mean()\n",
        "  epoch_accuracy = tf.keras.metrics.SparseCategoricalAccuracy()\n",
        "\n",
        "  # Training loop - using batches of 32\n",
        "  for x, y in train_dataset:\n",
        "    # Optimize the model\n",
        "    loss_value, grads = grad(model, x, y)\n",
        "    optimizer.apply_gradients(zip(grads, model.trainable_variables))\n",
        "\n",
        "    # Track progress\n",
        "    epoch_loss_avg.update_state(loss_value)  # Add current batch loss\n",
        "    # Compare predicted label to actual label\n",
        "    # training=True is needed only if there are layers with different\n",
        "    # behavior during training versus inference (e.g. Dropout).\n",
        "    epoch_accuracy.update_state(y, model(x, training=True))\n",
        "\n",
        "  # End epoch\n",
        "  train_loss_results.append(epoch_loss_avg.result())\n",
        "  train_accuracy_results.append(epoch_accuracy.result())\n",
        "\n",
        "  if epoch % 50 == 0:\n",
        "  #if 0 == 0:\n",
        "    print(\"Epoch {:03d}: Loss: {:.3f}, Accuracy: {:.3%}\".format(epoch,\n",
        "                                                                epoch_loss_avg.result(),\n",
        "                                                                epoch_accuracy.result()))\n",
        "    # print(\"model.output----->\")\n",
        "    # weight = model.layers[0].get_weights()\n",
        "    # print(len(weight))\n",
        "    # print(weight)\n",
        "    print(\"model.get_weights----->\")\n",
        "    print(model.get_weights())"
      ],
      "execution_count": 75,
      "outputs": [
        {
          "output_type": "stream",
          "text": [
            "Epoch 000: Loss: 1.229, Accuracy: 61.667%\n",
            "model.get_weights----->\n",
            "[array([[-0.05834815, -0.36529884,  0.27472344, -0.32750914,  0.02642998,\n",
            "         0.55319256,  0.4402134 ,  0.30046985,  0.5443964 ,  0.15332073],\n",
            "       [ 0.01159155,  0.33675915, -0.14995858, -0.13216662,  0.42242664,\n",
            "        -0.01797961,  0.11773666,  0.3506059 ,  0.19794294,  0.3517878 ],\n",
            "       [ 0.5012673 ,  0.10055351,  0.5598943 , -0.39010784, -0.2512874 ,\n",
            "         0.06122817, -0.32653204, -0.36545646,  0.48590788, -0.41932878],\n",
            "       [ 0.561491  , -0.08875424, -0.08269422,  0.427011  , -0.64080024,\n",
            "         0.16664557,  0.25069952, -0.16686487, -0.20450373,  0.35043934]],\n",
            "      dtype=float32), array([ 0.00013159,  0.        , -0.00108101,  0.        , -0.00176797,\n",
            "       -0.00395481, -0.00081531, -0.001306  , -0.00083181, -0.00261752],\n",
            "      dtype=float32), array([[ 0.1779464 ,  0.34785116, -0.488834  , -0.53529674,  0.13770889,\n",
            "        -0.121218  , -0.16419086, -0.37737587,  0.41770908,  0.30842215],\n",
            "       [ 0.48338652,  0.19613117,  0.0380944 ,  0.4864627 ,  0.08385897,\n",
            "         0.3929243 ,  0.02672821,  0.38938618, -0.13655546, -0.19723177],\n",
            "       [-0.37680662,  0.35253346,  0.5267432 ,  0.49087495, -0.48192036,\n",
            "        -0.2038314 , -0.16563098,  0.05076657,  0.22248675, -0.44993818],\n",
            "       [-0.28680602,  0.00612783,  0.22273952,  0.03673291,  0.3772493 ,\n",
            "         0.44674248,  0.49073684, -0.23063692, -0.06664807, -0.5270927 ],\n",
            "       [-0.42725003,  0.33321708, -0.54627097, -0.09380982,  0.14517304,\n",
            "         0.14850682, -0.49123225, -0.12695894, -0.07674553,  0.37667504],\n",
            "       [-0.41689155,  0.49620652, -0.29268754,  0.45890763,  0.2088671 ,\n",
            "         0.02511156,  0.31192777, -0.11584979,  0.39818668, -0.24297951],\n",
            "       [ 0.27019867,  0.49139705, -0.29794967,  0.34323862,  0.3011139 ,\n",
            "        -0.07692462, -0.2878205 ,  0.33904526,  0.5341632 ,  0.37148252],\n",
            "       [ 0.5278056 ,  0.1721089 ,  0.49033093, -0.00494789,  0.01813781,\n",
            "        -0.16863579,  0.16036387,  0.2998805 , -0.5320949 ,  0.17780046],\n",
            "       [ 0.27238885, -0.10936461, -0.14240605,  0.37560052,  0.04782955,\n",
            "        -0.24752825,  0.02252453,  0.38736704,  0.2589114 ,  0.3391324 ],\n",
            "       [-0.06207594,  0.5403592 , -0.19714299,  0.3967071 ,  0.40553996,\n",
            "        -0.03757375, -0.08576901,  0.29685315, -0.16065775,  0.3805255 ]],\n",
            "      dtype=float32), array([-0.00080219, -0.00268322,  0.        , -0.00424286, -0.00027843,\n",
            "        0.        , -0.00368028,  0.00365423,  0.00124097, -0.00163441],\n",
            "      dtype=float32), array([[ 0.49844694, -0.32936656, -0.15088849],\n",
            "       [ 0.00956521, -0.1737658 ,  0.3976326 ],\n",
            "       [-0.12907004,  0.01272368, -0.31764224],\n",
            "       [ 0.09408788, -0.22957793, -0.3898361 ],\n",
            "       [ 0.57131994,  0.55336416, -0.34981093],\n",
            "       [ 0.3924303 , -0.3735453 ,  0.50579035],\n",
            "       [ 0.5519424 , -0.27228683,  0.6649163 ],\n",
            "       [-0.30024305,  0.06686435,  0.4083463 ],\n",
            "       [ 0.11113077,  0.33441448,  0.11580773],\n",
            "       [ 0.05331753, -0.09314935,  0.09898086]], dtype=float32), array([-1.0395231e-02,  1.0319202e-02,  7.6027995e-05], dtype=float32)]\n",
            "Epoch 050: Loss: 0.351, Accuracy: 91.667%\n",
            "model.get_weights----->\n",
            "[array([[-0.06678202, -0.36529884,  0.14648528, -0.32750914, -0.1062812 ,\n",
            "         0.57394445,  0.49952978,  0.3338609 ,  0.5824484 ,  0.19818605],\n",
            "       [-0.01328357,  0.33675915, -0.30087692, -0.13216662,  0.33296418,\n",
            "        -0.02650565,  0.17065161,  0.4476951 ,  0.24003015,  0.41204694],\n",
            "       [ 0.5859599 ,  0.10055351,  0.7443331 , -0.39010784, -0.29041913,\n",
            "         0.0726411 , -0.37112647, -0.50018114,  0.43686768, -0.5088515 ],\n",
            "       [ 0.6167566 , -0.08875424,  0.04163107,  0.427011  , -0.64723355,\n",
            "         0.15328097,  0.2125599 , -0.22466974, -0.23892796,  0.29226705]],\n",
            "      dtype=float32), array([-0.01230808,  0.        , -0.05082831,  0.        , -0.02862325,\n",
            "        0.00249136,  0.01858602,  0.01605364,  0.01372101,  0.01692154],\n",
            "      dtype=float32), array([[ 0.05079018,  0.43834257, -0.488834  , -0.67370504, -0.05752949,\n",
            "        -0.121218  , -0.18669708, -0.24372494,  0.4780754 ,  0.2867383 ],\n",
            "       [ 0.48338652,  0.19613117,  0.0380944 ,  0.4864627 ,  0.08385897,\n",
            "         0.3929243 ,  0.02672821,  0.38938618, -0.13655546, -0.19723177],\n",
            "       [-0.49010992,  0.40511376,  0.5267432 ,  0.3774108 , -0.5915752 ,\n",
            "        -0.2038314 , -0.18673402,  0.16190927,  0.2920195 , -0.47987217],\n",
            "       [-0.28680602,  0.00612783,  0.22273952,  0.03673291,  0.3772493 ,\n",
            "         0.44674248,  0.49073684, -0.23063692, -0.06664807, -0.5270927 ],\n",
            "       [-0.37321353,  0.32531205, -0.54627097, -0.06679716,  0.18139254,\n",
            "         0.14850682, -0.4863589 , -0.15984325, -0.09587731,  0.3848356 ],\n",
            "       [-0.40839854,  0.48524892, -0.29268754,  0.43523198,  0.26616126,\n",
            "         0.02511156,  0.32387242, -0.09241513,  0.42668638, -0.25939178],\n",
            "       [ 0.35485715,  0.44679427, -0.29794967,  0.38966244,  0.4336123 ,\n",
            "        -0.07692462, -0.26163545,  0.29225186,  0.52065945,  0.3727856 ],\n",
            "       [ 0.67589384,  0.08656544,  0.49033093,  0.10495539,  0.2420056 ,\n",
            "        -0.16863579,  0.19963479,  0.1917782 , -0.5749034 ,  0.18981764],\n",
            "       [ 0.2753294 , -0.12548527, -0.14240605,  0.33518368,  0.13195331,\n",
            "        -0.24752825,  0.04069915,  0.42966077,  0.305781  ,  0.312632  ],\n",
            "       [ 0.04501646,  0.50060564, -0.19714299,  0.46292543,  0.5236039 ,\n",
            "        -0.03757375, -0.05821511,  0.22822347, -0.19812267,  0.39441606]],\n",
            "      dtype=float32), array([ 0.02560369, -0.02851838,  0.        ,  0.01459953,  0.06622913,\n",
            "        0.        ,  0.00433561, -0.0136582 ,  0.00318454, -0.00544109],\n",
            "      dtype=float32), array([[ 0.6465727 , -0.396844  , -0.23153657],\n",
            "       [-0.03917055, -0.13492283,  0.40752563],\n",
            "       [-0.12907004,  0.01272368, -0.31764224],\n",
            "       [ 0.1392839 , -0.11641046, -0.54819953],\n",
            "       [ 0.7620137 ,  0.5507308 , -0.53787136],\n",
            "       [ 0.3924303 , -0.3735453 ,  0.50579035],\n",
            "       [ 0.56338954, -0.2814373 ,  0.6626205 ],\n",
            "       [-0.20501667,  0.12269368,  0.2572908 ],\n",
            "       [-0.20325059,  0.41660511,  0.34799865],\n",
            "       [ 0.19531086, -0.10446628, -0.03169554]], dtype=float32), array([ 0.00430131,  0.04708709, -0.05138838], dtype=float32)]\n",
            "Epoch 100: Loss: 0.221, Accuracy: 95.833%\n",
            "model.get_weights----->\n",
            "[array([[-0.10401665, -0.36529884,  0.08181529, -0.32750914, -0.11459516,\n",
            "         0.5976046 ,  0.5369566 ,  0.3706569 ,  0.6059346 ,  0.2462145 ],\n",
            "       [-0.04461797,  0.33675915, -0.35701838, -0.13216662,  0.32701826,\n",
            "        -0.02015302,  0.19184032,  0.4937672 ,  0.25678185,  0.44561696],\n",
            "       [ 0.6650159 ,  0.10055351,  0.8310479 , -0.39010784, -0.29272085,\n",
            "         0.06874469, -0.4001119 , -0.56792945,  0.40268132, -0.55804354],\n",
            "       [ 0.6916534 , -0.08875424,  0.12516427,  0.427011  , -0.6476123 ,\n",
            "         0.13462508,  0.17309116, -0.27679524, -0.27514806,  0.23637788]],\n",
            "      dtype=float32), array([-0.03525726,  0.        , -0.08064684,  0.        , -0.03028395,\n",
            "        0.01105088,  0.03458807,  0.03368563,  0.02604899,  0.03786676],\n",
            "      dtype=float32), array([[ 0.01520657,  0.49805954, -0.488834  , -0.7464245 , -0.17440736,\n",
            "        -0.121218  , -0.21011825, -0.21826598,  0.50809926,  0.2750764 ],\n",
            "       [ 0.48338652,  0.19613117,  0.0380944 ,  0.4864627 ,  0.08385897,\n",
            "         0.3929243 ,  0.02672821,  0.38938618, -0.13655546, -0.19723177],\n",
            "       [-0.52811825,  0.44455025,  0.5267432 ,  0.32246965, -0.6637086 ,\n",
            "        -0.2038314 , -0.21119352,  0.18550774,  0.323488  , -0.49340084],\n",
            "       [-0.28680602,  0.00612783,  0.22273952,  0.03673291,  0.3772493 ,\n",
            "         0.44674248,  0.49073684, -0.23063692, -0.06664807, -0.5270927 ],\n",
            "       [-0.3730511 ,  0.3253232 , -0.54627097, -0.06675994,  0.18142818,\n",
            "         0.14850682, -0.4862332 , -0.15989545, -0.09597327,  0.38488066],\n",
            "       [-0.41118717,  0.4795296 , -0.29268754,  0.4316952 ,  0.29913208,\n",
            "         0.02511156,  0.3258828 , -0.08699422,  0.4361352 , -0.26549843],\n",
            "       [ 0.37267578,  0.42252573, -0.29794967,  0.4131433 ,  0.4996943 ,\n",
            "        -0.07692462, -0.24635018,  0.28526443,  0.5132373 ,  0.3740586 ],\n",
            "       [ 0.712747  ,  0.03500888,  0.49033093,  0.1625554 ,  0.36250865,\n",
            "        -0.16863579,  0.22784558,  0.17216592, -0.59776795,  0.19723736],\n",
            "       [ 0.2727476 , -0.13992773, -0.14240605,  0.33615005,  0.19390264,\n",
            "        -0.24752825,  0.04523321,  0.43635973,  0.31862113,  0.3038419 ],\n",
            "       [ 0.07136048,  0.4785377 , -0.19714299,  0.49020168,  0.57843333,\n",
            "        -0.03757375, -0.03842691,  0.21644524, -0.21403627,  0.40032008]],\n",
            "      dtype=float32), array([ 0.02977438, -0.04443419,  0.        ,  0.02861041,  0.10540918,\n",
            "        0.        ,  0.00781196, -0.0160284 ,  0.00232274, -0.00628275],\n",
            "      dtype=float32), array([[ 0.6957745 , -0.43870562, -0.23887722],\n",
            "       [-0.07178818, -0.14490196,  0.45012245],\n",
            "       [-0.12907004,  0.01272368, -0.31764224],\n",
            "       [ 0.157493  , -0.02567189, -0.65714675],\n",
            "       [ 0.8171706 ,  0.63168156, -0.67397887],\n",
            "       [ 0.3924303 , -0.3735453 ,  0.50579035],\n",
            "       [ 0.57746   , -0.29484904,  0.66196233],\n",
            "       [-0.19874112,  0.17431113,  0.19939779],\n",
            "       [-0.2796634 ,  0.375513  ,  0.4655037 ],\n",
            "       [ 0.22273196, -0.07047407, -0.09310883]], dtype=float32), array([ 0.00418008,  0.07440285, -0.07858292], dtype=float32)]\n",
            "Epoch 150: Loss: 0.165, Accuracy: 95.833%\n",
            "model.get_weights----->\n",
            "[array([[-0.14299099, -0.36529884,  0.03774075, -0.32750914, -0.11601134,\n",
            "         0.615087  ,  0.568387  ,  0.40900528,  0.62764794,  0.28583783],\n",
            "       [-0.07157739,  0.33675915, -0.3921613 , -0.13216662,  0.32597116,\n",
            "        -0.01470007,  0.20901829,  0.52789783,  0.27010375,  0.4706361 ],\n",
            "       [ 0.71638024,  0.10055351,  0.88294315, -0.39010784, -0.2931087 ,\n",
            "         0.06820188, -0.41829664, -0.6097078 ,  0.38121817, -0.589762  ],\n",
            "       [ 0.76147485, -0.08875424,  0.19178481,  0.427011  , -0.64767295,\n",
            "         0.11965027,  0.13643163, -0.32653046, -0.30848587,  0.18460654]],\n",
            "      dtype=float32), array([-0.0599282 ,  0.        , -0.10508478,  0.        , -0.03056458,\n",
            "        0.01845802,  0.05018567,  0.05293816,  0.03861115,  0.05837309],\n",
            "      dtype=float32), array([[-6.99036196e-03,  5.37900984e-01, -4.88833994e-01,\n",
            "        -8.00075233e-01, -2.57488996e-01, -1.21217996e-01,\n",
            "        -2.25534961e-01, -2.08886057e-01,  5.34276664e-01,\n",
            "         2.63307184e-01],\n",
            "       [ 4.83386517e-01,  1.96131170e-01,  3.80944014e-02,\n",
            "         4.86462712e-01,  8.38589668e-02,  3.92924309e-01,\n",
            "         2.67282128e-02,  3.89386177e-01, -1.36555463e-01,\n",
            "        -1.97231770e-01],\n",
            "       [-5.51780701e-01,  4.69908804e-01,  5.26743174e-01,\n",
            "         2.85001993e-01, -7.13703752e-01, -2.03831404e-01,\n",
            "        -2.27467984e-01,  1.95719033e-01,  3.47432226e-01,\n",
            "        -5.04330158e-01],\n",
            "       [-2.86806017e-01,  6.12783432e-03,  2.22739518e-01,\n",
            "         3.67329121e-02,  3.77249300e-01,  4.46742475e-01,\n",
            "         4.90736842e-01, -2.30636925e-01, -6.66480660e-02,\n",
            "        -5.27092695e-01],\n",
            "       [-3.73016775e-01,  3.25324804e-01, -5.46270967e-01,\n",
            "        -6.67553470e-02,  1.81433186e-01,  1.48506820e-01,\n",
            "        -4.86207277e-01, -1.59906939e-01, -9.59928036e-02,\n",
            "         3.84889096e-01],\n",
            "       [-4.14300710e-01,  4.73385066e-01, -2.92687535e-01,\n",
            "         4.33781832e-01,  3.24471265e-01,  2.51115561e-02,\n",
            "         3.25043917e-01, -8.28670412e-02,  4.41469014e-01,\n",
            "        -2.68767148e-01],\n",
            "       [ 3.81724626e-01,  4.06325847e-01, -2.97949672e-01,\n",
            "         4.31169361e-01,  5.43687701e-01, -7.69246221e-02,\n",
            "        -2.38870487e-01,  2.84009337e-01,  5.06820560e-01,\n",
            "         3.76207322e-01],\n",
            "       [ 7.33333588e-01,  4.57951974e-04,  4.90330935e-01,\n",
            "         2.05648050e-01,  4.45284486e-01, -1.68635786e-01,\n",
            "         2.43403569e-01,  1.66109666e-01, -6.17094219e-01,\n",
            "         2.05197260e-01],\n",
            "       [ 2.69827873e-01, -1.56265810e-01, -1.42406046e-01,\n",
            "         3.48140806e-01,  2.47644663e-01, -2.47528255e-01,\n",
            "         4.52465490e-02,  4.41913068e-01,  3.23649853e-01,\n",
            "         3.00253481e-01],\n",
            "       [ 8.61883387e-02,  4.64041442e-01, -1.97142988e-01,\n",
            "         5.09225309e-01,  6.14676774e-01, -3.75737548e-02,\n",
            "        -2.73221899e-02,  2.11974069e-01, -2.25520879e-01,\n",
            "         4.05048907e-01]], dtype=float32), array([ 3.1289414e-02, -5.6559477e-02,  0.0000000e+00,  4.1753706e-02,\n",
            "        1.3556033e-01,  0.0000000e+00,  8.8816276e-03, -1.5572867e-02,\n",
            "       -6.6812783e-05, -5.5558602e-03], dtype=float32), array([[ 0.7243122 , -0.4649328 , -0.24118763],\n",
            "       [-0.0951592 , -0.15497701,  0.4835685 ],\n",
            "       [-0.12907004,  0.01272368, -0.31764224],\n",
            "       [ 0.16946602,  0.04472796, -0.7395194 ],\n",
            "       [ 0.8509316 ,  0.7011812 , -0.7772394 ],\n",
            "       [ 0.3924303 , -0.3735453 ,  0.50579035],\n",
            "       [ 0.58683413, -0.30407834,  0.66181743],\n",
            "       [-0.19807693,  0.21051612,  0.16252866],\n",
            "       [-0.3250593 ,  0.3522915 ,  0.5341211 ],\n",
            "       [ 0.23745744, -0.04539108, -0.13291728]], dtype=float32), array([ 0.00319231,  0.09441639, -0.09760874], dtype=float32)]\n",
            "Epoch 200: Loss: 0.134, Accuracy: 98.333%\n",
            "model.get_weights----->\n",
            "[array([[-0.16683775, -0.36529884,  0.01905405, -0.32750914, -0.11684462,\n",
            "         0.62506074,  0.587418  ,  0.43387288,  0.64123005,  0.30835903],\n",
            "       [-0.0902638 ,  0.33675915, -0.41031083, -0.13216662,  0.32535148,\n",
            "        -0.01152853,  0.22047846,  0.55151993,  0.27925012,  0.48672256],\n",
            "       [ 0.75078076,  0.10055351,  0.9181833 , -0.39010784, -0.29333225,\n",
            "         0.06873401, -0.42988095, -0.6392255 ,  0.3672632 , -0.6114525 ],\n",
            "       [ 0.82112163, -0.08875424,  0.24495855,  0.427011  , -0.64770895,\n",
            "         0.10782935,  0.10575169, -0.3706098 , -0.33690894,  0.14119025]],\n",
            "      dtype=float32), array([-0.08208054,  0.        , -0.12370694,  0.        , -0.03072888,\n",
            "        0.02436347,  0.06339069,  0.07026906,  0.04979989,  0.07564392],\n",
            "      dtype=float32), array([[-0.02198983,  0.5661856 , -0.488834  , -0.84022075, -0.3182704 ,\n",
            "        -0.121218  , -0.23566064, -0.20474827,  0.5554973 ,  0.2533116 ],\n",
            "       [ 0.48338652,  0.19613117,  0.0380944 ,  0.4864627 ,  0.08385897,\n",
            "         0.3929243 ,  0.02672821,  0.38938618, -0.13655546, -0.19723177],\n",
            "       [-0.56756115,  0.48756677,  0.5267432 ,  0.25804532, -0.7496458 ,\n",
            "        -0.2038314 , -0.23804212,  0.20127992,  0.3656984 , -0.51285005],\n",
            "       [-0.28680602,  0.00612783,  0.22273952,  0.03673291,  0.3772493 ,\n",
            "         0.44674248,  0.49073684, -0.23063692, -0.06664807, -0.5270927 ],\n",
            "       [-0.37299505,  0.32532555, -0.54627097, -0.06675341,  0.18143548,\n",
            "         0.14850682, -0.4861909 , -0.15991452, -0.09600504,  0.38489372],\n",
            "       [-0.41561028,  0.47092295, -0.29268754,  0.43377927,  0.3375838 ,\n",
            "         0.02511156,  0.3253635 , -0.0797802 ,  0.44539818, -0.2709771 ],\n",
            "       [ 0.38837957,  0.39741194, -0.29794967,  0.4417617 ,  0.56899846,\n",
            "        -0.07692462, -0.23326184,  0.2839618 ,  0.50222385,  0.3779682 ],\n",
            "       [ 0.7476595 , -0.022032  ,  0.49033093,  0.23560087,  0.50008905,\n",
            "        -0.16863579,  0.25420597,  0.16389301, -0.6321906 ,  0.2118893 ],\n",
            "       [ 0.2692795 , -0.16722082, -0.14240605,  0.3577721 ,  0.28377736,\n",
            "        -0.24752825,  0.04666981,  0.44657797,  0.32592154,  0.29868057],\n",
            "       [ 0.09660235,  0.4553894 , -0.19714299,  0.5212333 ,  0.6367349 ,\n",
            "        -0.03757375, -0.01949541,  0.20963809, -0.2338433 ,  0.4086056 ]],\n",
            "      dtype=float32), array([ 0.03233274, -0.06558396,  0.        ,  0.05255344,  0.15824968,\n",
            "        0.        ,  0.00975433, -0.01440703, -0.00266414, -0.0044134 ],\n",
            "      dtype=float32), array([[ 0.7440148 , -0.48368466, -0.24213792],\n",
            "       [-0.11229376, -0.16738293,  0.5131092 ],\n",
            "       [-0.12907004,  0.01272368, -0.31764224],\n",
            "       [ 0.17896661,  0.08949923, -0.79379106],\n",
            "       [ 0.8751857 ,  0.7470851 , -0.84739816],\n",
            "       [ 0.3924303 , -0.3735453 ,  0.50579035],\n",
            "       [ 0.59374875, -0.31092444,  0.6617489 ],\n",
            "       [-0.19817336,  0.23199847,  0.14114252],\n",
            "       [-0.35625622,  0.3352588 ,  0.58235073],\n",
            "       [ 0.24745032, -0.03113534, -0.15716588]], dtype=float32), array([ 0.00231577,  0.10849693, -0.11081267], dtype=float32)]\n"
          ],
          "name": "stdout"
        }
      ]
    },
    {
      "cell_type": "markdown",
      "metadata": {
        "id": "2FQHVUnm_rjw"
      },
      "source": [
        "### Visualize the loss function over time"
      ]
    },
    {
      "cell_type": "markdown",
      "metadata": {
        "id": "j3wdbmtLVTyr"
      },
      "source": [
        "While it's helpful to print out the model's training progress, it's often *more* helpful to see this progress. [TensorBoard](https://www.tensorflow.org/tensorboard) is a nice visualization tool that is packaged with TensorFlow, but we can create basic charts using the `matplotlib` module.\n",
        "\n",
        "Interpreting these charts takes some experience, but you really want to see the *loss* go down and the *accuracy* go up:"
      ]
    },
    {
      "cell_type": "code",
      "metadata": {
        "id": "agjvNd2iUGFn",
        "outputId": "816dd3d4-2652-4422-8171-6e49bcb92775",
        "colab": {
          "base_uri": "https://localhost:8080/",
          "height": 558
        }
      },
      "source": [
        "fig, axes = plt.subplots(2, sharex=True, figsize=(12, 8))\n",
        "fig.suptitle('Training Metrics')\n",
        "\n",
        "axes[0].set_ylabel(\"Loss\", fontsize=14)\n",
        "axes[0].plot(train_loss_results)\n",
        "\n",
        "axes[1].set_ylabel(\"Accuracy\", fontsize=14)\n",
        "axes[1].set_xlabel(\"Epoch\", fontsize=14)\n",
        "axes[1].plot(train_accuracy_results)\n",
        "plt.show()"
      ],
      "execution_count": 76,
      "outputs": [
        {
          "output_type": "display_data",
          "data": {
            "image/png": "[encoded data removed]",
            "text/plain": [
              "<Figure size 864x576 with 2 Axes>"
            ]
          },
          "metadata": {
            "tags": [],
            "needs_background": "light"
          }
        }
      ]
    },
    {
      "cell_type": "markdown",
      "metadata": {
        "id": "Zg8GoMZhLpGH"
      },
      "source": [
        "## Evaluate the model's effectiveness\n",
        "\n",
        "Now that the model is trained, we can get some statistics on its performance.\n",
        "\n",
        "*Evaluating* means determining how effectively the model makes predictions. To determine the model's effectiveness at Iris classification, pass some sepal and petal measurements to the model and ask the model to predict what Iris species they represent. Then compare the model's predictions against the actual label.  For example, a model that picked the correct species on half the input examples has an *[accuracy](https://developers.google.com/machine-learning/glossary/#accuracy)* of `0.5`. Figure 4 shows a slightly more effective model, getting 4 out of 5 predictions correct at 80% accuracy:\n",
        "\n",
        "<table cellpadding=\"8\" border=\"0\">\n",
        "  <colgroup>\n",
        "    <col span=\"4\" >\n",
        "    <col span=\"1\" bgcolor=\"lightblue\">\n",
        "    <col span=\"1\" bgcolor=\"lightgreen\">\n",
        "  </colgroup>\n",
        "  <tr bgcolor=\"lightgray\">\n",
        "    <th colspan=\"4\">Example features</th>\n",
        "    <th colspan=\"1\">Label</th>\n",
        "    <th colspan=\"1\" >Model prediction</th>\n",
        "  </tr>\n",
        "  <tr>\n",
        "    <td>5.9</td><td>3.0</td><td>4.3</td><td>1.5</td><td align=\"center\">1</td><td align=\"center\">1</td>\n",
        "  </tr>\n",
        "  <tr>\n",
        "    <td>6.9</td><td>3.1</td><td>5.4</td><td>2.1</td><td align=\"center\">2</td><td align=\"center\">2</td>\n",
        "  </tr>\n",
        "  <tr>\n",
        "    <td>5.1</td><td>3.3</td><td>1.7</td><td>0.5</td><td align=\"center\">0</td><td align=\"center\">0</td>\n",
        "  </tr>\n",
        "  <tr>\n",
        "    <td>6.0</td> <td>3.4</td> <td>4.5</td> <td>1.6</td> <td align=\"center\">1</td><td align=\"center\" bgcolor=\"red\">2</td>\n",
        "  </tr>\n",
        "  <tr>\n",
        "    <td>5.5</td><td>2.5</td><td>4.0</td><td>1.3</td><td align=\"center\">1</td><td align=\"center\">1</td>\n",
        "  </tr>\n",
        "  <tr><td align=\"center\" colspan=\"6\">\n",
        "    <b>Figure 4.</b> An Iris classifier that is 80% accurate.<br/>&nbsp;\n",
        "  </td></tr>\n",
        "</table>"
      ]
    },
    {
      "cell_type": "markdown",
      "metadata": {
        "id": "z-EvK7hGL0d8"
      },
      "source": [
        "### Setup the test dataset\n",
        "\n",
        "Evaluating the model is similar to training the model. The biggest difference is the examples come from a separate *[test set](https://developers.google.com/machine-learning/crash-course/glossary#test_set)* rather than the training set. To fairly assess a model's effectiveness, the examples used to evaluate a model must be different from the examples used to train the model.\n",
        "\n",
        "The setup for the test `Dataset` is similar to the setup for training `Dataset`. Download the CSV text file and parse that values, then give it a little shuffle:"
      ]
    },
    {
      "cell_type": "code",
      "metadata": {
        "id": "Ps3_9dJ3Lodk"
      },
      "source": [
        "test_url = \"https://storage.googleapis.com/download.tensorflow.org/data/iris_test.csv\"\n",
        "\n",
        "test_fp = tf.keras.utils.get_file(fname=os.path.basename(test_url),\n",
        "                                  origin=test_url)"
      ],
      "execution_count": 77,
      "outputs": []
    },
    {
      "cell_type": "code",
      "metadata": {
        "id": "SRMWCu30bnxH"
      },
      "source": [
        "test_dataset = tf.data.experimental.make_csv_dataset(\n",
        "    test_fp,\n",
        "    batch_size,\n",
        "    column_names=column_names,\n",
        "    label_name='species',\n",
        "    num_epochs=1,\n",
        "    shuffle=False)\n",
        "\n",
        "test_dataset = test_dataset.map(pack_features_vector)"
      ],
      "execution_count": 78,
      "outputs": []
    },
    {
      "cell_type": "markdown",
      "metadata": {
        "id": "HFuOKXJdMAdm"
      },
      "source": [
        "### Evaluate the model on the test dataset\n",
        "\n",
        "Unlike the training stage, the model only evaluates a single [epoch](https://developers.google.com/machine-learning/glossary/#epoch) of the test data. In the following code cell, we iterate over each example in the test set and compare the model's prediction against the actual label. This is used to measure the model's accuracy across the entire test set:"
      ]
    },
    {
      "cell_type": "code",
      "metadata": {
        "id": "Tw03-MK1cYId",
        "outputId": "2d88dae7-aa5a-451a-81b6-40ab53b8c87d",
        "colab": {
          "base_uri": "https://localhost:8080/"
        }
      },
      "source": [
        "test_accuracy = tf.keras.metrics.Accuracy()\n",
        "\n",
        "for (x, y) in test_dataset:\n",
        "  # training=False is needed only if there are layers with different\n",
        "  # behavior during training versus inference (e.g. Dropout).\n",
        "  logits = model(x, training=False)\n",
        "  prediction = tf.argmax(logits, axis=1, output_type=tf.int32)\n",
        "  test_accuracy(prediction, y)\n",
        "\n",
        "print(\"Test set accuracy: {:.3%}\".format(test_accuracy.result()))"
      ],
      "execution_count": 79,
      "outputs": [
        {
          "output_type": "stream",
          "text": [
            "Test set accuracy: 96.667%\n"
          ],
          "name": "stdout"
        }
      ]
    },
    {
      "cell_type": "markdown",
      "metadata": {
        "id": "HcKEZMtCOeK-"
      },
      "source": [
        "We can see on the last batch, for example, the model is usually correct:"
      ]
    },
    {
      "cell_type": "code",
      "metadata": {
        "id": "uNwt2eMeOane",
        "outputId": "647ebebf-b46a-47f5-ffa1-6e26256c3559",
        "colab": {
          "base_uri": "https://localhost:8080/"
        }
      },
      "source": [
        "tf.stack([y,prediction],axis=1)"
      ],
      "execution_count": 80,
      "outputs": [
        {
          "output_type": "execute_result",
          "data": {
            "text/plain": [
              "<tf.Tensor: shape=(30, 2), dtype=int32, numpy=\n",
              "array([[1, 1],\n",
              "       [2, 2],\n",
              "       [0, 0],\n",
              "       [1, 1],\n",
              "       [1, 1],\n",
              "       [1, 1],\n",
              "       [0, 0],\n",
              "       [2, 2],\n",
              "       [1, 1],\n",
              "       [2, 2],\n",
              "       [2, 2],\n",
              "       [0, 0],\n",
              "       [2, 2],\n",
              "       [1, 1],\n",
              "       [1, 1],\n",
              "       [0, 0],\n",
              "       [1, 1],\n",
              "       [0, 0],\n",
              "       [0, 0],\n",
              "       [2, 2],\n",
              "       [0, 0],\n",
              "       [1, 1],\n",
              "       [2, 2],\n",
              "       [1, 2],\n",
              "       [1, 1],\n",
              "       [1, 1],\n",
              "       [0, 0],\n",
              "       [1, 1],\n",
              "       [2, 2],\n",
              "       [1, 1]], dtype=int32)>"
            ]
          },
          "metadata": {
            "tags": []
          },
          "execution_count": 80
        }
      ]
    },
    {
      "cell_type": "markdown",
      "metadata": {
        "id": "7Li2r1tYvW7S"
      },
      "source": [
        "## Use the trained model to make predictions\n",
        "\n",
        "We've trained a model and \"proven\" that it's good—but not perfect—at classifying Iris species. Now let's use the trained model to make some predictions on [unlabeled examples](https://developers.google.com/machine-learning/glossary/#unlabeled_example); that is, on examples that contain features but not a label.\n",
        "\n",
        "In real-life, the unlabeled examples could come from lots of different sources including apps, CSV files, and data feeds. For now, we're going to manually provide three unlabeled examples to predict their labels. Recall, the label numbers are mapped to a named representation as:\n",
        "\n",
        "* `0`: Iris setosa\n",
        "* `1`: Iris versicolor\n",
        "* `2`: Iris virginica"
      ]
    },
    {
      "cell_type": "code",
      "metadata": {
        "id": "kesTS5Lzv-M2",
        "outputId": "f1ce90ba-306d-4da0-903d-be263383b84b",
        "colab": {
          "base_uri": "https://localhost:8080/"
        }
      },
      "source": [
        "predict_dataset = tf.convert_to_tensor([\n",
        "    [5.1, 3.3, 1.7, 0.5,],\n",
        "    [5.9, 3.0, 4.2, 1.5,],\n",
        "    [6.9, 3.1, 5.4, 2.1]\n",
        "])\n",
        "\n",
        "# training=False is needed only if there are layers with different\n",
        "# behavior during training versus inference (e.g. Dropout).\n",
        "predictions = model(predict_dataset, training=False)\n",
        "\n",
        "for i, logits in enumerate(predictions):\n",
        "  class_idx = tf.argmax(logits).numpy()\n",
        "  p = tf.nn.softmax(logits)[class_idx]\n",
        "  name = class_names[class_idx]\n",
        "  print(\"Example {} prediction: {} ({:4.1f}%)\".format(i, name, 100*p))"
      ],
      "execution_count": 81,
      "outputs": [
        {
          "output_type": "stream",
          "text": [
            "Example 0 prediction: Iris setosa (98.2%)\n",
            "Example 1 prediction: Iris versicolor (93.8%)\n",
            "Example 2 prediction: Iris virginica (67.8%)\n"
          ],
          "name": "stdout"
        }
      ]
    }
  ]
}