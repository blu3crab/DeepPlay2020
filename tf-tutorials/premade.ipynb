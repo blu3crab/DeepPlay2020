{
  "nbformat": 4,
  "nbformat_minor": 0,
  "metadata": {
    "colab": {
      "name": "premade.ipynb",
      "provenance": [],
      "collapsed_sections": [],
      "toc_visible": true
    },
    "kernelspec": {
      "display_name": "Python 3",
      "name": "python3"
    }
  },
  "cells": [
    {
      "cell_type": "markdown",
      "metadata": {
        "id": "1Z6Wtb_jisbA",
        "colab_type": "text"
      },
      "source": [
        "##### Copyright 2019 The TensorFlow Authors."
      ]
    },
    {
      "cell_type": "code",
      "metadata": {
        "cellView": "form",
        "id": "QUyRGn9riopB",
        "colab_type": "code",
        "colab": {}
      },
      "source": [
        "#@title Licensed under the Apache License, Version 2.0 (the \"License\");\n",
        "# you may not use this file except in compliance with the License.\n",
        "# You may obtain a copy of the License at\n",
        "#\n",
        "# https://www.apache.org/licenses/LICENSE-2.0\n",
        "#\n",
        "# Unless required by applicable law or agreed to in writing, software\n",
        "# distributed under the License is distributed on an \"AS IS\" BASIS,\n",
        "# WITHOUT WARRANTIES OR CONDITIONS OF ANY KIND, either express or implied.\n",
        "# See the License for the specific language governing permissions and\n",
        "# limitations under the License."
      ],
      "execution_count": null,
      "outputs": []
    },
    {
      "cell_type": "markdown",
      "metadata": {
        "id": "H1yCdGFW4j_F",
        "colab_type": "text"
      },
      "source": [
        "# Premade Estimators"
      ]
    },
    {
      "cell_type": "markdown",
      "metadata": {
        "id": "PS6_yKSoyLAl",
        "colab_type": "text"
      },
      "source": [
        "<table class=\"tfo-notebook-buttons\" align=\"left\">\n",
        "  <td>\n",
        "    <a target=\"_blank\" href=\"https://www.tensorflow.org/tutorials/estimator/premade\"><img src=\"https://www.tensorflow.org/images/tf_logo_32px.png\" />View on TensorFlow.org</a>\n",
        "  </td>\n",
        "  <td>\n",
        "    <a target=\"_blank\" href=\"https://colab.research.google.com/github/tensorflow/docs/blob/master/site/en/tutorials/estimator/premade.ipynb\"><img src=\"https://www.tensorflow.org/images/colab_logo_32px.png\" />Run in Google Colab</a>\n",
        "  </td>\n",
        "  <td>\n",
        "    <a target=\"_blank\" href=\"https://github.com/tensorflow/docs/blob/master/site/en/tutorials/estimator/premade.ipynb\"><img src=\"https://www.tensorflow.org/images/GitHub-Mark-32px.png\" />View source on GitHub</a>\n",
        "  </td>\n",
        "  <td>\n",
        "    <a href=\"https://storage.googleapis.com/tensorflow_docs/docs/site/en/tutorials/estimator/premade.ipynb\"><img src=\"https://www.tensorflow.org/images/download_logo_32px.png\" />Download notebook</a>\n",
        "  </td>\n",
        "</table>"
      ]
    },
    {
      "cell_type": "markdown",
      "metadata": {
        "id": "R4YZ_ievcY7p",
        "colab_type": "text"
      },
      "source": [
        "This tutorial shows you\n",
        "how to solve the Iris classification problem in TensorFlow using Estimators. An Estimator is TensorFlow's high-level representation of a complete model, and it has been designed for easy scaling and asynchronous training. For more details see\n",
        "[Estimators](https://www.tensorflow.org/guide/estimator).\n",
        "\n",
        "Note that in TensorFlow 2.0, the [Keras API](https://www.tensorflow.org/guide/keras) can accomplish many of these same tasks, and is believed to be an easier API to learn. If you are starting fresh, we would recommend you start with Keras. For more information about the available high level APIs in TensorFlow 2.0, see [Standardizing on Keras](https://medium.com/tensorflow/standardizing-on-keras-guidance-on-high-level-apis-in-tensorflow-2-0-bad2b04c819a).\n"
      ]
    },
    {
      "cell_type": "markdown",
      "metadata": {
        "id": "8IFct0yedsTy",
        "colab_type": "text"
      },
      "source": [
        "## First things first\n",
        "\n",
        "In order to get started, you will first import TensorFlow and a number of libraries you will need."
      ]
    },
    {
      "cell_type": "code",
      "metadata": {
        "id": "jPo5bQwndr9P",
        "colab_type": "code",
        "colab": {}
      },
      "source": [
        "import tensorflow as tf\n",
        "\n",
        "import pandas as pd\n",
        "\n",
        "import numpy as np"
      ],
      "execution_count": 1,
      "outputs": []
    },
    {
      "cell_type": "markdown",
      "metadata": {
        "id": "c5w4m5gncnGh",
        "colab_type": "text"
      },
      "source": [
        "## The data set\n",
        "\n",
        "The sample program in this document builds and tests a model that\n",
        "classifies Iris flowers into three different species based on the size of their\n",
        "[sepals](https://en.wikipedia.org/wiki/Sepal) and\n",
        "[petals](https://en.wikipedia.org/wiki/Petal).\n",
        "\n",
        "\n",
        "You will train a model using the Iris data set. The Iris data set contains four features and one\n",
        "[label](https://developers.google.com/machine-learning/glossary/#label).\n",
        "The four features identify the following botanical characteristics of\n",
        "individual Iris flowers:\n",
        "\n",
        "* sepal length\n",
        "* sepal width\n",
        "* petal length\n",
        "* petal width\n",
        "\n",
        "Based on this information, you can define a few helpful constants for parsing the data:\n"
      ]
    },
    {
      "cell_type": "code",
      "metadata": {
        "id": "lSyrXp_He_UE",
        "colab_type": "code",
        "colab": {}
      },
      "source": [
        "CSV_COLUMN_NAMES = ['SepalLength', 'SepalWidth', 'PetalLength', 'PetalWidth', 'Species']\n",
        "SPECIES = ['Setosa', 'Versicolor', 'Virginica']"
      ],
      "execution_count": 2,
      "outputs": []
    },
    {
      "cell_type": "markdown",
      "metadata": {
        "id": "j6mTfIQzfC9w",
        "colab_type": "text"
      },
      "source": [
        "Next, download and parse the Iris data set using Keras and Pandas. Note that you keep distinct datasets for training and testing."
      ]
    },
    {
      "cell_type": "code",
      "metadata": {
        "id": "PumyCN8VdGGc",
        "colab_type": "code",
        "colab": {
          "base_uri": "https://localhost:8080/",
          "height": 105
        },
        "outputId": "9268dcfc-5b41-40cf-d1a1-dcf4ee53c598"
      },
      "source": [
        "train_path = tf.keras.utils.get_file(\n",
        "    \"iris_training.csv\", \"https://storage.googleapis.com/download.tensorflow.org/data/iris_training.csv\")\n",
        "test_path = tf.keras.utils.get_file(\n",
        "    \"iris_test.csv\", \"https://storage.googleapis.com/download.tensorflow.org/data/iris_test.csv\")\n",
        "\n",
        "train = pd.read_csv(train_path, names=CSV_COLUMN_NAMES, header=0)\n",
        "test = pd.read_csv(test_path, names=CSV_COLUMN_NAMES, header=0)"
      ],
      "execution_count": 3,
      "outputs": [
        {
          "output_type": "stream",
          "text": [
            "Downloading data from https://storage.googleapis.com/download.tensorflow.org/data/iris_training.csv\n",
            "8192/2194 [================================================================================================================] - 0s 0us/step\n",
            "Downloading data from https://storage.googleapis.com/download.tensorflow.org/data/iris_test.csv\n",
            "8192/573 [============================================================================================================================================================================================================================================================================================================================================================================================================================================] - 0s 0us/step\n"
          ],
          "name": "stdout"
        }
      ]
    },
    {
      "cell_type": "code",
      "metadata": {
        "id": "oFVG-D7pSkAk",
        "colab_type": "code",
        "colab": {
          "base_uri": "https://localhost:8080/",
          "height": 153
        },
        "outputId": "4f58e9a2-f50d-414c-b074-683dae57a7f2"
      },
      "source": [
        "print(len(train))\n",
        "print(len(test))\n",
        "print(train.head())"
      ],
      "execution_count": 4,
      "outputs": [
        {
          "output_type": "stream",
          "text": [
            "120\n",
            "30\n",
            "   SepalLength  SepalWidth  PetalLength  PetalWidth  Species\n",
            "0          6.4         2.8          5.6         2.2        2\n",
            "1          5.0         2.3          3.3         1.0        1\n",
            "2          4.9         2.5          4.5         1.7        2\n",
            "3          4.9         3.1          1.5         0.1        0\n",
            "4          5.7         3.8          1.7         0.3        0\n"
          ],
          "name": "stdout"
        }
      ]
    },
    {
      "cell_type": "code",
      "metadata": {
        "id": "jf8OyCT-T2XI",
        "colab_type": "code",
        "colab": {}
      },
      "source": [
        "train_play = train"
      ],
      "execution_count": 5,
      "outputs": []
    },
    {
      "cell_type": "code",
      "metadata": {
        "id": "_nex1zcfTEBj",
        "colab_type": "code",
        "colab": {
          "base_uri": "https://localhost:8080/",
          "height": 204
        },
        "outputId": "aac71eb7-8a93-4aea-e7e4-3d3768dbadf1"
      },
      "source": [
        "train.head()"
      ],
      "execution_count": 6,
      "outputs": [
        {
          "output_type": "execute_result",
          "data": {
            "text/html": [
              "<div>\n",
              "<style scoped>\n",
              "    .dataframe tbody tr th:only-of-type {\n",
              "        vertical-align: middle;\n",
              "    }\n",
              "\n",
              "    .dataframe tbody tr th {\n",
              "        vertical-align: top;\n",
              "    }\n",
              "\n",
              "    .dataframe thead th {\n",
              "        text-align: right;\n",
              "    }\n",
              "</style>\n",
              "<table border=\"1\" class=\"dataframe\">\n",
              "  <thead>\n",
              "    <tr style=\"text-align: right;\">\n",
              "      <th></th>\n",
              "      <th>SepalLength</th>\n",
              "      <th>SepalWidth</th>\n",
              "      <th>PetalLength</th>\n",
              "      <th>PetalWidth</th>\n",
              "      <th>Species</th>\n",
              "    </tr>\n",
              "  </thead>\n",
              "  <tbody>\n",
              "    <tr>\n",
              "      <th>0</th>\n",
              "      <td>6.4</td>\n",
              "      <td>2.8</td>\n",
              "      <td>5.6</td>\n",
              "      <td>2.2</td>\n",
              "      <td>2</td>\n",
              "    </tr>\n",
              "    <tr>\n",
              "      <th>1</th>\n",
              "      <td>5.0</td>\n",
              "      <td>2.3</td>\n",
              "      <td>3.3</td>\n",
              "      <td>1.0</td>\n",
              "      <td>1</td>\n",
              "    </tr>\n",
              "    <tr>\n",
              "      <th>2</th>\n",
              "      <td>4.9</td>\n",
              "      <td>2.5</td>\n",
              "      <td>4.5</td>\n",
              "      <td>1.7</td>\n",
              "      <td>2</td>\n",
              "    </tr>\n",
              "    <tr>\n",
              "      <th>3</th>\n",
              "      <td>4.9</td>\n",
              "      <td>3.1</td>\n",
              "      <td>1.5</td>\n",
              "      <td>0.1</td>\n",
              "      <td>0</td>\n",
              "    </tr>\n",
              "    <tr>\n",
              "      <th>4</th>\n",
              "      <td>5.7</td>\n",
              "      <td>3.8</td>\n",
              "      <td>1.7</td>\n",
              "      <td>0.3</td>\n",
              "      <td>0</td>\n",
              "    </tr>\n",
              "  </tbody>\n",
              "</table>\n",
              "</div>"
            ],
            "text/plain": [
              "   SepalLength  SepalWidth  PetalLength  PetalWidth  Species\n",
              "0          6.4         2.8          5.6         2.2        2\n",
              "1          5.0         2.3          3.3         1.0        1\n",
              "2          4.9         2.5          4.5         1.7        2\n",
              "3          4.9         3.1          1.5         0.1        0\n",
              "4          5.7         3.8          1.7         0.3        0"
            ]
          },
          "metadata": {
            "tags": []
          },
          "execution_count": 6
        }
      ]
    },
    {
      "cell_type": "markdown",
      "metadata": {
        "id": "wHFxNLszhQjz",
        "colab_type": "text"
      },
      "source": [
        "You can inspect your data to see that you have four float feature columns and one int32 label."
      ]
    },
    {
      "cell_type": "code",
      "metadata": {
        "id": "WOJt-ML4hAwI",
        "colab_type": "code",
        "colab": {
          "base_uri": "https://localhost:8080/",
          "height": 204
        },
        "outputId": "3c6ed5bf-16b4-4bd8-c571-45257b062a99"
      },
      "source": [
        "train.head()"
      ],
      "execution_count": 8,
      "outputs": [
        {
          "output_type": "execute_result",
          "data": {
            "text/html": [
              "<div>\n",
              "<style scoped>\n",
              "    .dataframe tbody tr th:only-of-type {\n",
              "        vertical-align: middle;\n",
              "    }\n",
              "\n",
              "    .dataframe tbody tr th {\n",
              "        vertical-align: top;\n",
              "    }\n",
              "\n",
              "    .dataframe thead th {\n",
              "        text-align: right;\n",
              "    }\n",
              "</style>\n",
              "<table border=\"1\" class=\"dataframe\">\n",
              "  <thead>\n",
              "    <tr style=\"text-align: right;\">\n",
              "      <th></th>\n",
              "      <th>SepalLength</th>\n",
              "      <th>SepalWidth</th>\n",
              "      <th>PetalLength</th>\n",
              "      <th>PetalWidth</th>\n",
              "      <th>Species</th>\n",
              "    </tr>\n",
              "  </thead>\n",
              "  <tbody>\n",
              "    <tr>\n",
              "      <th>0</th>\n",
              "      <td>6.4</td>\n",
              "      <td>2.8</td>\n",
              "      <td>5.6</td>\n",
              "      <td>2.2</td>\n",
              "      <td>2</td>\n",
              "    </tr>\n",
              "    <tr>\n",
              "      <th>1</th>\n",
              "      <td>5.0</td>\n",
              "      <td>2.3</td>\n",
              "      <td>3.3</td>\n",
              "      <td>1.0</td>\n",
              "      <td>1</td>\n",
              "    </tr>\n",
              "    <tr>\n",
              "      <th>2</th>\n",
              "      <td>4.9</td>\n",
              "      <td>2.5</td>\n",
              "      <td>4.5</td>\n",
              "      <td>1.7</td>\n",
              "      <td>2</td>\n",
              "    </tr>\n",
              "    <tr>\n",
              "      <th>3</th>\n",
              "      <td>4.9</td>\n",
              "      <td>3.1</td>\n",
              "      <td>1.5</td>\n",
              "      <td>0.1</td>\n",
              "      <td>0</td>\n",
              "    </tr>\n",
              "    <tr>\n",
              "      <th>4</th>\n",
              "      <td>5.7</td>\n",
              "      <td>3.8</td>\n",
              "      <td>1.7</td>\n",
              "      <td>0.3</td>\n",
              "      <td>0</td>\n",
              "    </tr>\n",
              "  </tbody>\n",
              "</table>\n",
              "</div>"
            ],
            "text/plain": [
              "   SepalLength  SepalWidth  PetalLength  PetalWidth  Species\n",
              "0          6.4         2.8          5.6         2.2        2\n",
              "1          5.0         2.3          3.3         1.0        1\n",
              "2          4.9         2.5          4.5         1.7        2\n",
              "3          4.9         3.1          1.5         0.1        0\n",
              "4          5.7         3.8          1.7         0.3        0"
            ]
          },
          "metadata": {
            "tags": []
          },
          "execution_count": 8
        }
      ]
    },
    {
      "cell_type": "markdown",
      "metadata": {
        "id": "jQJEYfVvfznP",
        "colab_type": "text"
      },
      "source": [
        "For each of the datasets, split out the labels, which the model will be trained to predict."
      ]
    },
    {
      "cell_type": "code",
      "metadata": {
        "id": "zM0wz2TueuA6",
        "colab_type": "code",
        "colab": {
          "base_uri": "https://localhost:8080/",
          "height": 204
        },
        "outputId": "fdc2dcbf-5ee0-4486-ecc7-7c534e626cc9"
      },
      "source": [
        "train_y = train.pop('Species')\n",
        "test_y = test.pop('Species')\n",
        "\n",
        "# The label column has now been removed from the features.\n",
        "train.head()"
      ],
      "execution_count": 7,
      "outputs": [
        {
          "output_type": "execute_result",
          "data": {
            "text/html": [
              "<div>\n",
              "<style scoped>\n",
              "    .dataframe tbody tr th:only-of-type {\n",
              "        vertical-align: middle;\n",
              "    }\n",
              "\n",
              "    .dataframe tbody tr th {\n",
              "        vertical-align: top;\n",
              "    }\n",
              "\n",
              "    .dataframe thead th {\n",
              "        text-align: right;\n",
              "    }\n",
              "</style>\n",
              "<table border=\"1\" class=\"dataframe\">\n",
              "  <thead>\n",
              "    <tr style=\"text-align: right;\">\n",
              "      <th></th>\n",
              "      <th>SepalLength</th>\n",
              "      <th>SepalWidth</th>\n",
              "      <th>PetalLength</th>\n",
              "      <th>PetalWidth</th>\n",
              "    </tr>\n",
              "  </thead>\n",
              "  <tbody>\n",
              "    <tr>\n",
              "      <th>0</th>\n",
              "      <td>6.4</td>\n",
              "      <td>2.8</td>\n",
              "      <td>5.6</td>\n",
              "      <td>2.2</td>\n",
              "    </tr>\n",
              "    <tr>\n",
              "      <th>1</th>\n",
              "      <td>5.0</td>\n",
              "      <td>2.3</td>\n",
              "      <td>3.3</td>\n",
              "      <td>1.0</td>\n",
              "    </tr>\n",
              "    <tr>\n",
              "      <th>2</th>\n",
              "      <td>4.9</td>\n",
              "      <td>2.5</td>\n",
              "      <td>4.5</td>\n",
              "      <td>1.7</td>\n",
              "    </tr>\n",
              "    <tr>\n",
              "      <th>3</th>\n",
              "      <td>4.9</td>\n",
              "      <td>3.1</td>\n",
              "      <td>1.5</td>\n",
              "      <td>0.1</td>\n",
              "    </tr>\n",
              "    <tr>\n",
              "      <th>4</th>\n",
              "      <td>5.7</td>\n",
              "      <td>3.8</td>\n",
              "      <td>1.7</td>\n",
              "      <td>0.3</td>\n",
              "    </tr>\n",
              "  </tbody>\n",
              "</table>\n",
              "</div>"
            ],
            "text/plain": [
              "   SepalLength  SepalWidth  PetalLength  PetalWidth\n",
              "0          6.4         2.8          5.6         2.2\n",
              "1          5.0         2.3          3.3         1.0\n",
              "2          4.9         2.5          4.5         1.7\n",
              "3          4.9         3.1          1.5         0.1\n",
              "4          5.7         3.8          1.7         0.3"
            ]
          },
          "metadata": {
            "tags": []
          },
          "execution_count": 7
        }
      ]
    },
    {
      "cell_type": "code",
      "metadata": {
        "id": "jQJfPiL-Te-v",
        "colab_type": "code",
        "colab": {
          "base_uri": "https://localhost:8080/",
          "height": 119
        },
        "outputId": "a3a8de0e-27c5-4ac0-fa70-a41909f8ea0e"
      },
      "source": [
        "train_y.head()\n"
      ],
      "execution_count": 9,
      "outputs": [
        {
          "output_type": "execute_result",
          "data": {
            "text/plain": [
              "0    2\n",
              "1    1\n",
              "2    2\n",
              "3    0\n",
              "4    0\n",
              "Name: Species, dtype: int64"
            ]
          },
          "metadata": {
            "tags": []
          },
          "execution_count": 9
        }
      ]
    },
    {
      "cell_type": "code",
      "metadata": {
        "id": "EdzPiYrRTlnm",
        "colab_type": "code",
        "colab": {
          "base_uri": "https://localhost:8080/",
          "height": 119
        },
        "outputId": "0e46fac1-3047-4399-c2a1-721a0f5a4264"
      },
      "source": [
        "test_y.head()"
      ],
      "execution_count": 10,
      "outputs": [
        {
          "output_type": "execute_result",
          "data": {
            "text/plain": [
              "0    1\n",
              "1    2\n",
              "2    0\n",
              "3    1\n",
              "4    1\n",
              "Name: Species, dtype: int64"
            ]
          },
          "metadata": {
            "tags": []
          },
          "execution_count": 10
        }
      ]
    },
    {
      "cell_type": "code",
      "metadata": {
        "id": "pL1PM6eST8va",
        "colab_type": "code",
        "colab": {
          "base_uri": "https://localhost:8080/",
          "height": 119
        },
        "outputId": "c69fbd11-372d-4c70-c342-712d278eb864"
      },
      "source": [
        "x_y = train_play.pop(\"SepalLength\")\n",
        "x_y.head()"
      ],
      "execution_count": 15,
      "outputs": [
        {
          "output_type": "execute_result",
          "data": {
            "text/plain": [
              "0    6.4\n",
              "1    5.0\n",
              "2    4.9\n",
              "3    4.9\n",
              "4    5.7\n",
              "Name: SepalLength, dtype: float64"
            ]
          },
          "metadata": {
            "tags": []
          },
          "execution_count": 15
        }
      ]
    },
    {
      "cell_type": "markdown",
      "metadata": {
        "id": "jZx1L_1Vcmxv",
        "colab_type": "text"
      },
      "source": [
        "## Overview of programming with Estimators\n",
        "\n",
        "Now that you have the data set up, you can define a model using a TensorFlow Estimator. An Estimator is any class derived from `tf.estimator.Estimator`. TensorFlow\n",
        "provides a collection of\n",
        "`tf.estimator`\n",
        "(for example, `LinearRegressor`) to implement common ML algorithms. Beyond\n",
        "those, you may write your own\n",
        "[custom Estimators](https://www.tensorflow.org/guide/custom_estimators).\n",
        "We recommend using pre-made Estimators when just getting started.\n",
        "\n",
        "To write a TensorFlow program based on pre-made Estimators, you must perform the\n",
        "following tasks:\n",
        "\n",
        "* Create one or more input functions.\n",
        "* Define the model's feature columns.\n",
        "* Instantiate an Estimator, specifying the feature columns and various\n",
        "  hyperparameters.\n",
        "* Call one or more methods on the Estimator object, passing the appropriate\n",
        "  input function as the source of the data.\n",
        "\n",
        "Let's see how those tasks are implemented for Iris classification."
      ]
    },
    {
      "cell_type": "markdown",
      "metadata": {
        "id": "2OcguDfBcmmg",
        "colab_type": "text"
      },
      "source": [
        "## Create input functions\n",
        "\n",
        "You must create input functions to supply data for training,\n",
        "evaluating, and prediction.\n",
        "\n",
        "An **input function** is a function that returns a `tf.data.Dataset` object\n",
        "which outputs the following two-element tuple:\n",
        "\n",
        "* [`features`](https://developers.google.com/machine-learning/glossary/#feature) - A Python dictionary in which:\n",
        "    * Each key is the name of a feature.\n",
        "    * Each value is an array containing all of that feature's values.\n",
        "* `label` - An array containing the values of the\n",
        "  [label](https://developers.google.com/machine-learning/glossary/#label) for\n",
        "  every example.\n",
        "\n",
        "Just to demonstrate the format of the input function, here's a simple\n",
        "implementation:"
      ]
    },
    {
      "cell_type": "code",
      "metadata": {
        "id": "nzr5vRr5caGF",
        "colab_type": "code",
        "colab": {}
      },
      "source": [
        "def input_evaluation_set():\n",
        "    features = {'SepalLength': np.array([6.4, 5.0]),\n",
        "                'SepalWidth':  np.array([2.8, 2.3]),\n",
        "                'PetalLength': np.array([5.6, 3.3]),\n",
        "                'PetalWidth':  np.array([2.2, 1.0])}\n",
        "    labels = np.array([2, 1])\n",
        "    return features, labels"
      ],
      "execution_count": 11,
      "outputs": []
    },
    {
      "cell_type": "code",
      "metadata": {
        "id": "Df0boETSYel8",
        "colab_type": "code",
        "colab": {
          "base_uri": "https://localhost:8080/",
          "height": 51
        },
        "outputId": "0369a512-fee3-42c3-d3cf-4a31b9c8bb8a"
      },
      "source": [
        "features, labels = input_evaluation_set()\n",
        "print(features)\n",
        "print(labels)"
      ],
      "execution_count": 12,
      "outputs": [
        {
          "output_type": "stream",
          "text": [
            "{'SepalLength': array([6.4, 5. ]), 'SepalWidth': array([2.8, 2.3]), 'PetalLength': array([5.6, 3.3]), 'PetalWidth': array([2.2, 1. ])}\n",
            "[2 1]\n"
          ],
          "name": "stdout"
        }
      ]
    },
    {
      "cell_type": "markdown",
      "metadata": {
        "id": "NpXvGjfnjHgY",
        "colab_type": "text"
      },
      "source": [
        "Your input function may generate the `features` dictionary and `label` list any\n",
        "way you like. However, we recommend using TensorFlow's [Dataset API](https://www.tensorflow.org/guide/datasets), which can\n",
        "parse all sorts of data.\n",
        "\n",
        "The Dataset API can handle a lot of common cases for you. For example,\n",
        "using the Dataset API, you can easily read in records from a large collection\n",
        "of files in parallel and join them into a single stream.\n",
        "\n",
        "To keep things simple in this example you are going to load the data with\n",
        "[pandas](https://pandas.pydata.org/), and build an input pipeline from this\n",
        "in-memory data:\n"
      ]
    },
    {
      "cell_type": "code",
      "metadata": {
        "id": "T20u1anCi8NP",
        "colab_type": "code",
        "colab": {}
      },
      "source": [
        "def input_fn(features, labels, training=True, batch_size=256):\n",
        "    \"\"\"An input function for training or evaluating\"\"\"\n",
        "    # Convert the inputs to a Dataset.\n",
        "    dataset = tf.data.Dataset.from_tensor_slices((dict(features), labels))\n",
        "\n",
        "    # Shuffle and repeat if you are in training mode.\n",
        "    if training:\n",
        "        dataset = dataset.shuffle(1000).repeat()\n",
        "    \n",
        "    return dataset.batch(batch_size)\n"
      ],
      "execution_count": 13,
      "outputs": []
    },
    {
      "cell_type": "code",
      "metadata": {
        "id": "QFeRrhJrZXXP",
        "colab_type": "code",
        "colab": {
          "base_uri": "https://localhost:8080/",
          "height": 54
        },
        "outputId": "5f901c1e-66dc-4b1a-9aa1-c2b16abd1e37"
      },
      "source": [
        "ds = input_fn(features, labels)\n",
        "print(ds.batch)"
      ],
      "execution_count": 14,
      "outputs": [
        {
          "output_type": "stream",
          "text": [
            "<bound method DatasetV2.batch of <BatchDataset shapes: ({SepalLength: (None,), SepalWidth: (None,), PetalLength: (None,), PetalWidth: (None,)}, (None,)), types: ({SepalLength: tf.float64, SepalWidth: tf.float64, PetalLength: tf.float64, PetalWidth: tf.float64}, tf.int64)>>\n"
          ],
          "name": "stdout"
        }
      ]
    },
    {
      "cell_type": "markdown",
      "metadata": {
        "id": "xIwcFT4MlZEi",
        "colab_type": "text"
      },
      "source": [
        "## Define the feature columns\n",
        "\n",
        "A [**feature column**](https://developers.google.com/machine-learning/glossary/#feature_columns)\n",
        "is an object describing how the model should use raw input data from the\n",
        "features dictionary. When you build an Estimator model, you pass it a list of\n",
        "feature columns that describes each of the features you want the model to use.\n",
        "The `tf.feature_column` module provides many options for representing data\n",
        "to the model.\n",
        "\n",
        "For Iris, the 4 raw features are numeric values, so we'll build a list of\n",
        "feature columns to tell the Estimator model to represent each of the four\n",
        "features as 32-bit floating-point values. Therefore, the code to create the\n",
        "feature column is:"
      ]
    },
    {
      "cell_type": "code",
      "metadata": {
        "id": "fxkwTUR8ar0Q",
        "colab_type": "code",
        "colab": {
          "base_uri": "https://localhost:8080/",
          "height": 493
        },
        "outputId": "0edb43a3-0329-469e-de65-167fb0fd83d5"
      },
      "source": [
        "print(train.keys)\n",
        "train.keys"
      ],
      "execution_count": 15,
      "outputs": [
        {
          "output_type": "stream",
          "text": [
            "<bound method NDFrame.keys of      SepalLength  SepalWidth  PetalLength  PetalWidth\n",
            "0            6.4         2.8          5.6         2.2\n",
            "1            5.0         2.3          3.3         1.0\n",
            "2            4.9         2.5          4.5         1.7\n",
            "3            4.9         3.1          1.5         0.1\n",
            "4            5.7         3.8          1.7         0.3\n",
            "..           ...         ...          ...         ...\n",
            "115          5.5         2.6          4.4         1.2\n",
            "116          5.7         3.0          4.2         1.2\n",
            "117          4.4         2.9          1.4         0.2\n",
            "118          4.8         3.0          1.4         0.1\n",
            "119          5.5         2.4          3.7         1.0\n",
            "\n",
            "[120 rows x 4 columns]>\n"
          ],
          "name": "stdout"
        },
        {
          "output_type": "execute_result",
          "data": {
            "text/plain": [
              "<bound method NDFrame.keys of      SepalLength  SepalWidth  PetalLength  PetalWidth\n",
              "0            6.4         2.8          5.6         2.2\n",
              "1            5.0         2.3          3.3         1.0\n",
              "2            4.9         2.5          4.5         1.7\n",
              "3            4.9         3.1          1.5         0.1\n",
              "4            5.7         3.8          1.7         0.3\n",
              "..           ...         ...          ...         ...\n",
              "115          5.5         2.6          4.4         1.2\n",
              "116          5.7         3.0          4.2         1.2\n",
              "117          4.4         2.9          1.4         0.2\n",
              "118          4.8         3.0          1.4         0.1\n",
              "119          5.5         2.4          3.7         1.0\n",
              "\n",
              "[120 rows x 4 columns]>"
            ]
          },
          "metadata": {
            "tags": []
          },
          "execution_count": 15
        }
      ]
    },
    {
      "cell_type": "code",
      "metadata": {
        "id": "ZTTriO8FlSML",
        "colab_type": "code",
        "colab": {}
      },
      "source": [
        "# Feature columns describe how to use the input.\n",
        "my_feature_columns = []\n",
        "for key in train.keys():\n",
        "    my_feature_columns.append(tf.feature_column.numeric_column(key=key))"
      ],
      "execution_count": 16,
      "outputs": []
    },
    {
      "cell_type": "code",
      "metadata": {
        "id": "3v67phUfbUFl",
        "colab_type": "code",
        "colab": {
          "base_uri": "https://localhost:8080/",
          "height": 85
        },
        "outputId": "03eb2110-12ca-4ac4-80fe-efdfdbd4f73e"
      },
      "source": [
        "my_feature_columns"
      ],
      "execution_count": 17,
      "outputs": [
        {
          "output_type": "execute_result",
          "data": {
            "text/plain": [
              "[NumericColumn(key='SepalLength', shape=(1,), default_value=None, dtype=tf.float32, normalizer_fn=None),\n",
              " NumericColumn(key='SepalWidth', shape=(1,), default_value=None, dtype=tf.float32, normalizer_fn=None),\n",
              " NumericColumn(key='PetalLength', shape=(1,), default_value=None, dtype=tf.float32, normalizer_fn=None),\n",
              " NumericColumn(key='PetalWidth', shape=(1,), default_value=None, dtype=tf.float32, normalizer_fn=None)]"
            ]
          },
          "metadata": {
            "tags": []
          },
          "execution_count": 17
        }
      ]
    },
    {
      "cell_type": "code",
      "metadata": {
        "id": "kYCpQFK1bbWk",
        "colab_type": "code",
        "colab": {
          "base_uri": "https://localhost:8080/",
          "height": 34
        },
        "outputId": "3be30a3c-0e25-4fde-9a36-af33a34c9562"
      },
      "source": [
        "my_feature_columns[0]"
      ],
      "execution_count": 18,
      "outputs": [
        {
          "output_type": "execute_result",
          "data": {
            "text/plain": [
              "NumericColumn(key='SepalLength', shape=(1,), default_value=None, dtype=tf.float32, normalizer_fn=None)"
            ]
          },
          "metadata": {
            "tags": []
          },
          "execution_count": 18
        }
      ]
    },
    {
      "cell_type": "markdown",
      "metadata": {
        "id": "jpKkhMoZljco",
        "colab_type": "text"
      },
      "source": [
        "Feature columns can be far more sophisticated than those we're showing here.  You can read more about Feature Columns in [this guide](https://www.tensorflow.org/guide/feature_columns).\n",
        "\n",
        "Now that you have the description of how you want the model to represent the raw\n",
        "features, you can build the estimator."
      ]
    },
    {
      "cell_type": "markdown",
      "metadata": {
        "id": "kuE59XHEl22K",
        "colab_type": "text"
      },
      "source": [
        "## Instantiate an estimator\n",
        "\n",
        "The Iris problem is a classic classification problem. Fortunately, TensorFlow\n",
        "provides several pre-made classifier Estimators, including:\n",
        "\n",
        "* `tf.estimator.DNNClassifier` for deep models that perform multi-class\n",
        "  classification.\n",
        "* `tf.estimator.DNNLinearCombinedClassifier` for wide & deep models.\n",
        "* `tf.estimator.LinearClassifier` for classifiers based on linear models.\n",
        "\n",
        "For the Iris problem, `tf.estimator.DNNClassifier` seems like the best choice.\n",
        "Here's how you instantiated this Estimator:"
      ]
    },
    {
      "cell_type": "code",
      "metadata": {
        "id": "qnf4o2V5lcPn",
        "colab_type": "code",
        "colab": {
          "base_uri": "https://localhost:8080/",
          "height": 190
        },
        "outputId": "63fbf84e-bff6-4e2b-b4de-bd9f59e3efbe"
      },
      "source": [
        "# Build a DNN with 2 hidden layers with 30 and 10 hidden nodes each.\n",
        "classifier = tf.estimator.DNNClassifier(\n",
        "    feature_columns=my_feature_columns,\n",
        "    # Two hidden layers of 30 and 10 nodes respectively.\n",
        "    hidden_units=[30, 10],\n",
        "    # The model must choose between 3 classes.\n",
        "    n_classes=3)"
      ],
      "execution_count": 22,
      "outputs": [
        {
          "output_type": "stream",
          "text": [
            "INFO:tensorflow:Using default config.\n",
            "WARNING:tensorflow:Using temporary folder as model directory: /tmp/tmpadlevu60\n",
            "INFO:tensorflow:Using config: {'_model_dir': '/tmp/tmpadlevu60', '_tf_random_seed': None, '_save_summary_steps': 100, '_save_checkpoints_steps': None, '_save_checkpoints_secs': 600, '_session_config': allow_soft_placement: true\n",
            "graph_options {\n",
            "  rewrite_options {\n",
            "    meta_optimizer_iterations: ONE\n",
            "  }\n",
            "}\n",
            ", '_keep_checkpoint_max': 5, '_keep_checkpoint_every_n_hours': 10000, '_log_step_count_steps': 100, '_train_distribute': None, '_device_fn': None, '_protocol': None, '_eval_distribute': None, '_experimental_distribute': None, '_experimental_max_worker_delay_secs': None, '_session_creation_timeout_secs': 7200, '_service': None, '_cluster_spec': ClusterSpec({}), '_task_type': 'worker', '_task_id': 0, '_global_id_in_cluster': 0, '_master': '', '_evaluation_master': '', '_is_chief': True, '_num_ps_replicas': 0, '_num_worker_replicas': 1}\n"
          ],
          "name": "stdout"
        }
      ]
    },
    {
      "cell_type": "markdown",
      "metadata": {
        "id": "tzzt5nUpmEe3",
        "colab_type": "text"
      },
      "source": [
        "## Train, Evaluate, and Predict\n",
        "\n",
        "Now that you have an Estimator object, you can call methods to do the following:\n",
        "\n",
        "* Train the model.\n",
        "* Evaluate the trained model.\n",
        "* Use the trained model to make predictions."
      ]
    },
    {
      "cell_type": "markdown",
      "metadata": {
        "id": "rnihuLdWmE75",
        "colab_type": "text"
      },
      "source": [
        "### Train the model\n",
        "\n",
        "Train the model by calling the Estimator's `train` method as follows:"
      ]
    },
    {
      "cell_type": "code",
      "metadata": {
        "id": "4jW08YtPl1iS",
        "colab_type": "code",
        "colab": {
          "base_uri": "https://localhost:8080/",
          "height": 1000
        },
        "outputId": "b9a3de92-b519-4268-df90-1ba7ea92f7b3"
      },
      "source": [
        "# Train the Model.\n",
        "classifier.train(\n",
        "    input_fn=lambda: input_fn(train, train_y, training=True),\n",
        "    steps=5000)"
      ],
      "execution_count": 23,
      "outputs": [
        {
          "output_type": "stream",
          "text": [
            "INFO:tensorflow:Calling model_fn.\n",
            "WARNING:tensorflow:Layer dnn is casting an input tensor from dtype float64 to the layer's dtype of float32, which is new behavior in TensorFlow 2.  The layer has dtype float32 because its dtype defaults to floatx.\n",
            "\n",
            "If you intended to run this layer in float32, you can safely ignore this warning. If in doubt, this warning is likely only an issue if you are porting a TensorFlow 1.X model to TensorFlow 2.\n",
            "\n",
            "To change all layers to have dtype float64 by default, call `tf.keras.backend.set_floatx('float64')`. To change just this layer, pass dtype='float64' to the layer constructor. If you are the author of this layer, you can disable autocasting by passing autocast=False to the base Layer constructor.\n",
            "\n",
            "INFO:tensorflow:Done calling model_fn.\n",
            "INFO:tensorflow:Create CheckpointSaverHook.\n",
            "INFO:tensorflow:Graph was finalized.\n",
            "INFO:tensorflow:Running local_init_op.\n",
            "INFO:tensorflow:Done running local_init_op.\n",
            "INFO:tensorflow:Calling checkpoint listeners before saving checkpoint 0...\n",
            "INFO:tensorflow:Saving checkpoints for 0 into /tmp/tmpadlevu60/model.ckpt.\n",
            "INFO:tensorflow:Calling checkpoint listeners after saving checkpoint 0...\n",
            "INFO:tensorflow:loss = 2.2153664, step = 0\n",
            "INFO:tensorflow:global_step/sec: 438.1\n",
            "INFO:tensorflow:loss = 1.365709, step = 100 (0.232 sec)\n",
            "INFO:tensorflow:global_step/sec: 516.211\n",
            "INFO:tensorflow:loss = 1.1285481, step = 200 (0.191 sec)\n",
            "INFO:tensorflow:global_step/sec: 557.65\n",
            "INFO:tensorflow:loss = 0.9698357, step = 300 (0.181 sec)\n",
            "INFO:tensorflow:global_step/sec: 551.423\n",
            "INFO:tensorflow:loss = 0.88378274, step = 400 (0.180 sec)\n",
            "INFO:tensorflow:global_step/sec: 563.874\n",
            "INFO:tensorflow:loss = 0.8476506, step = 500 (0.180 sec)\n",
            "INFO:tensorflow:global_step/sec: 516.034\n",
            "INFO:tensorflow:loss = 0.8189925, step = 600 (0.191 sec)\n",
            "INFO:tensorflow:global_step/sec: 528.787\n",
            "INFO:tensorflow:loss = 0.8005252, step = 700 (0.189 sec)\n",
            "INFO:tensorflow:global_step/sec: 541.886\n",
            "INFO:tensorflow:loss = 0.76598954, step = 800 (0.186 sec)\n",
            "INFO:tensorflow:global_step/sec: 570.036\n",
            "INFO:tensorflow:loss = 0.7484685, step = 900 (0.177 sec)\n",
            "INFO:tensorflow:global_step/sec: 561.09\n",
            "INFO:tensorflow:loss = 0.7273555, step = 1000 (0.178 sec)\n",
            "INFO:tensorflow:global_step/sec: 567.771\n",
            "INFO:tensorflow:loss = 0.7177521, step = 1100 (0.173 sec)\n",
            "INFO:tensorflow:global_step/sec: 512.461\n",
            "INFO:tensorflow:loss = 0.70139503, step = 1200 (0.198 sec)\n",
            "INFO:tensorflow:global_step/sec: 508.256\n",
            "INFO:tensorflow:loss = 0.6840634, step = 1300 (0.195 sec)\n",
            "INFO:tensorflow:global_step/sec: 555.076\n",
            "INFO:tensorflow:loss = 0.6803242, step = 1400 (0.180 sec)\n",
            "INFO:tensorflow:global_step/sec: 579.583\n",
            "INFO:tensorflow:loss = 0.6567557, step = 1500 (0.173 sec)\n",
            "INFO:tensorflow:global_step/sec: 543.046\n",
            "INFO:tensorflow:loss = 0.64519584, step = 1600 (0.184 sec)\n",
            "INFO:tensorflow:global_step/sec: 536.788\n",
            "INFO:tensorflow:loss = 0.64745224, step = 1700 (0.189 sec)\n",
            "INFO:tensorflow:global_step/sec: 538.202\n",
            "INFO:tensorflow:loss = 0.62629014, step = 1800 (0.186 sec)\n",
            "INFO:tensorflow:global_step/sec: 534.644\n",
            "INFO:tensorflow:loss = 0.62647116, step = 1900 (0.187 sec)\n",
            "INFO:tensorflow:global_step/sec: 508.452\n",
            "INFO:tensorflow:loss = 0.6121119, step = 2000 (0.194 sec)\n",
            "INFO:tensorflow:global_step/sec: 458.377\n",
            "INFO:tensorflow:loss = 0.58984315, step = 2100 (0.222 sec)\n",
            "INFO:tensorflow:global_step/sec: 540.202\n",
            "INFO:tensorflow:loss = 0.59230316, step = 2200 (0.182 sec)\n",
            "INFO:tensorflow:global_step/sec: 457.956\n",
            "INFO:tensorflow:loss = 0.56867206, step = 2300 (0.219 sec)\n",
            "INFO:tensorflow:global_step/sec: 519.675\n",
            "INFO:tensorflow:loss = 0.56108785, step = 2400 (0.195 sec)\n",
            "WARNING:tensorflow:It seems that global step (tf.train.get_global_step) has not been increased. Current value (could be stable): 2434 vs previous value: 2434. You could increase the global step by passing tf.train.get_global_step() to Optimizer.apply_gradients or Optimizer.minimize.\n",
            "INFO:tensorflow:global_step/sec: 476.37\n",
            "INFO:tensorflow:loss = 0.5612223, step = 2500 (0.207 sec)\n",
            "INFO:tensorflow:global_step/sec: 527.969\n",
            "INFO:tensorflow:loss = 0.5397581, step = 2600 (0.190 sec)\n",
            "INFO:tensorflow:global_step/sec: 523.653\n",
            "INFO:tensorflow:loss = 0.5296086, step = 2700 (0.190 sec)\n",
            "INFO:tensorflow:global_step/sec: 556.178\n",
            "INFO:tensorflow:loss = 0.52991366, step = 2800 (0.182 sec)\n",
            "INFO:tensorflow:global_step/sec: 522.921\n",
            "INFO:tensorflow:loss = 0.52339524, step = 2900 (0.189 sec)\n",
            "INFO:tensorflow:global_step/sec: 455.4\n",
            "INFO:tensorflow:loss = 0.5231971, step = 3000 (0.220 sec)\n",
            "INFO:tensorflow:global_step/sec: 522.724\n",
            "INFO:tensorflow:loss = 0.49986807, step = 3100 (0.191 sec)\n",
            "INFO:tensorflow:global_step/sec: 552.615\n",
            "INFO:tensorflow:loss = 0.4946903, step = 3200 (0.183 sec)\n",
            "INFO:tensorflow:global_step/sec: 527.28\n",
            "INFO:tensorflow:loss = 0.4911775, step = 3300 (0.190 sec)\n",
            "INFO:tensorflow:global_step/sec: 537.472\n",
            "INFO:tensorflow:loss = 0.49882782, step = 3400 (0.186 sec)\n",
            "INFO:tensorflow:global_step/sec: 550.99\n",
            "INFO:tensorflow:loss = 0.49461776, step = 3500 (0.182 sec)\n",
            "INFO:tensorflow:global_step/sec: 533.343\n",
            "INFO:tensorflow:loss = 0.48798257, step = 3600 (0.187 sec)\n",
            "INFO:tensorflow:global_step/sec: 532.639\n",
            "INFO:tensorflow:loss = 0.4808411, step = 3700 (0.185 sec)\n",
            "INFO:tensorflow:global_step/sec: 552.963\n",
            "INFO:tensorflow:loss = 0.47327372, step = 3800 (0.184 sec)\n",
            "INFO:tensorflow:global_step/sec: 547.952\n",
            "INFO:tensorflow:loss = 0.46638775, step = 3900 (0.181 sec)\n",
            "INFO:tensorflow:global_step/sec: 508.83\n",
            "INFO:tensorflow:loss = 0.46449488, step = 4000 (0.195 sec)\n",
            "INFO:tensorflow:global_step/sec: 558.501\n",
            "INFO:tensorflow:loss = 0.4601941, step = 4100 (0.180 sec)\n",
            "INFO:tensorflow:global_step/sec: 541.513\n",
            "INFO:tensorflow:loss = 0.45939463, step = 4200 (0.188 sec)\n",
            "INFO:tensorflow:global_step/sec: 549.227\n",
            "INFO:tensorflow:loss = 0.45216507, step = 4300 (0.181 sec)\n",
            "INFO:tensorflow:global_step/sec: 528.015\n",
            "INFO:tensorflow:loss = 0.45683366, step = 4400 (0.187 sec)\n",
            "INFO:tensorflow:global_step/sec: 543.436\n",
            "INFO:tensorflow:loss = 0.4471323, step = 4500 (0.185 sec)\n",
            "INFO:tensorflow:global_step/sec: 462.852\n",
            "INFO:tensorflow:loss = 0.43410558, step = 4600 (0.219 sec)\n",
            "INFO:tensorflow:global_step/sec: 538.71\n",
            "INFO:tensorflow:loss = 0.42845803, step = 4700 (0.182 sec)\n",
            "INFO:tensorflow:global_step/sec: 578.335\n",
            "INFO:tensorflow:loss = 0.42896122, step = 4800 (0.174 sec)\n",
            "INFO:tensorflow:global_step/sec: 584.78\n",
            "INFO:tensorflow:loss = 0.44132698, step = 4900 (0.173 sec)\n",
            "INFO:tensorflow:Calling checkpoint listeners before saving checkpoint 5000...\n",
            "INFO:tensorflow:Saving checkpoints for 5000 into /tmp/tmpadlevu60/model.ckpt.\n",
            "INFO:tensorflow:Calling checkpoint listeners after saving checkpoint 5000...\n",
            "INFO:tensorflow:Loss for final step: 0.4356327.\n"
          ],
          "name": "stdout"
        },
        {
          "output_type": "execute_result",
          "data": {
            "text/plain": [
              "<tensorflow_estimator.python.estimator.canned.dnn.DNNClassifierV2 at 0x7f737d8b7f28>"
            ]
          },
          "metadata": {
            "tags": []
          },
          "execution_count": 23
        }
      ]
    },
    {
      "cell_type": "markdown",
      "metadata": {
        "id": "ybiTFDmlmes8",
        "colab_type": "text"
      },
      "source": [
        "Note that you wrap up your `input_fn` call in a\n",
        "[`lambda`](https://docs.python.org/3/tutorial/controlflow.html)\n",
        "to capture the arguments while providing an input function that takes no\n",
        "arguments, as expected by the Estimator. The `steps` argument tells the method\n",
        "to stop training after a number of training steps.\n"
      ]
    },
    {
      "cell_type": "markdown",
      "metadata": {
        "id": "HNvJLH8hmsdf",
        "colab_type": "text"
      },
      "source": [
        "### Evaluate the trained model\n",
        "\n",
        "Now that the model has been trained, you can get some statistics on its\n",
        "performance. The following code block evaluates the accuracy of the trained\n",
        "model on the test data:\n"
      ]
    },
    {
      "cell_type": "code",
      "metadata": {
        "id": "A169XuO4mKxF",
        "colab_type": "code",
        "colab": {
          "base_uri": "https://localhost:8080/",
          "height": 377
        },
        "outputId": "849ed1a9-60c1-4c2e-9ec5-0a352c32525d"
      },
      "source": [
        "eval_result = classifier.evaluate(\n",
        "    input_fn=lambda: input_fn(test, test_y, training=False))\n",
        "\n",
        "print('\\nTest set accuracy: {accuracy:0.3f}\\n'.format(**eval_result))"
      ],
      "execution_count": 24,
      "outputs": [
        {
          "output_type": "stream",
          "text": [
            "INFO:tensorflow:Calling model_fn.\n",
            "WARNING:tensorflow:Layer dnn is casting an input tensor from dtype float64 to the layer's dtype of float32, which is new behavior in TensorFlow 2.  The layer has dtype float32 because its dtype defaults to floatx.\n",
            "\n",
            "If you intended to run this layer in float32, you can safely ignore this warning. If in doubt, this warning is likely only an issue if you are porting a TensorFlow 1.X model to TensorFlow 2.\n",
            "\n",
            "To change all layers to have dtype float64 by default, call `tf.keras.backend.set_floatx('float64')`. To change just this layer, pass dtype='float64' to the layer constructor. If you are the author of this layer, you can disable autocasting by passing autocast=False to the base Layer constructor.\n",
            "\n",
            "INFO:tensorflow:Done calling model_fn.\n",
            "INFO:tensorflow:Starting evaluation at 2020-09-22T18:50:18Z\n",
            "INFO:tensorflow:Graph was finalized.\n",
            "INFO:tensorflow:Restoring parameters from /tmp/tmpadlevu60/model.ckpt-5000\n",
            "INFO:tensorflow:Running local_init_op.\n",
            "INFO:tensorflow:Done running local_init_op.\n",
            "INFO:tensorflow:Inference Time : 0.27052s\n",
            "INFO:tensorflow:Finished evaluation at 2020-09-22-18:50:19\n",
            "INFO:tensorflow:Saving dict for global step 5000: accuracy = 0.76666665, average_loss = 0.51475996, global_step = 5000, loss = 0.51475996\n",
            "INFO:tensorflow:Saving 'checkpoint_path' summary for global step 5000: /tmp/tmpadlevu60/model.ckpt-5000\n",
            "\n",
            "Test set accuracy: 0.767\n",
            "\n"
          ],
          "name": "stdout"
        }
      ]
    },
    {
      "cell_type": "markdown",
      "metadata": {
        "id": "VnPMP5EHph17",
        "colab_type": "text"
      },
      "source": [
        "Unlike the call to the `train` method, you did not pass the `steps`\n",
        "argument to evaluate. The `input_fn` for eval only yields a single\n",
        "[epoch](https://developers.google.com/machine-learning/glossary/#epoch) of data.\n",
        "\n",
        "\n",
        "The `eval_result` dictionary also contains the `average_loss` (mean loss per sample), the `loss` (mean loss per mini-batch) and the value of the estimator's `global_step` (the number of training iterations it underwent).\n"
      ]
    },
    {
      "cell_type": "markdown",
      "metadata": {
        "id": "ur624ibpp52X",
        "colab_type": "text"
      },
      "source": [
        "### Making predictions (inferring) from the trained model\n",
        "\n",
        "You now have a trained model that produces good evaluation results.\n",
        "You can now use the trained model to predict the species of an Iris flower\n",
        "based on some unlabeled measurements. As with training and evaluation, you make\n",
        "predictions using a single function call:"
      ]
    },
    {
      "cell_type": "code",
      "metadata": {
        "id": "wltc0jpgng38",
        "colab_type": "code",
        "colab": {
          "base_uri": "https://localhost:8080/",
          "height": 34
        },
        "outputId": "1db497d1-6eb8-4e52-a74f-7559eb37cb4e"
      },
      "source": [
        "# Generate predictions from the model\n",
        "expected = ['Setosa', 'Versicolor', 'Virginica']\n",
        "predict_x = {\n",
        "    'SepalLength': [5.1, 5.9, 6.9],\n",
        "    'SepalWidth': [3.3, 3.0, 3.1],\n",
        "    'PetalLength': [1.7, 4.2, 5.4],\n",
        "    'PetalWidth': [0.5, 1.5, 2.1],\n",
        "}\n",
        "\n",
        "def input_fn(features, batch_size=256):\n",
        "    \"\"\"An input function for prediction.\"\"\"\n",
        "    # Convert the inputs to a Dataset without labels.\n",
        "    return tf.data.Dataset.from_tensor_slices(dict(features)).batch(batch_size)\n",
        "\n",
        "predictions = classifier.predict(\n",
        "    input_fn=lambda: input_fn(predict_x))\n",
        "#print(predictions)"
      ],
      "execution_count": 26,
      "outputs": [
        {
          "output_type": "stream",
          "text": [
            "<generator object Estimator.predict at 0x7f737a58ff10>\n"
          ],
          "name": "stdout"
        }
      ]
    },
    {
      "cell_type": "markdown",
      "metadata": {
        "id": "JsETKQo0rHvi",
        "colab_type": "text"
      },
      "source": [
        "The `predict` method returns a Python iterable, yielding a dictionary of\n",
        "prediction results for each example. The following code prints a few\n",
        "predictions and their probabilities:"
      ]
    },
    {
      "cell_type": "code",
      "metadata": {
        "id": "Efm4mLzkrCxp",
        "colab_type": "code",
        "colab": {
          "base_uri": "https://localhost:8080/",
          "height": 170
        },
        "outputId": "d29c8946-28e6-4f15-c66b-21198b097d01"
      },
      "source": [
        "for pred_dict, expec in zip(predictions, expected):\n",
        "    class_id = pred_dict['class_ids'][0]\n",
        "    probability = pred_dict['probabilities'][class_id]\n",
        "\n",
        "    print('Prediction is \"{}\" ({:.1f}%), expected \"{}\"'.format(\n",
        "        SPECIES[class_id], 100 * probability, expec))"
      ],
      "execution_count": 27,
      "outputs": [
        {
          "output_type": "stream",
          "text": [
            "INFO:tensorflow:Calling model_fn.\n",
            "INFO:tensorflow:Done calling model_fn.\n",
            "INFO:tensorflow:Graph was finalized.\n",
            "INFO:tensorflow:Restoring parameters from /tmp/tmpadlevu60/model.ckpt-5000\n",
            "INFO:tensorflow:Running local_init_op.\n",
            "INFO:tensorflow:Done running local_init_op.\n",
            "Prediction is \"Setosa\" (84.0%), expected \"Setosa\"\n",
            "Prediction is \"Versicolor\" (46.1%), expected \"Versicolor\"\n",
            "Prediction is \"Virginica\" (59.7%), expected \"Virginica\"\n"
          ],
          "name": "stdout"
        }
      ]
    }
  ]
}