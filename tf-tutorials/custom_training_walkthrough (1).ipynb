{
  "nbformat": 4,
  "nbformat_minor": 0,
  "metadata": {
    "colab": {
      "name": "custom_training_walkthrough.ipynb",
      "provenance": [],
      "collapsed_sections": [],
      "toc_visible": true
    },
    "kernelspec": {
      "display_name": "Python 3",
      "name": "python3"
    }
  },
  "cells": [
    {
      "cell_type": "markdown",
      "metadata": {
        "id": "rwxGnsA92emp"
      },
      "source": [
        "##### Copyright 2018 The TensorFlow Authors."
      ]
    },
    {
      "cell_type": "code",
      "metadata": {
        "cellView": "form",
        "id": "CPII1rGR2rF9"
      },
      "source": [
        "#@title Licensed under the Apache License, Version 2.0 (the \"License\");\n",
        "# you may not use this file except in compliance with the License.\n",
        "# You may obtain a copy of the License at\n",
        "#\n",
        "# https://www.apache.org/licenses/LICENSE-2.0\n",
        "#\n",
        "# Unless required by applicable law or agreed to in writing, software\n",
        "# distributed under the License is distributed on an \"AS IS\" BASIS,\n",
        "# WITHOUT WARRANTIES OR CONDITIONS OF ANY KIND, either express or implied.\n",
        "# See the License for the specific language governing permissions and\n",
        "# limitations under the License."
      ],
      "execution_count": 1,
      "outputs": []
    },
    {
      "cell_type": "markdown",
      "metadata": {
        "id": "JtEZ1pCPn--z"
      },
      "source": [
        "# Custom training: walkthrough"
      ]
    },
    {
      "cell_type": "markdown",
      "metadata": {
        "id": "GV1F7tVTN3Dn"
      },
      "source": [
        "<table class=\"tfo-notebook-buttons\" align=\"left\">\n",
        "  <td>\n",
        "    <a target=\"_blank\" href=\"https://www.tensorflow.org/tutorials/customization/custom_training_walkthrough\"><img src=\"https://www.tensorflow.org/images/tf_logo_32px.png\" />View on TensorFlow.org</a>\n",
        "  </td>\n",
        "  <td>\n",
        "    <a target=\"_blank\" href=\"https://colab.research.google.com/github/tensorflow/docs/blob/master/site/en/tutorials/customization/custom_training_walkthrough.ipynb\"><img src=\"https://www.tensorflow.org/images/colab_logo_32px.png\" />Run in Google Colab</a>\n",
        "  </td>\n",
        "  <td>\n",
        "    <a target=\"_blank\" href=\"https://github.com/tensorflow/docs/blob/master/site/en/tutorials/customization/custom_training_walkthrough.ipynb\"><img src=\"https://www.tensorflow.org/images/GitHub-Mark-32px.png\" />View source on GitHub</a>\n",
        "  </td>\n",
        "  <td>\n",
        "    <a href=\"https://storage.googleapis.com/tensorflow_docs/docs/site/en/tutorials/customization/custom_training_walkthrough.ipynb\"><img src=\"https://www.tensorflow.org/images/download_logo_32px.png\" />Download notebook</a>\n",
        "  </td>\n",
        "</table>"
      ]
    },
    {
      "cell_type": "markdown",
      "metadata": {
        "id": "LDrzLFXE8T1l"
      },
      "source": [
        "This guide uses machine learning to *categorize* Iris flowers by species. It uses TensorFlow to:\n",
        "1. Build a model,\n",
        "2. Train this model on example data, and\n",
        "3. Use the model to make predictions about unknown data.\n",
        "\n",
        "## TensorFlow programming\n",
        "\n",
        "This guide uses these high-level TensorFlow concepts:\n",
        "\n",
        "* Use TensorFlow's default [eager execution](../../guide/eager.ipynb) development environment,\n",
        "* Import data with the [Datasets API](../../guide/datasets.ipynb),\n",
        "* Build models and layers with TensorFlow's [Keras API](../../guide/keras/overview.ipynb).\n",
        "\n",
        "This tutorial is structured like many TensorFlow programs:\n",
        "\n",
        "1. Import and parse the dataset.\n",
        "2. Select the type of model.\n",
        "3. Train the model.\n",
        "4. Evaluate the model's effectiveness.\n",
        "5. Use the trained model to make predictions."
      ]
    },
    {
      "cell_type": "markdown",
      "metadata": {
        "id": "yNr7H-AIoLOR"
      },
      "source": [
        "## Setup program"
      ]
    },
    {
      "cell_type": "markdown",
      "metadata": {
        "id": "1J3AuPBT9gyR"
      },
      "source": [
        "### Configure imports\n",
        "\n",
        "Import TensorFlow and the other required Python modules. By default, TensorFlow uses [eager execution](../../guide/eager.ipynb) to evaluate operations immediately, returning concrete values instead of creating a computational graph that is executed later. If you are used to a REPL or the `python` interactive console, this feels familiar."
      ]
    },
    {
      "cell_type": "code",
      "metadata": {
        "id": "jElLULrDhQZR"
      },
      "source": [
        "import os\n",
        "import matplotlib.pyplot as plt"
      ],
      "execution_count": 2,
      "outputs": []
    },
    {
      "cell_type": "code",
      "metadata": {
        "id": "bfV2Dai0Ow2o"
      },
      "source": [
        "import tensorflow as tf"
      ],
      "execution_count": 3,
      "outputs": []
    },
    {
      "cell_type": "code",
      "metadata": {
        "id": "g4Wzg69bnwK2",
        "outputId": "9c7f436b-d17b-4f01-8d25-5661efda6924",
        "colab": {
          "base_uri": "https://localhost:8080/"
        }
      },
      "source": [
        "print(\"TensorFlow version: {}\".format(tf.__version__))\n",
        "print(\"Eager execution: {}\".format(tf.executing_eagerly()))"
      ],
      "execution_count": 4,
      "outputs": [
        {
          "output_type": "stream",
          "text": [
            "TensorFlow version: 2.3.0\n",
            "Eager execution: True\n"
          ],
          "name": "stdout"
        }
      ]
    },
    {
      "cell_type": "markdown",
      "metadata": {
        "id": "Zx7wc0LuuxaJ"
      },
      "source": [
        "## The Iris classification problem\n",
        "\n",
        "Imagine you are a botanist seeking an automated way to categorize each Iris flower you find. Machine learning provides many algorithms to classify flowers statistically. For instance, a sophisticated machine learning program could classify flowers based on photographs. Our ambitions are more modest—we're going to classify Iris flowers based on the length and width measurements of their [sepals](https://en.wikipedia.org/wiki/Sepal) and [petals](https://en.wikipedia.org/wiki/Petal).\n",
        "\n",
        "The Iris genus entails about 300 species, but our program will only classify the following three:\n",
        "\n",
        "* Iris setosa\n",
        "* Iris virginica\n",
        "* Iris versicolor\n",
        "\n",
        "<table>\n",
        "  <tr><td>\n",
        "    <img src=\"https://www.tensorflow.org/images/iris_three_species.jpg\"\n",
        "         alt=\"Petal geometry compared for three iris species: Iris setosa, Iris virginica, and Iris versicolor\">\n",
        "  </td></tr>\n",
        "  <tr><td align=\"center\">\n",
        "    <b>Figure 1.</b> <a href=\"https://commons.wikimedia.org/w/index.php?curid=170298\">Iris setosa</a> (by <a href=\"https://commons.wikimedia.org/wiki/User:Radomil\">Radomil</a>, CC BY-SA 3.0), <a href=\"https://commons.wikimedia.org/w/index.php?curid=248095\">Iris versicolor</a>, (by <a href=\"https://commons.wikimedia.org/wiki/User:Dlanglois\">Dlanglois</a>, CC BY-SA 3.0), and <a href=\"https://www.flickr.com/photos/33397993@N05/3352169862\">Iris virginica</a> (by <a href=\"https://www.flickr.com/photos/33397993@N05\">Frank Mayfield</a>, CC BY-SA 2.0).<br/>&nbsp;\n",
        "  </td></tr>\n",
        "</table>\n",
        "\n",
        "Fortunately, someone has already created a [dataset of 120 Iris flowers](https://en.wikipedia.org/wiki/Iris_flower_data_set) with the sepal and petal measurements. This is a classic dataset that is popular for beginner machine learning classification problems."
      ]
    },
    {
      "cell_type": "markdown",
      "metadata": {
        "id": "3Px6KAg0Jowz"
      },
      "source": [
        "## Import and parse the training dataset\n",
        "\n",
        "Download the dataset file and convert it into a structure that can be used by this Python program.\n",
        "\n",
        "### Download the dataset\n",
        "\n",
        "Download the training dataset file using the `tf.keras.utils.get_file` function. This returns the file path of the downloaded file:"
      ]
    },
    {
      "cell_type": "code",
      "metadata": {
        "id": "J6c7uEU9rjRM",
        "outputId": "b5c8505c-ae33-4928-81e7-b42e97dcb524",
        "colab": {
          "base_uri": "https://localhost:8080/"
        }
      },
      "source": [
        "train_dataset_url = \"https://storage.googleapis.com/download.tensorflow.org/data/iris_training.csv\"\n",
        "\n",
        "train_dataset_fp = tf.keras.utils.get_file(fname=os.path.basename(train_dataset_url),\n",
        "                                           origin=train_dataset_url)\n",
        "\n",
        "print(\"Local copy of the dataset file: {}\".format(train_dataset_fp))"
      ],
      "execution_count": 5,
      "outputs": [
        {
          "output_type": "stream",
          "text": [
            "Downloading data from https://storage.googleapis.com/download.tensorflow.org/data/iris_training.csv\n",
            "\r8192/2194 [================================================================================================================] - 0s 0us/step\n",
            "Local copy of the dataset file: /root/.keras/datasets/iris_training.csv\n"
          ],
          "name": "stdout"
        }
      ]
    },
    {
      "cell_type": "markdown",
      "metadata": {
        "id": "qnX1-aLors4S"
      },
      "source": [
        "### Inspect the data\n",
        "\n",
        "This dataset, `iris_training.csv`, is a plain text file that stores tabular data formatted as comma-separated values (CSV). Use the `head -n5` command to take a peek at the first five entries:"
      ]
    },
    {
      "cell_type": "code",
      "metadata": {
        "id": "FQvb_JYdrpPm",
        "outputId": "53aadd17-ca06-45fc-aa5d-de833a0781ca",
        "colab": {
          "base_uri": "https://localhost:8080/"
        }
      },
      "source": [
        "!head -n5 {train_dataset_fp}"
      ],
      "execution_count": 6,
      "outputs": [
        {
          "output_type": "stream",
          "text": [
            "120,4,setosa,versicolor,virginica\n",
            "6.4,2.8,5.6,2.2,2\n",
            "5.0,2.3,3.3,1.0,1\n",
            "4.9,2.5,4.5,1.7,2\n",
            "4.9,3.1,1.5,0.1,0\n"
          ],
          "name": "stdout"
        }
      ]
    },
    {
      "cell_type": "markdown",
      "metadata": {
        "id": "kQhzD6P-uBoq"
      },
      "source": [
        "From this view of the dataset, notice the following:\n",
        "\n",
        "1. The first line is a header containing information about the dataset:\n",
        "  * There are 120 total examples. Each example has four features and one of three possible label names.\n",
        "2. Subsequent rows are data records, one *[example](https://developers.google.com/machine-learning/glossary/#example)* per line, where:\n",
        "  * The first four fields are *[features](https://developers.google.com/machine-learning/glossary/#feature)*: these are the characteristics of an example. Here, the fields hold float numbers representing flower measurements.\n",
        "  * The last column is the *[label](https://developers.google.com/machine-learning/glossary/#label)*: this is the value we want to predict. For this dataset, it's an integer value of 0, 1, or 2 that corresponds to a flower name.\n",
        "\n",
        "Let's write that out in code:"
      ]
    },
    {
      "cell_type": "code",
      "metadata": {
        "id": "9Edhevw7exl6",
        "outputId": "a3723547-6ddb-42a8-d59e-9f38624845f2",
        "colab": {
          "base_uri": "https://localhost:8080/"
        }
      },
      "source": [
        "# column order in CSV file\n",
        "column_names = ['sepal_length', 'sepal_width', 'petal_length', 'petal_width', 'species']\n",
        "\n",
        "feature_names = column_names[:-1]\n",
        "label_name = column_names[-1]\n",
        "\n",
        "print(\"Features: {}\".format(feature_names))\n",
        "print(\"Label: {}\".format(label_name))"
      ],
      "execution_count": 7,
      "outputs": [
        {
          "output_type": "stream",
          "text": [
            "Features: ['sepal_length', 'sepal_width', 'petal_length', 'petal_width']\n",
            "Label: species\n"
          ],
          "name": "stdout"
        }
      ]
    },
    {
      "cell_type": "markdown",
      "metadata": {
        "id": "CCtwLoJhhDNc"
      },
      "source": [
        "Each label is associated with string name (for example, \"setosa\"), but machine learning typically relies on numeric values. The label numbers are mapped to a named representation, such as:\n",
        "\n",
        "* `0`: Iris setosa\n",
        "* `1`: Iris versicolor\n",
        "* `2`: Iris virginica\n",
        "\n",
        "For more information about features and labels, see the [ML Terminology section of the Machine Learning Crash Course](https://developers.google.com/machine-learning/crash-course/framing/ml-terminology)."
      ]
    },
    {
      "cell_type": "code",
      "metadata": {
        "id": "sVNlJlUOhkoX",
        "outputId": "3b11ec73-2970-4bc4-98ef-27acccd19239",
        "colab": {
          "base_uri": "https://localhost:8080/"
        }
      },
      "source": [
        "class_names = ['Iris setosa', 'Iris versicolor', 'Iris virginica']\n",
        "print(class_names)"
      ],
      "execution_count": 8,
      "outputs": [
        {
          "output_type": "stream",
          "text": [
            "['Iris setosa', 'Iris versicolor', 'Iris virginica']\n"
          ],
          "name": "stdout"
        }
      ]
    },
    {
      "cell_type": "markdown",
      "metadata": {
        "id": "dqPkQExM2Pwt"
      },
      "source": [
        "### Create a `tf.data.Dataset`\n",
        "\n",
        "TensorFlow's [Dataset API](../../guide/data.ipynb) handles many common cases for loading data into a model. This is a high-level API for reading data and transforming it into a form used for training.\n",
        "\n",
        "\n",
        "Since the dataset is a CSV-formatted text file, use the `tf.data.experimental.make_csv_dataset` function to parse the data into a suitable format. Since this function generates data for training models, the default behavior is to shuffle the data (`shuffle=True, shuffle_buffer_size=10000`), and repeat the dataset forever (`num_epochs=None`). We also set the [batch_size](https://developers.google.com/machine-learning/glossary/#batch_size) parameter:"
      ]
    },
    {
      "cell_type": "code",
      "metadata": {
        "id": "WsxHnz1ebJ2S"
      },
      "source": [
        "batch_size = 32\n",
        "\n",
        "train_dataset = tf.data.experimental.make_csv_dataset(\n",
        "    train_dataset_fp,\n",
        "    batch_size,\n",
        "    column_names=column_names,\n",
        "    label_name=label_name,\n",
        "    num_epochs=1)"
      ],
      "execution_count": 9,
      "outputs": []
    },
    {
      "cell_type": "markdown",
      "metadata": {
        "id": "gB_RSn62c-3G"
      },
      "source": [
        "The `make_csv_dataset` function returns a `tf.data.Dataset` of `(features, label)` pairs, where `features` is a dictionary: `{'feature_name': value}`\n",
        "\n",
        "These `Dataset` objects are iterable. Let's look at a batch of features:"
      ]
    },
    {
      "cell_type": "code",
      "metadata": {
        "id": "iDuG94H-C122",
        "outputId": "54d58972-3441-48db-e1ed-807feb99d6e1",
        "colab": {
          "base_uri": "https://localhost:8080/"
        }
      },
      "source": [
        "features, labels = next(iter(train_dataset))\n",
        "\n",
        "print(features)"
      ],
      "execution_count": 10,
      "outputs": [
        {
          "output_type": "stream",
          "text": [
            "OrderedDict([('sepal_length', <tf.Tensor: shape=(32,), dtype=float32, numpy=\n",
            "array([6.7, 6.4, 6.2, 4.9, 5.2, 4.4, 4.9, 7.6, 6.3, 6.9, 4.9, 6. , 7.4,\n",
            "       4.8, 5. , 6.4, 5.5, 6.1, 5. , 5.2, 4.7, 5.1, 5.6, 5.5, 6.1, 4.5,\n",
            "       5.1, 6.7, 5.1, 4.8, 5.7, 5.4], dtype=float32)>), ('sepal_width', <tf.Tensor: shape=(32,), dtype=float32, numpy=\n",
            "array([3.1, 3.2, 2.2, 2.5, 3.4, 3. , 3.1, 3. , 3.3, 3.1, 3. , 2.2, 2.8,\n",
            "       3. , 3.4, 3.1, 2.4, 2.9, 3.5, 2.7, 3.2, 3.8, 2.7, 2.6, 2.6, 2.3,\n",
            "       3.8, 3. , 3.8, 3.1, 4.4, 3.9], dtype=float32)>), ('petal_length', <tf.Tensor: shape=(32,), dtype=float32, numpy=\n",
            "array([5.6, 5.3, 4.5, 4.5, 1.4, 1.3, 1.5, 6.6, 6. , 4.9, 1.4, 5. , 6.1,\n",
            "       1.4, 1.5, 5.5, 3.7, 4.7, 1.3, 3.9, 1.6, 1.9, 4.2, 4.4, 5.6, 1.3,\n",
            "       1.6, 5. , 1.5, 1.6, 1.5, 1.7], dtype=float32)>), ('petal_width', <tf.Tensor: shape=(32,), dtype=float32, numpy=\n",
            "array([2.4, 2.3, 1.5, 1.7, 0.2, 0.2, 0.1, 2.1, 2.5, 1.5, 0.2, 1.5, 1.9,\n",
            "       0.1, 0.2, 1.8, 1. , 1.4, 0.3, 1.4, 0.2, 0.4, 1.3, 1.2, 1.4, 0.3,\n",
            "       0.2, 1.7, 0.3, 0.2, 0.4, 0.4], dtype=float32)>)])\n"
          ],
          "name": "stdout"
        }
      ]
    },
    {
      "cell_type": "markdown",
      "metadata": {
        "id": "E63mArnQaAGz"
      },
      "source": [
        "Notice that like-features are grouped together, or *batched*. Each example row's fields are appended to the corresponding feature array. Change the `batch_size` to set the number of examples stored in these feature arrays.\n",
        "\n",
        "You can start to see some clusters by plotting a few features from the batch:"
      ]
    },
    {
      "cell_type": "code",
      "metadata": {
        "id": "me5Wn-9FcyyO",
        "outputId": "b810c0ad-0f8c-4808-8e99-11b91e324e69",
        "colab": {
          "base_uri": "https://localhost:8080/",
          "height": 279
        }
      },
      "source": [
        "plt.scatter(features['petal_length'],\n",
        "            features['sepal_length'],\n",
        "            c=labels,\n",
        "            cmap='viridis')\n",
        "\n",
        "plt.xlabel(\"Petal length\")\n",
        "plt.ylabel(\"Sepal length\")\n",
        "plt.show()"
      ],
      "execution_count": 11,
      "outputs": [
        {
          "output_type": "display_data",
          "data": {
            "image/png": "[encoded data removed]",
            "text/plain": [
              "<Figure size 432x288 with 1 Axes>"
            ]
          },
          "metadata": {
            "tags": [],
            "needs_background": "light"
          }
        }
      ]
    },
    {
      "cell_type": "markdown",
      "metadata": {
        "id": "YlxpSyHlhT6M"
      },
      "source": [
        "To simplify the model building step, create a function to repackage the features dictionary into a single array with shape: `(batch_size, num_features)`.\n",
        "\n",
        "This function uses the `tf.stack` method which takes values from a list of tensors and creates a combined tensor at the specified dimension:"
      ]
    },
    {
      "cell_type": "code",
      "metadata": {
        "id": "jm932WINcaGU"
      },
      "source": [
        "def pack_features_vector(features, labels):\n",
        "  \"\"\"Pack the features into a single array.\"\"\"\n",
        "  features = tf.stack(list(features.values()), axis=1)\n",
        "  return features, labels"
      ],
      "execution_count": 12,
      "outputs": []
    },
    {
      "cell_type": "markdown",
      "metadata": {
        "id": "V1Vuph_eDl8x"
      },
      "source": [
        "Then use the `tf.data.Dataset#map` method to pack the `features` of each `(features,label)` pair into the training dataset:"
      ]
    },
    {
      "cell_type": "code",
      "metadata": {
        "id": "ZbDkzGZIkpXf"
      },
      "source": [
        "train_dataset = train_dataset.map(pack_features_vector)"
      ],
      "execution_count": 13,
      "outputs": []
    },
    {
      "cell_type": "markdown",
      "metadata": {
        "id": "NLy0Q1xCldVO"
      },
      "source": [
        "The features element of the `Dataset` are now arrays with shape `(batch_size, num_features)`. Let's look at the first few examples:"
      ]
    },
    {
      "cell_type": "code",
      "metadata": {
        "id": "kex9ibEek6Tr",
        "outputId": "c54dd0ee-a303-4605-8664-c6622f0fa01b",
        "colab": {
          "base_uri": "https://localhost:8080/"
        }
      },
      "source": [
        "features, labels = next(iter(train_dataset))\n",
        "\n",
        "print(features[:5])"
      ],
      "execution_count": 14,
      "outputs": [
        {
          "output_type": "stream",
          "text": [
            "tf.Tensor(\n",
            "[[6.3 2.3 4.4 1.3]\n",
            " [4.8 3.  1.4 0.1]\n",
            " [4.6 3.1 1.5 0.2]\n",
            " [5.8 4.  1.2 0.2]\n",
            " [6.1 2.8 4.7 1.2]], shape=(5, 4), dtype=float32)\n"
          ],
          "name": "stdout"
        }
      ]
    },
    {
      "cell_type": "code",
      "metadata": {
        "id": "b1jI_npflkmF",
        "outputId": "33c043a9-6ddf-49e0-d03a-001d1835d5c2",
        "colab": {
          "base_uri": "https://localhost:8080/"
        }
      },
      "source": [
        "print(labels[:5])"
      ],
      "execution_count": 15,
      "outputs": [
        {
          "output_type": "stream",
          "text": [
            "tf.Tensor([1 0 0 0 1], shape=(5,), dtype=int32)\n"
          ],
          "name": "stdout"
        }
      ]
    },
    {
      "cell_type": "markdown",
      "metadata": {
        "id": "LsaVrtNM3Tx5"
      },
      "source": [
        "## Select the type of model\n",
        "\n",
        "### Why model?\n",
        "\n",
        "A *[model](https://developers.google.com/machine-learning/crash-course/glossary#model)* is a relationship between features and the label.  For the Iris classification problem, the model defines the relationship between the sepal and petal measurements and the predicted Iris species. Some simple models can be described with a few lines of algebra, but complex machine learning models have a large number of parameters that are difficult to summarize.\n",
        "\n",
        "Could you determine the relationship between the four features and the Iris species *without* using machine learning?  That is, could you use traditional programming techniques (for example, a lot of conditional statements) to create a model?  Perhaps—if you analyzed the dataset long enough to determine the relationships between petal and sepal measurements to a particular species. And this becomes difficult—maybe impossible—on more complicated datasets. A good machine learning approach *determines the model for you*. If you feed enough representative examples into the right machine learning model type, the program will figure out the relationships for you.\n",
        "\n",
        "### Select the model\n",
        "\n",
        "We need to select the kind of model to train. There are many types of models and picking a good one takes experience. This tutorial uses a neural network to solve the Iris classification problem. *[Neural networks](https://developers.google.com/machine-learning/glossary/#neural_network)* can find complex relationships between features and the label. It is a highly-structured graph, organized into one or more *[hidden layers](https://developers.google.com/machine-learning/glossary/#hidden_layer)*. Each hidden layer consists of one or more *[neurons](https://developers.google.com/machine-learning/glossary/#neuron)*. There are several categories of neural networks and this program uses a dense, or *[fully-connected neural network](https://developers.google.com/machine-learning/glossary/#fully_connected_layer)*: the neurons in one layer receive input connections from *every* neuron in the previous layer. For example, Figure 2 illustrates a dense neural network consisting of an input layer, two hidden layers, and an output layer:\n",
        "\n",
        "<table>\n",
        "  <tr><td>\n",
        "    <img src=\"https://www.tensorflow.org/images/custom_estimators/full_network.png\"\n",
        "         alt=\"A diagram of the network architecture: Inputs, 2 hidden layers, and outputs\">\n",
        "  </td></tr>\n",
        "  <tr><td align=\"center\">\n",
        "    <b>Figure 2.</b> A neural network with features, hidden layers, and predictions.<br/>&nbsp;\n",
        "  </td></tr>\n",
        "</table>\n",
        "\n",
        "When the model from Figure 2 is trained and fed an unlabeled example, it yields three predictions: the likelihood that this flower is the given Iris species. This prediction is called *[inference](https://developers.google.com/machine-learning/crash-course/glossary#inference)*. For this example, the sum of the output predictions is 1.0. In Figure 2, this prediction breaks down as: `0.02` for *Iris setosa*, `0.95` for *Iris versicolor*, and `0.03` for *Iris virginica*. This means that the model predicts—with 95% probability—that an unlabeled example flower is an *Iris versicolor*."
      ]
    },
    {
      "cell_type": "markdown",
      "metadata": {
        "id": "W23DIMVPQEBt"
      },
      "source": [
        "### Create a model using Keras\n",
        "\n",
        "The TensorFlow `tf.keras` API is the preferred way to create models and layers. This makes it easy to build models and experiment while Keras handles the complexity of connecting everything together.\n",
        "\n",
        "The `tf.keras.Sequential` model is a linear stack of layers. Its constructor takes a list of layer instances, in this case, two `tf.keras.layers.Dense` layers with 10 nodes each, and an output layer with 3 nodes representing our label predictions. The first layer's `input_shape` parameter corresponds to the number of features from the dataset, and is required:"
      ]
    },
    {
      "cell_type": "code",
      "metadata": {
        "id": "2fZ6oL2ig3ZK"
      },
      "source": [
        "model = tf.keras.Sequential([\n",
        "  tf.keras.layers.Dense(10, activation=tf.nn.relu, input_shape=(4,)),  # input shape required\n",
        "  tf.keras.layers.Dense(10, activation=tf.nn.relu),\n",
        "  tf.keras.layers.Dense(3)\n",
        "])"
      ],
      "execution_count": 16,
      "outputs": []
    },
    {
      "cell_type": "code",
      "metadata": {
        "id": "Wf2twK8_oq36",
        "outputId": "1b68a08c-a0ae-4864-b261-81b6dd755c41",
        "colab": {
          "base_uri": "https://localhost:8080/"
        }
      },
      "source": [
        "model.summary()"
      ],
      "execution_count": 17,
      "outputs": [
        {
          "output_type": "stream",
          "text": [
            "Model: \"sequential\"\n",
            "_________________________________________________________________\n",
            "Layer (type)                 Output Shape              Param #   \n",
            "=================================================================\n",
            "dense (Dense)                (None, 10)                50        \n",
            "_________________________________________________________________\n",
            "dense_1 (Dense)              (None, 10)                110       \n",
            "_________________________________________________________________\n",
            "dense_2 (Dense)              (None, 3)                 33        \n",
            "=================================================================\n",
            "Total params: 193\n",
            "Trainable params: 193\n",
            "Non-trainable params: 0\n",
            "_________________________________________________________________\n"
          ],
          "name": "stdout"
        }
      ]
    },
    {
      "cell_type": "markdown",
      "metadata": {
        "id": "FHcbEzMpxbHL"
      },
      "source": [
        "The *[activation function](https://developers.google.com/machine-learning/crash-course/glossary#activation_function)* determines the output shape of each node in the layer. These non-linearities are important—without them the model would be equivalent to a single layer. There are many `tf.keras.activations`, but [ReLU](https://developers.google.com/machine-learning/crash-course/glossary#ReLU) is common for hidden layers.\n",
        "\n",
        "The ideal number of hidden layers and neurons depends on the problem and the dataset. Like many aspects of machine learning, picking the best shape of the neural network requires a mixture of knowledge and experimentation. As a rule of thumb, increasing the number of hidden layers and neurons typically creates a more powerful model, which requires more data to train effectively."
      ]
    },
    {
      "cell_type": "markdown",
      "metadata": {
        "id": "2wFKnhWCpDSS"
      },
      "source": [
        "### Using the model\n",
        "\n",
        "Let's have a quick look at what this model does to a batch of features:"
      ]
    },
    {
      "cell_type": "code",
      "metadata": {
        "id": "xe6SQ5NrpB-I",
        "outputId": "845428d8-df18-4ce9-ddc0-28d191e4402a",
        "colab": {
          "base_uri": "https://localhost:8080/"
        }
      },
      "source": [
        "predictions = model(features)\n",
        "predictions[:5]"
      ],
      "execution_count": 18,
      "outputs": [
        {
          "output_type": "execute_result",
          "data": {
            "text/plain": [
              "<tf.Tensor: shape=(5, 3), dtype=float32, numpy=\n",
              "array([[ 1.8932283 , -3.0415237 , -1.1890278 ],\n",
              "       [ 1.2731917 , -1.5825353 , -0.58581555],\n",
              "       [ 1.244645  , -1.5593754 , -0.55388844],\n",
              "       [ 1.447874  , -1.8271445 , -0.65154094],\n",
              "       [ 1.9257812 , -3.0175233 , -1.0674307 ]], dtype=float32)>"
            ]
          },
          "metadata": {
            "tags": []
          },
          "execution_count": 18
        }
      ]
    },
    {
      "cell_type": "markdown",
      "metadata": {
        "id": "wxyXOhwVr5S3"
      },
      "source": [
        "Here, each example returns a [logit](https://developers.google.com/machine-learning/crash-course/glossary#logits) for each class.\n",
        "\n",
        "To convert these logits to a probability for each class, use the [softmax](https://developers.google.com/machine-learning/crash-course/glossary#softmax) function:"
      ]
    },
    {
      "cell_type": "code",
      "metadata": {
        "id": "_tRwHZmTNTX2",
        "outputId": "9286d718-8d1f-4591-9b36-35ec70d37517",
        "colab": {
          "base_uri": "https://localhost:8080/"
        }
      },
      "source": [
        "tf.nn.softmax(predictions[:5])"
      ],
      "execution_count": 19,
      "outputs": [
        {
          "output_type": "execute_result",
          "data": {
            "text/plain": [
              "<tf.Tensor: shape=(5, 3), dtype=float32, numpy=\n",
              "array([[0.9496244 , 0.00682993, 0.04354568],\n",
              "       [0.8241705 , 0.04740134, 0.12842822],\n",
              "       [0.81558913, 0.04939703, 0.13501383],\n",
              "       [0.8618132 , 0.03259047, 0.10559634],\n",
              "       [0.94584364, 0.00674481, 0.04741152]], dtype=float32)>"
            ]
          },
          "metadata": {
            "tags": []
          },
          "execution_count": 19
        }
      ]
    },
    {
      "cell_type": "markdown",
      "metadata": {
        "id": "uRZmchElo481"
      },
      "source": [
        "Taking the `tf.argmax` across classes gives us the predicted class index. But, the model hasn't been trained yet, so these aren't good predictions:"
      ]
    },
    {
      "cell_type": "code",
      "metadata": {
        "id": "-Jzm_GoErz8B",
        "outputId": "bf228fa6-1227-4999-e98c-c02841640da1",
        "colab": {
          "base_uri": "https://localhost:8080/"
        }
      },
      "source": [
        "print(\"Prediction: {}\".format(tf.argmax(predictions, axis=1)))\n",
        "print(\"    Labels: {}\".format(labels))"
      ],
      "execution_count": 20,
      "outputs": [
        {
          "output_type": "stream",
          "text": [
            "Prediction: [0 0 0 0 0 0 0 0 0 0 0 0 0 0 0 0 0 0 0 0 0 0 0 0 0 0 0 0 0 0 0 0]\n",
            "    Labels: [1 0 0 0 1 2 1 0 1 2 2 1 1 0 0 0 2 1 2 0 2 1 1 2 0 2 0 1 2 2 1 2]\n"
          ],
          "name": "stdout"
        }
      ]
    },
    {
      "cell_type": "markdown",
      "metadata": {
        "id": "Vzq2E5J2QMtw"
      },
      "source": [
        "## Train the model\n",
        "\n",
        "*[Training](https://developers.google.com/machine-learning/crash-course/glossary#training)* is the stage of machine learning when the model is gradually optimized, or the model *learns* the dataset. The goal is to learn enough about the structure of the training dataset to make predictions about unseen data. If you learn *too much* about the training dataset, then the predictions only work for the data it has seen and will not be generalizable. This problem is called *[overfitting](https://developers.google.com/machine-learning/crash-course/glossary#overfitting)*—it's like memorizing the answers instead of understanding how to solve a problem.\n",
        "\n",
        "The Iris classification problem is an example of *[supervised machine learning](https://developers.google.com/machine-learning/glossary/#supervised_machine_learning)*: the model is trained from examples that contain labels. In *[unsupervised machine learning](https://developers.google.com/machine-learning/glossary/#unsupervised_machine_learning)*, the examples don't contain labels. Instead, the model typically finds patterns among the features."
      ]
    },
    {
      "cell_type": "markdown",
      "metadata": {
        "id": "RaKp8aEjKX6B"
      },
      "source": [
        "### Define the loss and gradient function\n",
        "\n",
        "Both training and evaluation stages need to calculate the model's *[loss](https://developers.google.com/machine-learning/crash-course/glossary#loss)*. This measures how off a model's predictions are from the desired label, in other words, how bad the model is performing. We want to minimize, or optimize, this value.\n",
        "\n",
        "Our model will calculate its loss using the `tf.keras.losses.SparseCategoricalCrossentropy` function which takes the model's class probability predictions and the desired label, and returns the average loss across the examples."
      ]
    },
    {
      "cell_type": "code",
      "metadata": {
        "id": "QOsi6b-1CXIn"
      },
      "source": [
        "loss_object = tf.keras.losses.SparseCategoricalCrossentropy(from_logits=True)"
      ],
      "execution_count": 21,
      "outputs": []
    },
    {
      "cell_type": "code",
      "metadata": {
        "id": "tMAT4DcMPwI-",
        "outputId": "a12a1aa2-6393-4d09-b061-3895c97f6bce",
        "colab": {
          "base_uri": "https://localhost:8080/"
        }
      },
      "source": [
        "def loss(model, x, y, training):\n",
        "  # training=training is needed only if there are layers with different\n",
        "  # behavior during training versus inference (e.g. Dropout).\n",
        "  y_ = model(x, training=training)\n",
        "\n",
        "  return loss_object(y_true=y, y_pred=y_)\n",
        "\n",
        "\n",
        "l = loss(model, features, labels, training=False)\n",
        "print(\"Loss test: {}\".format(l))"
      ],
      "execution_count": 22,
      "outputs": [
        {
          "output_type": "stream",
          "text": [
            "Loss test: 2.9109857082366943\n"
          ],
          "name": "stdout"
        }
      ]
    },
    {
      "cell_type": "markdown",
      "metadata": {
        "id": "3IcPqA24QM6B"
      },
      "source": [
        "Use the `tf.GradientTape` context to calculate the *[gradients](https://developers.google.com/machine-learning/crash-course/glossary#gradient)* used to optimize your model:"
      ]
    },
    {
      "cell_type": "code",
      "metadata": {
        "id": "x57HcKWhKkei"
      },
      "source": [
        "def grad(model, inputs, targets):\n",
        "  with tf.GradientTape() as tape:\n",
        "    loss_value = loss(model, inputs, targets, training=True)\n",
        "  return loss_value, tape.gradient(loss_value, model.trainable_variables)"
      ],
      "execution_count": 23,
      "outputs": []
    },
    {
      "cell_type": "markdown",
      "metadata": {
        "id": "lOxFimtlKruu"
      },
      "source": [
        "### Create an optimizer\n",
        "\n",
        "An *[optimizer](https://developers.google.com/machine-learning/crash-course/glossary#optimizer)* applies the computed gradients to the model's variables to minimize the `loss` function. You can think of the loss function as a curved surface (see Figure 3) and we want to find its lowest point by walking around. The gradients point in the direction of steepest ascent—so we'll travel the opposite way and move down the hill. By iteratively calculating the loss and gradient for each batch, we'll adjust the model during training. Gradually, the model will find the best combination of weights and bias to minimize loss. And the lower the loss, the better the model's predictions.\n",
        "\n",
        "<table>\n",
        "  <tr><td>\n",
        "    <img src=\"https://cs231n.github.io/assets/nn3/opt1.gif\" width=\"70%\"\n",
        "         alt=\"Optimization algorithms visualized over time in 3D space.\">\n",
        "  </td></tr>\n",
        "  <tr><td align=\"center\">\n",
        "    <b>Figure 3.</b> Optimization algorithms visualized over time in 3D space.<br/>(Source: <a href=\"http://cs231n.github.io/neural-networks-3/\">Stanford class CS231n</a>, MIT License, Image credit: <a href=\"https://twitter.com/alecrad\">Alec Radford</a>)\n",
        "  </td></tr>\n",
        "</table>\n",
        "\n",
        "TensorFlow has many optimization algorithms available for training. This model uses the `tf.keras.optimizers.SGD` that implements the *[stochastic gradient descent](https://developers.google.com/machine-learning/crash-course/glossary#gradient_descent)* (SGD) algorithm. The `learning_rate` sets the step size to take for each iteration down the hill. This is a *hyperparameter* that you'll commonly adjust to achieve better results."
      ]
    },
    {
      "cell_type": "markdown",
      "metadata": {
        "id": "XkUd6UiZa_dF"
      },
      "source": [
        "Let's setup the optimizer:"
      ]
    },
    {
      "cell_type": "code",
      "metadata": {
        "id": "8xxi2NNGKwG_"
      },
      "source": [
        "optimizer = tf.keras.optimizers.SGD(learning_rate=0.01)"
      ],
      "execution_count": 24,
      "outputs": []
    },
    {
      "cell_type": "markdown",
      "metadata": {
        "id": "pJVRZ0hP52ZB"
      },
      "source": [
        "We'll use this to calculate a single optimization step:"
      ]
    },
    {
      "cell_type": "code",
      "metadata": {
        "id": "rxRNTFVe56RG",
        "outputId": "2b7af975-2ce9-48a1-f856-7d17401d2302",
        "colab": {
          "base_uri": "https://localhost:8080/"
        }
      },
      "source": [
        "loss_value, grads = grad(model, features, labels)\n",
        "\n",
        "print(\"Step: {}, Initial Loss: {}\".format(optimizer.iterations.numpy(),\n",
        "                                          loss_value.numpy()))\n",
        "\n",
        "optimizer.apply_gradients(zip(grads, model.trainable_variables))\n",
        "\n",
        "print(\"Step: {},         Loss: {}\".format(optimizer.iterations.numpy(),\n",
        "                                          loss(model, features, labels, training=True).numpy()))"
      ],
      "execution_count": 25,
      "outputs": [
        {
          "output_type": "stream",
          "text": [
            "Step: 0, Initial Loss: 2.9109857082366943\n",
            "Step: 1,         Loss: 2.351426362991333\n"
          ],
          "name": "stdout"
        }
      ]
    },
    {
      "cell_type": "markdown",
      "metadata": {
        "id": "7Y2VSELvwAvW"
      },
      "source": [
        "### Training loop\n",
        "\n",
        "With all the pieces in place, the model is ready for training! A training loop feeds the dataset examples into the model to help it make better predictions. The following code block sets up these training steps:\n",
        "\n",
        "1. Iterate each *epoch*. An epoch is one pass through the dataset.\n",
        "2. Within an epoch, iterate over each example in the training `Dataset` grabbing its *features* (`x`) and *label* (`y`).\n",
        "3. Using the example's features, make a prediction and compare it with the label. Measure the inaccuracy of the prediction and use that to calculate the model's loss and gradients.\n",
        "4. Use an `optimizer` to update the model's variables.\n",
        "5. Keep track of some stats for visualization.\n",
        "6. Repeat for each epoch.\n",
        "\n",
        "The `num_epochs` variable is the number of times to loop over the dataset collection. Counter-intuitively, training a model longer does not guarantee a better model. `num_epochs` is a *[hyperparameter](https://developers.google.com/machine-learning/glossary/#hyperparameter)* that you can tune. Choosing the right number usually requires both experience and experimentation:"
      ]
    },
    {
      "cell_type": "code",
      "metadata": {
        "id": "AIgulGRUhpto",
        "outputId": "27259e6d-67ea-4083-f6b9-9ca97f998064",
        "colab": {
          "base_uri": "https://localhost:8080/"
        }
      },
      "source": [
        "## Note: Rerunning this cell uses the same model variables\n",
        "\n",
        "# Keep results for plotting\n",
        "train_loss_results = []\n",
        "train_accuracy_results = []\n",
        "\n",
        "num_epochs = 201\n",
        "\n",
        "for epoch in range(num_epochs):\n",
        "  epoch_loss_avg = tf.keras.metrics.Mean()\n",
        "  epoch_accuracy = tf.keras.metrics.SparseCategoricalAccuracy()\n",
        "\n",
        "  # Training loop - using batches of 32\n",
        "  for x, y in train_dataset:\n",
        "    # Optimize the model\n",
        "    loss_value, grads = grad(model, x, y)\n",
        "    optimizer.apply_gradients(zip(grads, model.trainable_variables))\n",
        "\n",
        "    # Track progress\n",
        "    epoch_loss_avg.update_state(loss_value)  # Add current batch loss\n",
        "    # Compare predicted label to actual label\n",
        "    # training=True is needed only if there are layers with different\n",
        "    # behavior during training versus inference (e.g. Dropout).\n",
        "    epoch_accuracy.update_state(y, model(x, training=True))\n",
        "\n",
        "  # End epoch\n",
        "  train_loss_results.append(epoch_loss_avg.result())\n",
        "  train_accuracy_results.append(epoch_accuracy.result())\n",
        "\n",
        "  if epoch % 50 == 0:\n",
        "    print(\"Epoch {:03d}: Loss: {:.3f}, Accuracy: {:.3%}\".format(epoch,\n",
        "                                                                epoch_loss_avg.result(),\n",
        "                                                                epoch_accuracy.result()))\n",
        "    print(\"model.output----->\")\n",
        "    weight = model.layers[0].get_weights()\n",
        "    print(len(weight))\n",
        "    print(\"model.get_weights----->\")\n",
        "    print(model.get_weights())"
      ],
      "execution_count": null,
      "outputs": [
        {
          "output_type": "stream",
          "text": [
            "Epoch 000: Loss: 0.127, Accuracy: 98.333%\n",
            "model.output----->\n",
            "2\n",
            "model.get_weights----->\n",
            "[array([[-0.12868355,  0.17634591,  0.24608707,  0.56090873,  0.21580857,\n",
            "         0.06344748, -0.00222085, -0.337275  ,  0.804474  ,  0.36161554],\n",
            "       [-0.44384572, -0.60746413, -0.46532807,  0.54862994, -0.34389067,\n",
            "        -0.4751169 , -0.66536343, -0.03517812,  0.02255978,  0.11850117],\n",
            "       [ 0.97571284,  1.0037284 ,  0.24536693, -0.31215864, -0.6491975 ,\n",
            "         0.00711173,  0.35378987, -0.31043395,  0.12874751,  0.1202362 ],\n",
            "       [ 0.81438565,  0.4888662 ,  0.34956425,  0.2018042 , -0.17891604,\n",
            "         0.01150429, -0.30015504, -0.2350756 , -0.4398635 , -0.31870076]],\n",
            "      dtype=float32), array([-0.06789839, -0.11283226, -0.00453773,  0.06251876,  0.        ,\n",
            "        0.        , -0.00490233,  0.        ,  0.09720446,  0.10855269],\n",
            "      dtype=float32), array([[-4.61370766e-01, -2.16530323e-01, -2.08492726e-01,\n",
            "         1.08118854e-01, -3.92054528e-01, -2.58778721e-01,\n",
            "        -3.48608345e-01, -1.34314254e-01, -2.08025381e-01,\n",
            "         9.00215685e-01],\n",
            "       [-2.26869546e-02, -4.54984494e-02,  1.36589497e-01,\n",
            "         9.99731481e-01,  1.30291935e-02, -1.00086123e-01,\n",
            "        -5.11216164e-01, -5.00773609e-01,  1.34650245e-01,\n",
            "         8.36594701e-01],\n",
            "       [-4.32219058e-01, -5.13384283e-01, -4.22704786e-01,\n",
            "         1.90568417e-01,  1.83202207e-01,  4.09413576e-01,\n",
            "         3.82707834e-01, -9.19249728e-02, -6.45340621e-01,\n",
            "        -1.64629206e-01],\n",
            "       [ 1.11968145e-01,  6.06245756e-01,  5.04525304e-02,\n",
            "         6.22585267e-02,  5.62387347e-01, -3.86536121e-04,\n",
            "        -7.12451264e-02,  7.13338424e-03,  4.25128877e-01,\n",
            "        -9.14762616e-02],\n",
            "       [ 1.77135348e-01,  2.78774917e-01,  1.17114305e-01,\n",
            "        -5.47148645e-01, -4.36790586e-02, -3.19899321e-02,\n",
            "         6.06981516e-02, -9.32368040e-02,  2.40300357e-01,\n",
            "        -1.03384078e-01],\n",
            "       [-1.99184597e-01,  1.82452798e-02, -4.83616769e-01,\n",
            "        -2.84600914e-01, -5.06624281e-01, -1.51718467e-01,\n",
            "         4.31101263e-01,  2.62339830e-01,  2.85974979e-01,\n",
            "         4.89228845e-01],\n",
            "       [ 3.95948410e-01, -8.29982478e-03, -2.51776367e-01,\n",
            "        -6.26811804e-03, -1.43336371e-01, -8.92081857e-02,\n",
            "        -1.64489776e-01,  1.15786612e-01, -5.02952576e-01,\n",
            "        -5.05737424e-01],\n",
            "       [ 1.54119074e-01, -1.87020242e-01, -1.12990350e-01,\n",
            "        -4.99525309e-01, -2.77446568e-01, -3.55813265e-01,\n",
            "         3.87931883e-01,  1.38135314e-01,  3.36805403e-01,\n",
            "         2.53970504e-01],\n",
            "       [ 5.20523369e-01,  1.88203633e-01, -2.87781935e-02,\n",
            "        -1.56535521e-01, -2.78503001e-01, -4.15549338e-01,\n",
            "         2.45007485e-01,  4.70600367e-01,  1.65108338e-01,\n",
            "        -6.21917784e-01],\n",
            "       [-3.85136425e-01,  2.33980298e-01, -3.89305621e-01,\n",
            "         2.95672417e-01,  2.45762631e-01,  1.40759051e-01,\n",
            "         5.10409653e-01,  4.76673245e-01,  1.45625055e-01,\n",
            "        -4.79447961e-01]], dtype=float32), array([ 0.04064801,  0.04948897, -0.00865895,  0.00776747,  0.06798913,\n",
            "        0.        ,  0.01165379,  0.0519383 ,  0.03161946, -0.14931071],\n",
            "      dtype=float32), array([[ 0.14675346, -0.648884  , -0.1908755 ],\n",
            "       [ 0.40377498,  0.33958033, -0.25948113],\n",
            "       [-0.577348  ,  0.17371054, -0.5362131 ],\n",
            "       [-0.3968092 ,  0.7888461 ,  0.625544  ],\n",
            "       [ 0.10382288, -0.30953157, -0.7416888 ],\n",
            "       [ 0.4408673 ,  0.6779932 ,  0.3163777 ],\n",
            "       [ 0.6007156 , -0.02882312,  0.48658898],\n",
            "       [ 0.29409412, -0.21645449, -0.72903985],\n",
            "       [ 0.39451468,  0.20322543, -0.21630904],\n",
            "       [-0.68546575, -0.75256014,  0.9695997 ]], dtype=float32), array([ 0.05006026,  0.17589651, -0.22595675], dtype=float32)]\n",
            "Epoch 050: Loss: 0.099, Accuracy: 99.167%\n",
            "model.output----->\n",
            "2\n",
            "model.get_weights----->\n",
            "[array([[-0.14307897,  0.15775281,  0.24252807,  0.578164  ,  0.21580857,\n",
            "         0.06344748, -0.00222085, -0.337275  ,  0.8292025 ,  0.3875358 ],\n",
            "       [-0.45251396, -0.6252628 , -0.46899244,  0.5592093 , -0.34389067,\n",
            "        -0.4751169 , -0.66536343, -0.03517812,  0.03992226,  0.13251655],\n",
            "       [ 1.0051961 ,  1.0361862 ,  0.2517417 , -0.3230005 , -0.6491975 ,\n",
            "         0.00711173,  0.35378987, -0.31043395,  0.10946971,  0.10897395],\n",
            "       [ 0.8581997 ,  0.5270026 ,  0.35633895,  0.18120807, -0.17891604,\n",
            "         0.01150429, -0.30015504, -0.2350756 , -0.47065127, -0.34666562]],\n",
            "      dtype=float32), array([-0.08829236, -0.13077222, -0.00767897,  0.07459138,  0.        ,\n",
            "        0.        , -0.00490233,  0.        ,  0.11459205,  0.12610318],\n",
            "      dtype=float32), array([[-4.67704952e-01, -2.34934211e-01, -2.08492726e-01,\n",
            "         1.22269496e-01, -4.08121943e-01, -2.58778721e-01,\n",
            "        -3.56220365e-01, -1.53610781e-01, -2.23294079e-01,\n",
            "         9.49299335e-01],\n",
            "       [-3.00920811e-02, -5.87481149e-02,  1.36589497e-01,\n",
            "         1.01972926e+00, -1.34773742e-04, -1.00086123e-01,\n",
            "        -5.20660222e-01, -5.16755939e-01,  1.22433849e-01,\n",
            "         8.70265484e-01],\n",
            "       [-4.35282528e-01, -5.18969297e-01, -4.22704786e-01,\n",
            "         1.98669150e-01,  1.77645013e-01,  4.09413576e-01,\n",
            "         3.78806144e-01, -9.86642987e-02, -6.50447607e-01,\n",
            "        -1.50330588e-01],\n",
            "       [ 1.18873112e-01,  6.14840508e-01,  5.04525304e-02,\n",
            "         6.51323572e-02,  5.70372880e-01, -3.86536121e-04,\n",
            "        -6.94670305e-02,  1.71236265e-02,  4.30987209e-01,\n",
            "        -1.16208658e-01],\n",
            "       [ 1.77135348e-01,  2.78774917e-01,  1.17114305e-01,\n",
            "        -5.47148645e-01, -4.36790586e-02, -3.19899321e-02,\n",
            "         6.06981516e-02, -9.32368040e-02,  2.40300357e-01,\n",
            "        -1.03384078e-01],\n",
            "       [-1.99184597e-01,  1.82452798e-02, -4.83616769e-01,\n",
            "        -2.84600914e-01, -5.06624281e-01, -1.51718467e-01,\n",
            "         4.31101263e-01,  2.62339830e-01,  2.85974979e-01,\n",
            "         4.89228845e-01],\n",
            "       [ 3.95948410e-01, -8.29982478e-03, -2.51776367e-01,\n",
            "        -6.26811804e-03, -1.43336371e-01, -8.92081857e-02,\n",
            "        -1.64489776e-01,  1.15786612e-01, -5.02952576e-01,\n",
            "        -5.05737424e-01],\n",
            "       [ 1.54119074e-01, -1.87020242e-01, -1.12990350e-01,\n",
            "        -4.99525309e-01, -2.77446568e-01, -3.55813265e-01,\n",
            "         3.87931883e-01,  1.38135314e-01,  3.36805403e-01,\n",
            "         2.53970504e-01],\n",
            "       [ 5.25568485e-01,  2.01636329e-01, -2.87781935e-02,\n",
            "        -1.46344736e-01, -2.67963976e-01, -4.15549338e-01,\n",
            "         2.44284809e-01,  4.83223945e-01,  1.73606440e-01,\n",
            "        -6.61546826e-01],\n",
            "       [-3.82024884e-01,  2.41876274e-01, -3.89305621e-01,\n",
            "         3.00978601e-01,  2.52065599e-01,  1.40759051e-01,\n",
            "         5.10254860e-01,  4.84225601e-01,  1.50705963e-01,\n",
            "        -5.02632737e-01]], dtype=float32), array([ 0.04188701,  0.05678836, -0.00865895,  0.0105484 ,  0.07344403,\n",
            "        0.        ,  0.01165684,  0.058633  ,  0.03660948, -0.17024623],\n",
            "      dtype=float32), array([[ 0.155252  , -0.6572208 , -0.19103712],\n",
            "       [ 0.40984198,  0.36090967, -0.28687757],\n",
            "       [-0.577348  ,  0.17371054, -0.5362131 ],\n",
            "       [-0.42033106,  0.78983015,  0.64808154],\n",
            "       [ 0.10884863, -0.29971635, -0.75652975],\n",
            "       [ 0.4408673 ,  0.6779932 ,  0.3163777 ],\n",
            "       [ 0.60981846, -0.03768591,  0.4863486 ],\n",
            "       [ 0.30265662, -0.19356988, -0.7604868 ],\n",
            "       [ 0.3985729 ,  0.21959104, -0.23673274],\n",
            "       [-0.6885154 , -0.8115404 ,  1.0316297 ]], dtype=float32), array([ 0.04913832,  0.18867896, -0.23781733], dtype=float32)]\n",
            "Epoch 100: Loss: 0.097, Accuracy: 98.333%\n",
            "model.output----->\n",
            "2\n",
            "model.get_weights----->\n",
            "[array([[-0.15673852,  0.14412893,  0.23891258,  0.5924582 ,  0.21580857,\n",
            "         0.06344748, -0.00222085, -0.337275  ,  0.84857863,  0.40879917],\n",
            "       [-0.45905444, -0.6367551 , -0.47196478,  0.5671448 , -0.34389067,\n",
            "        -0.4751169 , -0.66536343, -0.03517812,  0.0525036 ,  0.1429455 ],\n",
            "       [ 1.0235317 ,  1.058297  ,  0.25590533, -0.3294242 , -0.6491975 ,\n",
            "         0.00711173,  0.35378987, -0.31043395,  0.09626938,  0.10327527],\n",
            "       [ 0.89471895,  0.55874723,  0.3622321 ,  0.16392633, -0.17891604,\n",
            "         0.01150429, -0.30015504, -0.2350756 , -0.4970552 , -0.36987656]],\n",
            "      dtype=float32), array([-0.10828454, -0.14739099, -0.01096036,  0.08596081,  0.        ,\n",
            "        0.        , -0.00490233,  0.        ,  0.13091077,  0.14241579],\n",
            "      dtype=float32), array([[-4.72927660e-01, -2.47769058e-01, -2.08492726e-01,\n",
            "         1.33505896e-01, -4.18915391e-01, -2.58778721e-01,\n",
            "        -3.62101555e-01, -1.67181030e-01, -2.34093770e-01,\n",
            "         9.84099686e-01],\n",
            "       [-3.64886858e-02, -6.74254149e-02,  1.36589497e-01,\n",
            "         1.03550661e+00, -8.61933548e-03, -1.00086123e-01,\n",
            "        -5.28104186e-01, -5.27592778e-01,  1.14114761e-01,\n",
            "         8.93108547e-01],\n",
            "       [-4.37878132e-01, -5.22762477e-01, -4.22704786e-01,\n",
            "         2.04965800e-01,  1.73971236e-01,  4.09413576e-01,\n",
            "         3.75773132e-01, -1.03344053e-01, -6.54008389e-01,\n",
            "        -1.40237033e-01],\n",
            "       [ 1.23651244e-01,  6.21360123e-01,  5.04525304e-02,\n",
            "         6.68428838e-02,  5.76654732e-01, -3.86536121e-04,\n",
            "        -6.81106970e-02,  2.49590874e-02,  4.35438246e-01,\n",
            "        -1.33729130e-01],\n",
            "       [ 1.77135348e-01,  2.78774917e-01,  1.17114305e-01,\n",
            "        -5.47148645e-01, -4.36790586e-02, -3.19899321e-02,\n",
            "         6.06981516e-02, -9.32368040e-02,  2.40300357e-01,\n",
            "        -1.03384078e-01],\n",
            "       [-1.99184597e-01,  1.82452798e-02, -4.83616769e-01,\n",
            "        -2.84600914e-01, -5.06624281e-01, -1.51718467e-01,\n",
            "         4.31101263e-01,  2.62339830e-01,  2.85974979e-01,\n",
            "         4.89228845e-01],\n",
            "       [ 3.95948410e-01, -8.29982478e-03, -2.51776367e-01,\n",
            "        -6.26811804e-03, -1.43336371e-01, -8.92081857e-02,\n",
            "        -1.64489776e-01,  1.15786612e-01, -5.02952576e-01,\n",
            "        -5.05737424e-01],\n",
            "       [ 1.54119074e-01, -1.87020242e-01, -1.12990350e-01,\n",
            "        -4.99525309e-01, -2.77446568e-01, -3.55813265e-01,\n",
            "         3.87931883e-01,  1.38135314e-01,  3.36805403e-01,\n",
            "         2.53970504e-01],\n",
            "       [ 5.28873384e-01,  2.13109672e-01, -2.87781935e-02,\n",
            "        -1.39185280e-01, -2.58736491e-01, -4.15549338e-01,\n",
            "         2.43791610e-01,  4.94364798e-01,  1.81007549e-01,\n",
            "        -6.93508744e-01],\n",
            "       [-3.79883468e-01,  2.48690039e-01, -3.89305621e-01,\n",
            "         3.04732144e-01,  2.57630050e-01,  1.40759051e-01,\n",
            "         5.10181785e-01,  4.90952790e-01,  1.55163243e-01,\n",
            "        -5.21573961e-01]], dtype=float32), array([ 0.04266745,  0.06347031, -0.00865895,  0.01267951,  0.07837147,\n",
            "        0.        ,  0.01164609,  0.06482927,  0.04121455, -0.18891497],\n",
            "      dtype=float32), array([[ 0.1618276 , -0.66370136, -0.19113249],\n",
            "       [ 0.4146341 ,  0.3760845 , -0.30684483],\n",
            "       [-0.577348  ,  0.17371054, -0.5362131 ],\n",
            "       [-0.43874604,  0.7943056 ,  0.6620221 ],\n",
            "       [ 0.11281441, -0.29327425, -0.7669375 ],\n",
            "       [ 0.4408673 ,  0.6779932 ,  0.3163777 ],\n",
            "       [ 0.6170007 , -0.04471282,  0.4861931 ],\n",
            "       [ 0.30952698, -0.17720445, -0.7837227 ],\n",
            "       [ 0.40183255,  0.23133232, -0.25173372],\n",
            "       [-0.69018024, -0.8542109 ,  1.075965  ]], dtype=float32), array([ 0.04838312,  0.19961636, -0.24799962], dtype=float32)]\n"
          ],
          "name": "stdout"
        }
      ]
    },
    {
      "cell_type": "markdown",
      "metadata": {
        "id": "2FQHVUnm_rjw"
      },
      "source": [
        "### Visualize the loss function over time"
      ]
    },
    {
      "cell_type": "markdown",
      "metadata": {
        "id": "j3wdbmtLVTyr"
      },
      "source": [
        "While it's helpful to print out the model's training progress, it's often *more* helpful to see this progress. [TensorBoard](https://www.tensorflow.org/tensorboard) is a nice visualization tool that is packaged with TensorFlow, but we can create basic charts using the `matplotlib` module.\n",
        "\n",
        "Interpreting these charts takes some experience, but you really want to see the *loss* go down and the *accuracy* go up:"
      ]
    },
    {
      "cell_type": "code",
      "metadata": {
        "id": "agjvNd2iUGFn",
        "outputId": "e58ea9cc-74f3-4a7d-ae5c-06373932290b",
        "colab": {
          "base_uri": "https://localhost:8080/",
          "height": 558
        }
      },
      "source": [
        "fig, axes = plt.subplots(2, sharex=True, figsize=(12, 8))\n",
        "fig.suptitle('Training Metrics')\n",
        "\n",
        "axes[0].set_ylabel(\"Loss\", fontsize=14)\n",
        "axes[0].plot(train_loss_results)\n",
        "\n",
        "axes[1].set_ylabel(\"Accuracy\", fontsize=14)\n",
        "axes[1].set_xlabel(\"Epoch\", fontsize=14)\n",
        "axes[1].plot(train_accuracy_results)\n",
        "plt.show()"
      ],
      "execution_count": 27,
      "outputs": [
        {
          "output_type": "display_data",
          "data": {
            "image/png": "[encoded data removed]",
            "text/plain": [
              "<Figure size 864x576 with 2 Axes>"
            ]
          },
          "metadata": {
            "tags": [],
            "needs_background": "light"
          }
        }
      ]
    },
    {
      "cell_type": "markdown",
      "metadata": {
        "id": "Zg8GoMZhLpGH"
      },
      "source": [
        "## Evaluate the model's effectiveness\n",
        "\n",
        "Now that the model is trained, we can get some statistics on its performance.\n",
        "\n",
        "*Evaluating* means determining how effectively the model makes predictions. To determine the model's effectiveness at Iris classification, pass some sepal and petal measurements to the model and ask the model to predict what Iris species they represent. Then compare the model's predictions against the actual label.  For example, a model that picked the correct species on half the input examples has an *[accuracy](https://developers.google.com/machine-learning/glossary/#accuracy)* of `0.5`. Figure 4 shows a slightly more effective model, getting 4 out of 5 predictions correct at 80% accuracy:\n",
        "\n",
        "<table cellpadding=\"8\" border=\"0\">\n",
        "  <colgroup>\n",
        "    <col span=\"4\" >\n",
        "    <col span=\"1\" bgcolor=\"lightblue\">\n",
        "    <col span=\"1\" bgcolor=\"lightgreen\">\n",
        "  </colgroup>\n",
        "  <tr bgcolor=\"lightgray\">\n",
        "    <th colspan=\"4\">Example features</th>\n",
        "    <th colspan=\"1\">Label</th>\n",
        "    <th colspan=\"1\" >Model prediction</th>\n",
        "  </tr>\n",
        "  <tr>\n",
        "    <td>5.9</td><td>3.0</td><td>4.3</td><td>1.5</td><td align=\"center\">1</td><td align=\"center\">1</td>\n",
        "  </tr>\n",
        "  <tr>\n",
        "    <td>6.9</td><td>3.1</td><td>5.4</td><td>2.1</td><td align=\"center\">2</td><td align=\"center\">2</td>\n",
        "  </tr>\n",
        "  <tr>\n",
        "    <td>5.1</td><td>3.3</td><td>1.7</td><td>0.5</td><td align=\"center\">0</td><td align=\"center\">0</td>\n",
        "  </tr>\n",
        "  <tr>\n",
        "    <td>6.0</td> <td>3.4</td> <td>4.5</td> <td>1.6</td> <td align=\"center\">1</td><td align=\"center\" bgcolor=\"red\">2</td>\n",
        "  </tr>\n",
        "  <tr>\n",
        "    <td>5.5</td><td>2.5</td><td>4.0</td><td>1.3</td><td align=\"center\">1</td><td align=\"center\">1</td>\n",
        "  </tr>\n",
        "  <tr><td align=\"center\" colspan=\"6\">\n",
        "    <b>Figure 4.</b> An Iris classifier that is 80% accurate.<br/>&nbsp;\n",
        "  </td></tr>\n",
        "</table>"
      ]
    },
    {
      "cell_type": "markdown",
      "metadata": {
        "id": "z-EvK7hGL0d8"
      },
      "source": [
        "### Setup the test dataset\n",
        "\n",
        "Evaluating the model is similar to training the model. The biggest difference is the examples come from a separate *[test set](https://developers.google.com/machine-learning/crash-course/glossary#test_set)* rather than the training set. To fairly assess a model's effectiveness, the examples used to evaluate a model must be different from the examples used to train the model.\n",
        "\n",
        "The setup for the test `Dataset` is similar to the setup for training `Dataset`. Download the CSV text file and parse that values, then give it a little shuffle:"
      ]
    },
    {
      "cell_type": "code",
      "metadata": {
        "id": "Ps3_9dJ3Lodk",
        "outputId": "fcd23353-2a38-4237-88f4-873a3dbcff6a",
        "colab": {
          "base_uri": "https://localhost:8080/"
        }
      },
      "source": [
        "test_url = \"https://storage.googleapis.com/download.tensorflow.org/data/iris_test.csv\"\n",
        "\n",
        "test_fp = tf.keras.utils.get_file(fname=os.path.basename(test_url),\n",
        "                                  origin=test_url)"
      ],
      "execution_count": 28,
      "outputs": [
        {
          "output_type": "stream",
          "text": [
            "Downloading data from https://storage.googleapis.com/download.tensorflow.org/data/iris_test.csv\n",
            "\r8192/573 [============================================================================================================================================================================================================================================================================================================================================================================================================================================] - 0s 0us/step\n"
          ],
          "name": "stdout"
        }
      ]
    },
    {
      "cell_type": "code",
      "metadata": {
        "id": "SRMWCu30bnxH"
      },
      "source": [
        "test_dataset = tf.data.experimental.make_csv_dataset(\n",
        "    test_fp,\n",
        "    batch_size,\n",
        "    column_names=column_names,\n",
        "    label_name='species',\n",
        "    num_epochs=1,\n",
        "    shuffle=False)\n",
        "\n",
        "test_dataset = test_dataset.map(pack_features_vector)"
      ],
      "execution_count": 29,
      "outputs": []
    },
    {
      "cell_type": "markdown",
      "metadata": {
        "id": "HFuOKXJdMAdm"
      },
      "source": [
        "### Evaluate the model on the test dataset\n",
        "\n",
        "Unlike the training stage, the model only evaluates a single [epoch](https://developers.google.com/machine-learning/glossary/#epoch) of the test data. In the following code cell, we iterate over each example in the test set and compare the model's prediction against the actual label. This is used to measure the model's accuracy across the entire test set:"
      ]
    },
    {
      "cell_type": "code",
      "metadata": {
        "id": "Tw03-MK1cYId",
        "outputId": "b92b0ba3-8d65-45a6-9b20-e30e189d552c",
        "colab": {
          "base_uri": "https://localhost:8080/"
        }
      },
      "source": [
        "test_accuracy = tf.keras.metrics.Accuracy()\n",
        "\n",
        "for (x, y) in test_dataset:\n",
        "  # training=False is needed only if there are layers with different\n",
        "  # behavior during training versus inference (e.g. Dropout).\n",
        "  logits = model(x, training=False)\n",
        "  prediction = tf.argmax(logits, axis=1, output_type=tf.int32)\n",
        "  test_accuracy(prediction, y)\n",
        "\n",
        "print(\"Test set accuracy: {:.3%}\".format(test_accuracy.result()))"
      ],
      "execution_count": 30,
      "outputs": [
        {
          "output_type": "stream",
          "text": [
            "Test set accuracy: 96.667%\n"
          ],
          "name": "stdout"
        }
      ]
    },
    {
      "cell_type": "markdown",
      "metadata": {
        "id": "HcKEZMtCOeK-"
      },
      "source": [
        "We can see on the last batch, for example, the model is usually correct:"
      ]
    },
    {
      "cell_type": "code",
      "metadata": {
        "id": "uNwt2eMeOane",
        "outputId": "2c4d49f1-0f2d-46eb-ceda-19e6aacd4d9c",
        "colab": {
          "base_uri": "https://localhost:8080/"
        }
      },
      "source": [
        "tf.stack([y,prediction],axis=1)"
      ],
      "execution_count": 31,
      "outputs": [
        {
          "output_type": "execute_result",
          "data": {
            "text/plain": [
              "<tf.Tensor: shape=(30, 2), dtype=int32, numpy=\n",
              "array([[1, 1],\n",
              "       [2, 2],\n",
              "       [0, 0],\n",
              "       [1, 1],\n",
              "       [1, 1],\n",
              "       [1, 1],\n",
              "       [0, 0],\n",
              "       [2, 2],\n",
              "       [1, 1],\n",
              "       [2, 2],\n",
              "       [2, 2],\n",
              "       [0, 0],\n",
              "       [2, 2],\n",
              "       [1, 1],\n",
              "       [1, 1],\n",
              "       [0, 0],\n",
              "       [1, 1],\n",
              "       [0, 0],\n",
              "       [0, 0],\n",
              "       [2, 2],\n",
              "       [0, 0],\n",
              "       [1, 1],\n",
              "       [2, 2],\n",
              "       [1, 2],\n",
              "       [1, 1],\n",
              "       [1, 1],\n",
              "       [0, 0],\n",
              "       [1, 1],\n",
              "       [2, 2],\n",
              "       [1, 1]], dtype=int32)>"
            ]
          },
          "metadata": {
            "tags": []
          },
          "execution_count": 31
        }
      ]
    },
    {
      "cell_type": "markdown",
      "metadata": {
        "id": "7Li2r1tYvW7S"
      },
      "source": [
        "## Use the trained model to make predictions\n",
        "\n",
        "We've trained a model and \"proven\" that it's good—but not perfect—at classifying Iris species. Now let's use the trained model to make some predictions on [unlabeled examples](https://developers.google.com/machine-learning/glossary/#unlabeled_example); that is, on examples that contain features but not a label.\n",
        "\n",
        "In real-life, the unlabeled examples could come from lots of different sources including apps, CSV files, and data feeds. For now, we're going to manually provide three unlabeled examples to predict their labels. Recall, the label numbers are mapped to a named representation as:\n",
        "\n",
        "* `0`: Iris setosa\n",
        "* `1`: Iris versicolor\n",
        "* `2`: Iris virginica"
      ]
    },
    {
      "cell_type": "code",
      "metadata": {
        "id": "kesTS5Lzv-M2",
        "outputId": "859f88bd-ea20-4a52-a951-06ba9699a748",
        "colab": {
          "base_uri": "https://localhost:8080/"
        }
      },
      "source": [
        "predict_dataset = tf.convert_to_tensor([\n",
        "    [5.1, 3.3, 1.7, 0.5,],\n",
        "    [5.9, 3.0, 4.2, 1.5,],\n",
        "    [6.9, 3.1, 5.4, 2.1]\n",
        "])\n",
        "\n",
        "# training=False is needed only if there are layers with different\n",
        "# behavior during training versus inference (e.g. Dropout).\n",
        "predictions = model(predict_dataset, training=False)\n",
        "\n",
        "for i, logits in enumerate(predictions):\n",
        "  class_idx = tf.argmax(logits).numpy()\n",
        "  p = tf.nn.softmax(logits)[class_idx]\n",
        "  name = class_names[class_idx]\n",
        "  print(\"Example {} prediction: {} ({:4.1f}%)\".format(i, name, 100*p))"
      ],
      "execution_count": 32,
      "outputs": [
        {
          "output_type": "stream",
          "text": [
            "Example 0 prediction: Iris setosa (98.3%)\n",
            "Example 1 prediction: Iris versicolor (90.0%)\n",
            "Example 2 prediction: Iris virginica (80.3%)\n"
          ],
          "name": "stdout"
        }
      ]
    }
  ]
}