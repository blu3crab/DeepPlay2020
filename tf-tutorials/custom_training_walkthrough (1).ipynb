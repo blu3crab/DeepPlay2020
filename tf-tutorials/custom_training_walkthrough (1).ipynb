{
  "nbformat": 4,
  "nbformat_minor": 0,
  "metadata": {
    "colab": {
      "name": "custom_training_walkthrough.ipynb",
      "provenance": [],
      "collapsed_sections": [],
      "toc_visible": true
    },
    "kernelspec": {
      "display_name": "Python 3",
      "name": "python3"
    }
  },
  "cells": [
    {
      "cell_type": "markdown",
      "metadata": {
        "id": "rwxGnsA92emp"
      },
      "source": [
        "##### Copyright 2018 The TensorFlow Authors."
      ]
    },
    {
      "cell_type": "code",
      "metadata": {
        "cellView": "form",
        "id": "CPII1rGR2rF9"
      },
      "source": [
        "#@title Licensed under the Apache License, Version 2.0 (the \"License\");\n",
        "# you may not use this file except in compliance with the License.\n",
        "# You may obtain a copy of the License at\n",
        "#\n",
        "# https://www.apache.org/licenses/LICENSE-2.0\n",
        "#\n",
        "# Unless required by applicable law or agreed to in writing, software\n",
        "# distributed under the License is distributed on an \"AS IS\" BASIS,\n",
        "# WITHOUT WARRANTIES OR CONDITIONS OF ANY KIND, either express or implied.\n",
        "# See the License for the specific language governing permissions and\n",
        "# limitations under the License."
      ],
      "execution_count": null,
      "outputs": []
    },
    {
      "cell_type": "markdown",
      "metadata": {
        "id": "JtEZ1pCPn--z"
      },
      "source": [
        "# Custom training: walkthrough"
      ]
    },
    {
      "cell_type": "markdown",
      "metadata": {
        "id": "GV1F7tVTN3Dn"
      },
      "source": [
        "<table class=\"tfo-notebook-buttons\" align=\"left\">\n",
        "  <td>\n",
        "    <a target=\"_blank\" href=\"https://www.tensorflow.org/tutorials/customization/custom_training_walkthrough\"><img src=\"https://www.tensorflow.org/images/tf_logo_32px.png\" />View on TensorFlow.org</a>\n",
        "  </td>\n",
        "  <td>\n",
        "    <a target=\"_blank\" href=\"https://colab.research.google.com/github/tensorflow/docs/blob/master/site/en/tutorials/customization/custom_training_walkthrough.ipynb\"><img src=\"https://www.tensorflow.org/images/colab_logo_32px.png\" />Run in Google Colab</a>\n",
        "  </td>\n",
        "  <td>\n",
        "    <a target=\"_blank\" href=\"https://github.com/tensorflow/docs/blob/master/site/en/tutorials/customization/custom_training_walkthrough.ipynb\"><img src=\"https://www.tensorflow.org/images/GitHub-Mark-32px.png\" />View source on GitHub</a>\n",
        "  </td>\n",
        "  <td>\n",
        "    <a href=\"https://storage.googleapis.com/tensorflow_docs/docs/site/en/tutorials/customization/custom_training_walkthrough.ipynb\"><img src=\"https://www.tensorflow.org/images/download_logo_32px.png\" />Download notebook</a>\n",
        "  </td>\n",
        "</table>"
      ]
    },
    {
      "cell_type": "markdown",
      "metadata": {
        "id": "LDrzLFXE8T1l"
      },
      "source": [
        "This guide uses machine learning to *categorize* Iris flowers by species. It uses TensorFlow to:\n",
        "1. Build a model,\n",
        "2. Train this model on example data, and\n",
        "3. Use the model to make predictions about unknown data.\n",
        "\n",
        "## TensorFlow programming\n",
        "\n",
        "This guide uses these high-level TensorFlow concepts:\n",
        "\n",
        "* Use TensorFlow's default [eager execution](../../guide/eager.ipynb) development environment,\n",
        "* Import data with the [Datasets API](../../guide/datasets.ipynb),\n",
        "* Build models and layers with TensorFlow's [Keras API](../../guide/keras/overview.ipynb).\n",
        "\n",
        "This tutorial is structured like many TensorFlow programs:\n",
        "\n",
        "1. Import and parse the dataset.\n",
        "2. Select the type of model.\n",
        "3. Train the model.\n",
        "4. Evaluate the model's effectiveness.\n",
        "5. Use the trained model to make predictions."
      ]
    },
    {
      "cell_type": "markdown",
      "metadata": {
        "id": "yNr7H-AIoLOR"
      },
      "source": [
        "## Setup program"
      ]
    },
    {
      "cell_type": "markdown",
      "metadata": {
        "id": "1J3AuPBT9gyR"
      },
      "source": [
        "### Configure imports\n",
        "\n",
        "Import TensorFlow and the other required Python modules. By default, TensorFlow uses [eager execution](../../guide/eager.ipynb) to evaluate operations immediately, returning concrete values instead of creating a computational graph that is executed later. If you are used to a REPL or the `python` interactive console, this feels familiar."
      ]
    },
    {
      "cell_type": "code",
      "metadata": {
        "id": "jElLULrDhQZR"
      },
      "source": [
        "import os\n",
        "import matplotlib.pyplot as plt"
      ],
      "execution_count": 1,
      "outputs": []
    },
    {
      "cell_type": "code",
      "metadata": {
        "id": "bfV2Dai0Ow2o"
      },
      "source": [
        "import tensorflow as tf"
      ],
      "execution_count": 2,
      "outputs": []
    },
    {
      "cell_type": "code",
      "metadata": {
        "id": "g4Wzg69bnwK2",
        "outputId": "92b7bef3-d330-4a98-f8f1-799404f6e1b2",
        "colab": {
          "base_uri": "https://localhost:8080/"
        }
      },
      "source": [
        "print(\"TensorFlow version: {}\".format(tf.__version__))\n",
        "print(\"Eager execution: {}\".format(tf.executing_eagerly()))"
      ],
      "execution_count": 3,
      "outputs": [
        {
          "output_type": "stream",
          "text": [
            "TensorFlow version: 2.3.0\n",
            "Eager execution: True\n"
          ],
          "name": "stdout"
        }
      ]
    },
    {
      "cell_type": "markdown",
      "metadata": {
        "id": "Zx7wc0LuuxaJ"
      },
      "source": [
        "## The Iris classification problem\n",
        "\n",
        "Imagine you are a botanist seeking an automated way to categorize each Iris flower you find. Machine learning provides many algorithms to classify flowers statistically. For instance, a sophisticated machine learning program could classify flowers based on photographs. Our ambitions are more modest—we're going to classify Iris flowers based on the length and width measurements of their [sepals](https://en.wikipedia.org/wiki/Sepal) and [petals](https://en.wikipedia.org/wiki/Petal).\n",
        "\n",
        "The Iris genus entails about 300 species, but our program will only classify the following three:\n",
        "\n",
        "* Iris setosa\n",
        "* Iris virginica\n",
        "* Iris versicolor\n",
        "\n",
        "<table>\n",
        "  <tr><td>\n",
        "    <img src=\"https://www.tensorflow.org/images/iris_three_species.jpg\"\n",
        "         alt=\"Petal geometry compared for three iris species: Iris setosa, Iris virginica, and Iris versicolor\">\n",
        "  </td></tr>\n",
        "  <tr><td align=\"center\">\n",
        "    <b>Figure 1.</b> <a href=\"https://commons.wikimedia.org/w/index.php?curid=170298\">Iris setosa</a> (by <a href=\"https://commons.wikimedia.org/wiki/User:Radomil\">Radomil</a>, CC BY-SA 3.0), <a href=\"https://commons.wikimedia.org/w/index.php?curid=248095\">Iris versicolor</a>, (by <a href=\"https://commons.wikimedia.org/wiki/User:Dlanglois\">Dlanglois</a>, CC BY-SA 3.0), and <a href=\"https://www.flickr.com/photos/33397993@N05/3352169862\">Iris virginica</a> (by <a href=\"https://www.flickr.com/photos/33397993@N05\">Frank Mayfield</a>, CC BY-SA 2.0).<br/>&nbsp;\n",
        "  </td></tr>\n",
        "</table>\n",
        "\n",
        "Fortunately, someone has already created a [dataset of 120 Iris flowers](https://en.wikipedia.org/wiki/Iris_flower_data_set) with the sepal and petal measurements. This is a classic dataset that is popular for beginner machine learning classification problems."
      ]
    },
    {
      "cell_type": "markdown",
      "metadata": {
        "id": "3Px6KAg0Jowz"
      },
      "source": [
        "## Import and parse the training dataset\n",
        "\n",
        "Download the dataset file and convert it into a structure that can be used by this Python program.\n",
        "\n",
        "### Download the dataset\n",
        "\n",
        "Download the training dataset file using the `tf.keras.utils.get_file` function. This returns the file path of the downloaded file:"
      ]
    },
    {
      "cell_type": "code",
      "metadata": {
        "id": "J6c7uEU9rjRM",
        "outputId": "6343d643-3a1c-4159-d627-007f2391a2ac",
        "colab": {
          "base_uri": "https://localhost:8080/"
        }
      },
      "source": [
        "train_dataset_url = \"https://storage.googleapis.com/download.tensorflow.org/data/iris_training.csv\"\n",
        "\n",
        "train_dataset_fp = tf.keras.utils.get_file(fname=os.path.basename(train_dataset_url),\n",
        "                                           origin=train_dataset_url)\n",
        "\n",
        "print(\"Local copy of the dataset file: {}\".format(train_dataset_fp))"
      ],
      "execution_count": 4,
      "outputs": [
        {
          "output_type": "stream",
          "text": [
            "Downloading data from https://storage.googleapis.com/download.tensorflow.org/data/iris_training.csv\n",
            "\r8192/2194 [================================================================================================================] - 0s 0us/step\n",
            "Local copy of the dataset file: /root/.keras/datasets/iris_training.csv\n"
          ],
          "name": "stdout"
        }
      ]
    },
    {
      "cell_type": "markdown",
      "metadata": {
        "id": "qnX1-aLors4S"
      },
      "source": [
        "### Inspect the data\n",
        "\n",
        "This dataset, `iris_training.csv`, is a plain text file that stores tabular data formatted as comma-separated values (CSV). Use the `head -n5` command to take a peek at the first five entries:"
      ]
    },
    {
      "cell_type": "code",
      "metadata": {
        "id": "FQvb_JYdrpPm",
        "outputId": "ef619564-639f-4596-cb92-323aa093bcc2",
        "colab": {
          "base_uri": "https://localhost:8080/"
        }
      },
      "source": [
        "!head -n5 {train_dataset_fp}"
      ],
      "execution_count": 5,
      "outputs": [
        {
          "output_type": "stream",
          "text": [
            "120,4,setosa,versicolor,virginica\n",
            "6.4,2.8,5.6,2.2,2\n",
            "5.0,2.3,3.3,1.0,1\n",
            "4.9,2.5,4.5,1.7,2\n",
            "4.9,3.1,1.5,0.1,0\n"
          ],
          "name": "stdout"
        }
      ]
    },
    {
      "cell_type": "markdown",
      "metadata": {
        "id": "kQhzD6P-uBoq"
      },
      "source": [
        "From this view of the dataset, notice the following:\n",
        "\n",
        "1. The first line is a header containing information about the dataset:\n",
        "  * There are 120 total examples. Each example has four features and one of three possible label names.\n",
        "2. Subsequent rows are data records, one *[example](https://developers.google.com/machine-learning/glossary/#example)* per line, where:\n",
        "  * The first four fields are *[features](https://developers.google.com/machine-learning/glossary/#feature)*: these are the characteristics of an example. Here, the fields hold float numbers representing flower measurements.\n",
        "  * The last column is the *[label](https://developers.google.com/machine-learning/glossary/#label)*: this is the value we want to predict. For this dataset, it's an integer value of 0, 1, or 2 that corresponds to a flower name.\n",
        "\n",
        "Let's write that out in code:"
      ]
    },
    {
      "cell_type": "code",
      "metadata": {
        "id": "9Edhevw7exl6",
        "outputId": "b2da2153-2ffe-4881-99ee-eee57af20812",
        "colab": {
          "base_uri": "https://localhost:8080/"
        }
      },
      "source": [
        "# column order in CSV file\n",
        "column_names = ['sepal_length', 'sepal_width', 'petal_length', 'petal_width', 'species']\n",
        "\n",
        "feature_names = column_names[:-1]\n",
        "label_name = column_names[-1]\n",
        "\n",
        "print(\"Features: {}\".format(feature_names))\n",
        "print(\"Label: {}\".format(label_name))"
      ],
      "execution_count": 6,
      "outputs": [
        {
          "output_type": "stream",
          "text": [
            "Features: ['sepal_length', 'sepal_width', 'petal_length', 'petal_width']\n",
            "Label: species\n"
          ],
          "name": "stdout"
        }
      ]
    },
    {
      "cell_type": "markdown",
      "metadata": {
        "id": "CCtwLoJhhDNc"
      },
      "source": [
        "Each label is associated with string name (for example, \"setosa\"), but machine learning typically relies on numeric values. The label numbers are mapped to a named representation, such as:\n",
        "\n",
        "* `0`: Iris setosa\n",
        "* `1`: Iris versicolor\n",
        "* `2`: Iris virginica\n",
        "\n",
        "For more information about features and labels, see the [ML Terminology section of the Machine Learning Crash Course](https://developers.google.com/machine-learning/crash-course/framing/ml-terminology)."
      ]
    },
    {
      "cell_type": "code",
      "metadata": {
        "id": "sVNlJlUOhkoX",
        "outputId": "0419d477-b15c-4e52-8203-927a71269504",
        "colab": {
          "base_uri": "https://localhost:8080/"
        }
      },
      "source": [
        "class_names = ['Iris setosa', 'Iris versicolor', 'Iris virginica']\n",
        "print(class_names)"
      ],
      "execution_count": 7,
      "outputs": [
        {
          "output_type": "stream",
          "text": [
            "['Iris setosa', 'Iris versicolor', 'Iris virginica']\n"
          ],
          "name": "stdout"
        }
      ]
    },
    {
      "cell_type": "markdown",
      "metadata": {
        "id": "dqPkQExM2Pwt"
      },
      "source": [
        "### Create a `tf.data.Dataset`\n",
        "\n",
        "TensorFlow's [Dataset API](../../guide/data.ipynb) handles many common cases for loading data into a model. This is a high-level API for reading data and transforming it into a form used for training.\n",
        "\n",
        "\n",
        "Since the dataset is a CSV-formatted text file, use the `tf.data.experimental.make_csv_dataset` function to parse the data into a suitable format. Since this function generates data for training models, the default behavior is to shuffle the data (`shuffle=True, shuffle_buffer_size=10000`), and repeat the dataset forever (`num_epochs=None`). We also set the [batch_size](https://developers.google.com/machine-learning/glossary/#batch_size) parameter:"
      ]
    },
    {
      "cell_type": "code",
      "metadata": {
        "id": "WsxHnz1ebJ2S"
      },
      "source": [
        "batch_size = 32\n",
        "\n",
        "train_dataset = tf.data.experimental.make_csv_dataset(\n",
        "    train_dataset_fp,\n",
        "    batch_size,\n",
        "    column_names=column_names,\n",
        "    label_name=label_name,\n",
        "    num_epochs=1)"
      ],
      "execution_count": 8,
      "outputs": []
    },
    {
      "cell_type": "markdown",
      "metadata": {
        "id": "gB_RSn62c-3G"
      },
      "source": [
        "The `make_csv_dataset` function returns a `tf.data.Dataset` of `(features, label)` pairs, where `features` is a dictionary: `{'feature_name': value}`\n",
        "\n",
        "These `Dataset` objects are iterable. Let's look at a batch of features:"
      ]
    },
    {
      "cell_type": "code",
      "metadata": {
        "id": "iDuG94H-C122",
        "outputId": "f380e63c-c895-4b2d-b665-3d4a6e383a3f",
        "colab": {
          "base_uri": "https://localhost:8080/"
        }
      },
      "source": [
        "features, labels = next(iter(train_dataset))\n",
        "\n",
        "print(features)"
      ],
      "execution_count": 9,
      "outputs": [
        {
          "output_type": "stream",
          "text": [
            "OrderedDict([('sepal_length', <tf.Tensor: shape=(32,), dtype=float32, numpy=\n",
            "array([5. , 5.8, 5.5, 4.6, 5. , 7.4, 4.6, 6.5, 5. , 4.8, 6.1, 6.6, 5.8,\n",
            "       6.4, 6.4, 4.9, 6.2, 6.5, 6.8, 5.7, 5. , 6.3, 6. , 5.1, 5.5, 6. ,\n",
            "       6.3, 6.7, 6.4, 5.4, 6.3, 6.3], dtype=float32)>), ('sepal_width', <tf.Tensor: shape=(32,), dtype=float32, numpy=\n",
            "array([3.5, 4. , 3.5, 3.4, 2. , 2.8, 3.1, 2.8, 2.3, 3. , 2.6, 2.9, 2.7,\n",
            "       3.2, 2.8, 3.1, 2.8, 3. , 3.2, 2.9, 3.2, 3.3, 3. , 3.8, 2.4, 2.7,\n",
            "       3.3, 3.1, 2.7, 3.9, 2.7, 2.3], dtype=float32)>), ('petal_length', <tf.Tensor: shape=(32,), dtype=float32, numpy=\n",
            "array([1.6, 1.2, 1.3, 1.4, 3.5, 6.1, 1.5, 4.6, 3.3, 1.4, 5.6, 4.6, 4.1,\n",
            "       4.5, 5.6, 1.5, 4.8, 5.5, 5.9, 4.2, 1.2, 6. , 4.8, 1.5, 3.7, 5.1,\n",
            "       4.7, 5.6, 5.3, 1.3, 4.9, 4.4], dtype=float32)>), ('petal_width', <tf.Tensor: shape=(32,), dtype=float32, numpy=\n",
            "array([0.6, 0.2, 0.2, 0.3, 1. , 1.9, 0.2, 1.5, 1. , 0.3, 1.4, 1.3, 1. ,\n",
            "       1.5, 2.1, 0.1, 1.8, 1.8, 2.3, 1.3, 0.2, 2.5, 1.8, 0.3, 1. , 1.6,\n",
            "       1.6, 2.4, 1.9, 0.4, 1.8, 1.3], dtype=float32)>)])\n"
          ],
          "name": "stdout"
        }
      ]
    },
    {
      "cell_type": "markdown",
      "metadata": {
        "id": "E63mArnQaAGz"
      },
      "source": [
        "Notice that like-features are grouped together, or *batched*. Each example row's fields are appended to the corresponding feature array. Change the `batch_size` to set the number of examples stored in these feature arrays.\n",
        "\n",
        "You can start to see some clusters by plotting a few features from the batch:"
      ]
    },
    {
      "cell_type": "code",
      "metadata": {
        "id": "me5Wn-9FcyyO",
        "outputId": "33c8f292-2da7-4044-e1ad-e6f8ababa0db",
        "colab": {
          "base_uri": "https://localhost:8080/",
          "height": 281
        }
      },
      "source": [
        "plt.scatter(features['petal_length'],\n",
        "            features['sepal_length'],\n",
        "            c=labels,\n",
        "            cmap='viridis')\n",
        "\n",
        "plt.xlabel(\"Petal length\")\n",
        "plt.ylabel(\"Sepal length\")\n",
        "plt.show()"
      ],
      "execution_count": 10,
      "outputs": [
        {
          "output_type": "display_data",
          "data": {
            "image/png": "[encoded data removed]",
            "text/plain": [
              "<Figure size 432x288 with 1 Axes>"
            ]
          },
          "metadata": {
            "tags": [],
            "needs_background": "light"
          }
        }
      ]
    },
    {
      "cell_type": "markdown",
      "metadata": {
        "id": "YlxpSyHlhT6M"
      },
      "source": [
        "To simplify the model building step, create a function to repackage the features dictionary into a single array with shape: `(batch_size, num_features)`.\n",
        "\n",
        "This function uses the `tf.stack` method which takes values from a list of tensors and creates a combined tensor at the specified dimension:"
      ]
    },
    {
      "cell_type": "code",
      "metadata": {
        "id": "jm932WINcaGU"
      },
      "source": [
        "def pack_features_vector(features, labels):\n",
        "  \"\"\"Pack the features into a single array.\"\"\"\n",
        "  features = tf.stack(list(features.values()), axis=1)\n",
        "  return features, labels"
      ],
      "execution_count": 11,
      "outputs": []
    },
    {
      "cell_type": "markdown",
      "metadata": {
        "id": "V1Vuph_eDl8x"
      },
      "source": [
        "Then use the `tf.data.Dataset#map` method to pack the `features` of each `(features,label)` pair into the training dataset:"
      ]
    },
    {
      "cell_type": "code",
      "metadata": {
        "id": "ZbDkzGZIkpXf"
      },
      "source": [
        "train_dataset = train_dataset.map(pack_features_vector)"
      ],
      "execution_count": 12,
      "outputs": []
    },
    {
      "cell_type": "markdown",
      "metadata": {
        "id": "NLy0Q1xCldVO"
      },
      "source": [
        "The features element of the `Dataset` are now arrays with shape `(batch_size, num_features)`. Let's look at the first few examples:"
      ]
    },
    {
      "cell_type": "code",
      "metadata": {
        "id": "kex9ibEek6Tr",
        "outputId": "ec831574-0e13-4c45-8b36-a449a563011c",
        "colab": {
          "base_uri": "https://localhost:8080/"
        }
      },
      "source": [
        "features, labels = next(iter(train_dataset))\n",
        "\n",
        "print(features[:5])"
      ],
      "execution_count": 13,
      "outputs": [
        {
          "output_type": "stream",
          "text": [
            "tf.Tensor(\n",
            "[[5.7 3.8 1.7 0.3]\n",
            " [7.2 3.2 6.  1.8]\n",
            " [4.8 3.  1.4 0.3]\n",
            " [5.7 2.8 4.5 1.3]\n",
            " [5.6 2.5 3.9 1.1]], shape=(5, 4), dtype=float32)\n"
          ],
          "name": "stdout"
        }
      ]
    },
    {
      "cell_type": "code",
      "metadata": {
        "id": "b1jI_npflkmF",
        "outputId": "5ab25147-e433-40d7-a695-6704bc844e0d",
        "colab": {
          "base_uri": "https://localhost:8080/"
        }
      },
      "source": [
        "print(labels[:5])"
      ],
      "execution_count": 14,
      "outputs": [
        {
          "output_type": "stream",
          "text": [
            "tf.Tensor([0 2 0 1 1], shape=(5,), dtype=int32)\n"
          ],
          "name": "stdout"
        }
      ]
    },
    {
      "cell_type": "markdown",
      "metadata": {
        "id": "LsaVrtNM3Tx5"
      },
      "source": [
        "## Select the type of model\n",
        "\n",
        "### Why model?\n",
        "\n",
        "A *[model](https://developers.google.com/machine-learning/crash-course/glossary#model)* is a relationship between features and the label.  For the Iris classification problem, the model defines the relationship between the sepal and petal measurements and the predicted Iris species. Some simple models can be described with a few lines of algebra, but complex machine learning models have a large number of parameters that are difficult to summarize.\n",
        "\n",
        "Could you determine the relationship between the four features and the Iris species *without* using machine learning?  That is, could you use traditional programming techniques (for example, a lot of conditional statements) to create a model?  Perhaps—if you analyzed the dataset long enough to determine the relationships between petal and sepal measurements to a particular species. And this becomes difficult—maybe impossible—on more complicated datasets. A good machine learning approach *determines the model for you*. If you feed enough representative examples into the right machine learning model type, the program will figure out the relationships for you.\n",
        "\n",
        "### Select the model\n",
        "\n",
        "We need to select the kind of model to train. There are many types of models and picking a good one takes experience. This tutorial uses a neural network to solve the Iris classification problem. *[Neural networks](https://developers.google.com/machine-learning/glossary/#neural_network)* can find complex relationships between features and the label. It is a highly-structured graph, organized into one or more *[hidden layers](https://developers.google.com/machine-learning/glossary/#hidden_layer)*. Each hidden layer consists of one or more *[neurons](https://developers.google.com/machine-learning/glossary/#neuron)*. There are several categories of neural networks and this program uses a dense, or *[fully-connected neural network](https://developers.google.com/machine-learning/glossary/#fully_connected_layer)*: the neurons in one layer receive input connections from *every* neuron in the previous layer. For example, Figure 2 illustrates a dense neural network consisting of an input layer, two hidden layers, and an output layer:\n",
        "\n",
        "<table>\n",
        "  <tr><td>\n",
        "    <img src=\"https://www.tensorflow.org/images/custom_estimators/full_network.png\"\n",
        "         alt=\"A diagram of the network architecture: Inputs, 2 hidden layers, and outputs\">\n",
        "  </td></tr>\n",
        "  <tr><td align=\"center\">\n",
        "    <b>Figure 2.</b> A neural network with features, hidden layers, and predictions.<br/>&nbsp;\n",
        "  </td></tr>\n",
        "</table>\n",
        "\n",
        "When the model from Figure 2 is trained and fed an unlabeled example, it yields three predictions: the likelihood that this flower is the given Iris species. This prediction is called *[inference](https://developers.google.com/machine-learning/crash-course/glossary#inference)*. For this example, the sum of the output predictions is 1.0. In Figure 2, this prediction breaks down as: `0.02` for *Iris setosa*, `0.95` for *Iris versicolor*, and `0.03` for *Iris virginica*. This means that the model predicts—with 95% probability—that an unlabeled example flower is an *Iris versicolor*."
      ]
    },
    {
      "cell_type": "markdown",
      "metadata": {
        "id": "W23DIMVPQEBt"
      },
      "source": [
        "### Create a model using Keras\n",
        "\n",
        "The TensorFlow `tf.keras` API is the preferred way to create models and layers. This makes it easy to build models and experiment while Keras handles the complexity of connecting everything together.\n",
        "\n",
        "The `tf.keras.Sequential` model is a linear stack of layers. Its constructor takes a list of layer instances, in this case, two `tf.keras.layers.Dense` layers with 10 nodes each, and an output layer with 3 nodes representing our label predictions. The first layer's `input_shape` parameter corresponds to the number of features from the dataset, and is required:"
      ]
    },
    {
      "cell_type": "code",
      "metadata": {
        "id": "2fZ6oL2ig3ZK"
      },
      "source": [
        "model = tf.keras.Sequential([\n",
        "  tf.keras.layers.Dense(10, activation=tf.nn.relu, input_shape=(4,)),  # input shape required\n",
        "  tf.keras.layers.Dense(10, activation=tf.nn.relu),\n",
        "  tf.keras.layers.Dense(3)\n",
        "])"
      ],
      "execution_count": 18,
      "outputs": []
    },
    {
      "cell_type": "code",
      "metadata": {
        "id": "Wf2twK8_oq36",
        "outputId": "82abec1c-e439-4e17-d82c-fde46c0c24e9",
        "colab": {
          "base_uri": "https://localhost:8080/"
        }
      },
      "source": [
        "model.summary()"
      ],
      "execution_count": 19,
      "outputs": [
        {
          "output_type": "stream",
          "text": [
            "Model: \"sequential_1\"\n",
            "_________________________________________________________________\n",
            "Layer (type)                 Output Shape              Param #   \n",
            "=================================================================\n",
            "dense_3 (Dense)              (None, 10)                50        \n",
            "_________________________________________________________________\n",
            "dense_4 (Dense)              (None, 10)                110       \n",
            "_________________________________________________________________\n",
            "dense_5 (Dense)              (None, 3)                 33        \n",
            "=================================================================\n",
            "Total params: 193\n",
            "Trainable params: 193\n",
            "Non-trainable params: 0\n",
            "_________________________________________________________________\n"
          ],
          "name": "stdout"
        }
      ]
    },
    {
      "cell_type": "markdown",
      "metadata": {
        "id": "FHcbEzMpxbHL"
      },
      "source": [
        "The *[activation function](https://developers.google.com/machine-learning/crash-course/glossary#activation_function)* determines the output shape of each node in the layer. These non-linearities are important—without them the model would be equivalent to a single layer. There are many `tf.keras.activations`, but [ReLU](https://developers.google.com/machine-learning/crash-course/glossary#ReLU) is common for hidden layers.\n",
        "\n",
        "The ideal number of hidden layers and neurons depends on the problem and the dataset. Like many aspects of machine learning, picking the best shape of the neural network requires a mixture of knowledge and experimentation. As a rule of thumb, increasing the number of hidden layers and neurons typically creates a more powerful model, which requires more data to train effectively."
      ]
    },
    {
      "cell_type": "markdown",
      "metadata": {
        "id": "2wFKnhWCpDSS"
      },
      "source": [
        "### Using the model\n",
        "\n",
        "Let's have a quick look at what this model does to a batch of features:"
      ]
    },
    {
      "cell_type": "code",
      "metadata": {
        "id": "xe6SQ5NrpB-I",
        "outputId": "9783ea33-71f5-4c43-c111-e3666c3ab527",
        "colab": {
          "base_uri": "https://localhost:8080/"
        }
      },
      "source": [
        "predictions = model(features)\n",
        "predictions[:5]"
      ],
      "execution_count": 20,
      "outputs": [
        {
          "output_type": "execute_result",
          "data": {
            "text/plain": [
              "<tf.Tensor: shape=(5, 3), dtype=float32, numpy=\n",
              "array([[-0.75225437,  0.8518389 , -3.167273  ],\n",
              "       [-3.7571888 ,  1.493828  , -5.578681  ],\n",
              "       [-0.6505288 ,  0.6982662 , -2.6269407 ],\n",
              "       [-2.9575646 ,  1.0141442 , -4.357246  ],\n",
              "       [-2.647284  ,  0.82142186, -3.910214  ]], dtype=float32)>"
            ]
          },
          "metadata": {
            "tags": []
          },
          "execution_count": 20
        }
      ]
    },
    {
      "cell_type": "markdown",
      "metadata": {
        "id": "wxyXOhwVr5S3"
      },
      "source": [
        "Here, each example returns a [logit](https://developers.google.com/machine-learning/crash-course/glossary#logits) for each class.\n",
        "\n",
        "To convert these logits to a probability for each class, use the [softmax](https://developers.google.com/machine-learning/crash-course/glossary#softmax) function:"
      ]
    },
    {
      "cell_type": "code",
      "metadata": {
        "id": "_tRwHZmTNTX2",
        "outputId": "f5c4797b-f376-4666-f16c-5c36a79ab068",
        "colab": {
          "base_uri": "https://localhost:8080/"
        }
      },
      "source": [
        "tf.nn.softmax(predictions[:5])"
      ],
      "execution_count": 21,
      "outputs": [
        {
          "output_type": "execute_result",
          "data": {
            "text/plain": [
              "<tf.Tensor: shape=(5, 3), dtype=float32, numpy=\n",
              "array([[1.6494264e-01, 8.2031721e-01, 1.4740207e-02],\n",
              "       [5.2104536e-03, 9.9394661e-01, 8.4296882e-04],\n",
              "       [2.0034678e-01, 7.7189207e-01, 2.7761156e-02],\n",
              "       [1.8408809e-02, 9.7705019e-01, 4.5410022e-03],\n",
              "       [2.9959846e-02, 9.6156669e-01, 8.4733656e-03]], dtype=float32)>"
            ]
          },
          "metadata": {
            "tags": []
          },
          "execution_count": 21
        }
      ]
    },
    {
      "cell_type": "markdown",
      "metadata": {
        "id": "uRZmchElo481"
      },
      "source": [
        "Taking the `tf.argmax` across classes gives us the predicted class index. But, the model hasn't been trained yet, so these aren't good predictions:"
      ]
    },
    {
      "cell_type": "code",
      "metadata": {
        "id": "-Jzm_GoErz8B",
        "outputId": "528a8196-7d12-48b7-e6a6-3e0a2b188342",
        "colab": {
          "base_uri": "https://localhost:8080/"
        }
      },
      "source": [
        "print(\"Prediction: {}\".format(tf.argmax(predictions, axis=1)))\n",
        "print(\"    Labels: {}\".format(labels))"
      ],
      "execution_count": 22,
      "outputs": [
        {
          "output_type": "stream",
          "text": [
            "Prediction: [1 1 1 1 1 1 1 1 1 1 1 1 1 1 1 1 1 1 1 1 1 1 1 1 1 1 1 1 1 1 1 1]\n",
            "    Labels: [0 2 0 1 1 1 2 2 0 2 2 0 2 1 1 2 1 0 1 0 2 0 2 2 1 2 1 1 1 0 1 1]\n"
          ],
          "name": "stdout"
        }
      ]
    },
    {
      "cell_type": "markdown",
      "metadata": {
        "id": "Vzq2E5J2QMtw"
      },
      "source": [
        "## Train the model\n",
        "\n",
        "*[Training](https://developers.google.com/machine-learning/crash-course/glossary#training)* is the stage of machine learning when the model is gradually optimized, or the model *learns* the dataset. The goal is to learn enough about the structure of the training dataset to make predictions about unseen data. If you learn *too much* about the training dataset, then the predictions only work for the data it has seen and will not be generalizable. This problem is called *[overfitting](https://developers.google.com/machine-learning/crash-course/glossary#overfitting)*—it's like memorizing the answers instead of understanding how to solve a problem.\n",
        "\n",
        "The Iris classification problem is an example of *[supervised machine learning](https://developers.google.com/machine-learning/glossary/#supervised_machine_learning)*: the model is trained from examples that contain labels. In *[unsupervised machine learning](https://developers.google.com/machine-learning/glossary/#unsupervised_machine_learning)*, the examples don't contain labels. Instead, the model typically finds patterns among the features."
      ]
    },
    {
      "cell_type": "markdown",
      "metadata": {
        "id": "RaKp8aEjKX6B"
      },
      "source": [
        "### Define the loss and gradient function\n",
        "\n",
        "Both training and evaluation stages need to calculate the model's *[loss](https://developers.google.com/machine-learning/crash-course/glossary#loss)*. This measures how off a model's predictions are from the desired label, in other words, how bad the model is performing. We want to minimize, or optimize, this value.\n",
        "\n",
        "Our model will calculate its loss using the `tf.keras.losses.SparseCategoricalCrossentropy` function which takes the model's class probability predictions and the desired label, and returns the average loss across the examples."
      ]
    },
    {
      "cell_type": "code",
      "metadata": {
        "id": "QOsi6b-1CXIn"
      },
      "source": [
        "loss_object = tf.keras.losses.SparseCategoricalCrossentropy(from_logits=True)"
      ],
      "execution_count": 23,
      "outputs": []
    },
    {
      "cell_type": "code",
      "metadata": {
        "id": "tMAT4DcMPwI-",
        "outputId": "7edc9996-f206-466f-e480-19131e4681d4",
        "colab": {
          "base_uri": "https://localhost:8080/"
        }
      },
      "source": [
        "def loss(model, x, y, training):\n",
        "  # training=training is needed only if there are layers with different\n",
        "  # behavior during training versus inference (e.g. Dropout).\n",
        "  y_ = model(x, training=training)\n",
        "\n",
        "  return loss_object(y_true=y, y_pred=y_)\n",
        "\n",
        "\n",
        "l = loss(model, features, labels, training=False)\n",
        "print(\"Loss test: {}\".format(l))"
      ],
      "execution_count": 24,
      "outputs": [
        {
          "output_type": "stream",
          "text": [
            "Loss test: 2.6430821418762207\n"
          ],
          "name": "stdout"
        }
      ]
    },
    {
      "cell_type": "markdown",
      "metadata": {
        "id": "3IcPqA24QM6B"
      },
      "source": [
        "Use the `tf.GradientTape` context to calculate the *[gradients](https://developers.google.com/machine-learning/crash-course/glossary#gradient)* used to optimize your model:"
      ]
    },
    {
      "cell_type": "code",
      "metadata": {
        "id": "x57HcKWhKkei"
      },
      "source": [
        "def grad(model, inputs, targets):\n",
        "  with tf.GradientTape() as tape:\n",
        "    loss_value = loss(model, inputs, targets, training=True)\n",
        "  return loss_value, tape.gradient(loss_value, model.trainable_variables)"
      ],
      "execution_count": 25,
      "outputs": []
    },
    {
      "cell_type": "markdown",
      "metadata": {
        "id": "lOxFimtlKruu"
      },
      "source": [
        "### Create an optimizer\n",
        "\n",
        "An *[optimizer](https://developers.google.com/machine-learning/crash-course/glossary#optimizer)* applies the computed gradients to the model's variables to minimize the `loss` function. You can think of the loss function as a curved surface (see Figure 3) and we want to find its lowest point by walking around. The gradients point in the direction of steepest ascent—so we'll travel the opposite way and move down the hill. By iteratively calculating the loss and gradient for each batch, we'll adjust the model during training. Gradually, the model will find the best combination of weights and bias to minimize loss. And the lower the loss, the better the model's predictions.\n",
        "\n",
        "<table>\n",
        "  <tr><td>\n",
        "    <img src=\"https://cs231n.github.io/assets/nn3/opt1.gif\" width=\"70%\"\n",
        "         alt=\"Optimization algorithms visualized over time in 3D space.\">\n",
        "  </td></tr>\n",
        "  <tr><td align=\"center\">\n",
        "    <b>Figure 3.</b> Optimization algorithms visualized over time in 3D space.<br/>(Source: <a href=\"http://cs231n.github.io/neural-networks-3/\">Stanford class CS231n</a>, MIT License, Image credit: <a href=\"https://twitter.com/alecrad\">Alec Radford</a>)\n",
        "  </td></tr>\n",
        "</table>\n",
        "\n",
        "TensorFlow has many optimization algorithms available for training. This model uses the `tf.keras.optimizers.SGD` that implements the *[stochastic gradient descent](https://developers.google.com/machine-learning/crash-course/glossary#gradient_descent)* (SGD) algorithm. The `learning_rate` sets the step size to take for each iteration down the hill. This is a *hyperparameter* that you'll commonly adjust to achieve better results."
      ]
    },
    {
      "cell_type": "markdown",
      "metadata": {
        "id": "XkUd6UiZa_dF"
      },
      "source": [
        "Let's setup the optimizer:"
      ]
    },
    {
      "cell_type": "code",
      "metadata": {
        "id": "8xxi2NNGKwG_"
      },
      "source": [
        "optimizer = tf.keras.optimizers.SGD(learning_rate=0.01)"
      ],
      "execution_count": 26,
      "outputs": []
    },
    {
      "cell_type": "markdown",
      "metadata": {
        "id": "pJVRZ0hP52ZB"
      },
      "source": [
        "We'll use this to calculate a single optimization step:"
      ]
    },
    {
      "cell_type": "code",
      "metadata": {
        "id": "rxRNTFVe56RG",
        "outputId": "9df4c640-cb0a-4fb4-9088-3dd7eabce7ea",
        "colab": {
          "base_uri": "https://localhost:8080/"
        }
      },
      "source": [
        "loss_value, grads = grad(model, features, labels)\n",
        "\n",
        "print(\"Step: {}, Initial Loss: {}\".format(optimizer.iterations.numpy(),\n",
        "                                          loss_value.numpy()))\n",
        "\n",
        "optimizer.apply_gradients(zip(grads, model.trainable_variables))\n",
        "\n",
        "print(\"Step: {},         Loss: {}\".format(optimizer.iterations.numpy(),\n",
        "                                          loss(model, features, labels, training=True).numpy()))"
      ],
      "execution_count": 27,
      "outputs": [
        {
          "output_type": "stream",
          "text": [
            "Step: 0, Initial Loss: 2.6430821418762207\n",
            "Step: 1,         Loss: 2.0575637817382812\n"
          ],
          "name": "stdout"
        }
      ]
    },
    {
      "cell_type": "markdown",
      "metadata": {
        "id": "7Y2VSELvwAvW"
      },
      "source": [
        "### Training loop\n",
        "\n",
        "With all the pieces in place, the model is ready for training! A training loop feeds the dataset examples into the model to help it make better predictions. The following code block sets up these training steps:\n",
        "\n",
        "1. Iterate each *epoch*. An epoch is one pass through the dataset.\n",
        "2. Within an epoch, iterate over each example in the training `Dataset` grabbing its *features* (`x`) and *label* (`y`).\n",
        "3. Using the example's features, make a prediction and compare it with the label. Measure the inaccuracy of the prediction and use that to calculate the model's loss and gradients.\n",
        "4. Use an `optimizer` to update the model's variables.\n",
        "5. Keep track of some stats for visualization.\n",
        "6. Repeat for each epoch.\n",
        "\n",
        "The `num_epochs` variable is the number of times to loop over the dataset collection. Counter-intuitively, training a model longer does not guarantee a better model. `num_epochs` is a *[hyperparameter](https://developers.google.com/machine-learning/glossary/#hyperparameter)* that you can tune. Choosing the right number usually requires both experience and experimentation:"
      ]
    },
    {
      "cell_type": "code",
      "metadata": {
        "id": "AIgulGRUhpto",
        "outputId": "da2abad2-e1a8-4d5c-d5a5-f770dcb0de3a",
        "colab": {
          "base_uri": "https://localhost:8080/"
        }
      },
      "source": [
        "## Note: Rerunning this cell uses the same model variables\n",
        "\n",
        "# Keep results for plotting\n",
        "train_loss_results = []\n",
        "train_accuracy_results = []\n",
        "\n",
        "num_epochs = 201\n",
        "\n",
        "for epoch in range(num_epochs):\n",
        "  epoch_loss_avg = tf.keras.metrics.Mean()\n",
        "  epoch_accuracy = tf.keras.metrics.SparseCategoricalAccuracy()\n",
        "\n",
        "  # Training loop - using batches of 32\n",
        "  for x, y in train_dataset:\n",
        "    # Optimize the model\n",
        "    loss_value, grads = grad(model, x, y)\n",
        "    optimizer.apply_gradients(zip(grads, model.trainable_variables))\n",
        "\n",
        "    # Track progress\n",
        "    epoch_loss_avg.update_state(loss_value)  # Add current batch loss\n",
        "    # Compare predicted label to actual label\n",
        "    # training=True is needed only if there are layers with different\n",
        "    # behavior during training versus inference (e.g. Dropout).\n",
        "    epoch_accuracy.update_state(y, model(x, training=True))\n",
        "\n",
        "  # End epoch\n",
        "  train_loss_results.append(epoch_loss_avg.result())\n",
        "  train_accuracy_results.append(epoch_accuracy.result())\n",
        "\n",
        "  if epoch % 50 == 0:\n",
        "    print(\"Epoch {:03d}: Loss: {:.3f}, Accuracy: {:.3%}\".format(epoch,\n",
        "                                                                epoch_loss_avg.result(),\n",
        "                                                                epoch_accuracy.result()))\n",
        "    print(model.get_weights())"
      ],
      "execution_count": 30,
      "outputs": [
        {
          "output_type": "stream",
          "text": [
            "Epoch 000: Loss: 0.093, Accuracy: 98.333%\n",
            "[array([[-1.7957211e-02, -9.9078700e-02, -3.9311051e-02,  6.2324101e-01,\n",
            "        -4.1892764e-01, -4.7442830e-01, -4.9929357e-01, -5.8503783e-01,\n",
            "        -2.1525805e-01,  6.8431997e-01],\n",
            "       [-3.0800518e-01, -1.4985625e-01, -2.5128934e-01,  9.9845999e-01,\n",
            "        -2.6848033e-01,  2.7460530e-01,  1.8622151e-01, -5.6148827e-01,\n",
            "         3.9324999e-02,  2.7412888e-01],\n",
            "       [-1.5753877e-01,  6.4903462e-01, -7.9602003e-04, -1.0549788e+00,\n",
            "         3.9808181e-01,  3.4171402e-01,  6.7855132e-01,  5.8109975e-01,\n",
            "         6.8453652e-01,  5.1404119e-01],\n",
            "       [ 2.1200454e-01,  8.6965328e-01,  3.8127124e-01, -6.1783868e-01,\n",
            "         4.5896846e-01,  1.8558085e-02, -1.8248168e-01, -1.4161503e-01,\n",
            "         4.9948114e-01, -5.8560467e-01]], dtype=float32), array([ 0.        , -0.12435581,  0.        ,  0.2837692 , -0.01251178,\n",
            "       -0.01724545, -0.0441948 ,  0.        , -0.12539828,  0.08860208],\n",
            "      dtype=float32), array([[ 0.29039562,  0.17989749, -0.35716537, -0.49229234,  0.53829217,\n",
            "        -0.28064817,  0.24018466, -0.39315742, -0.48849264, -0.17750698],\n",
            "       [ 0.5159319 ,  0.03156763, -0.8046841 , -0.0616321 ,  0.38489023,\n",
            "        -0.59640294,  0.55795425,  0.20947023,  0.05098361,  0.5345896 ],\n",
            "       [ 0.28737354, -0.355237  ,  0.20078206, -0.18920055, -0.26308876,\n",
            "        -0.0064863 , -0.4729098 , -0.00121421, -0.1500681 , -0.06688887],\n",
            "       [-1.1549459 , -0.48961085,  0.742561  , -0.25580853, -0.4877266 ,\n",
            "        -0.02766502, -0.38667744,  0.72902507, -0.15560085, -0.58027166],\n",
            "       [-0.4179147 , -0.31026328, -0.5103158 , -0.30635977, -0.47599128,\n",
            "         0.25557804,  0.40843615, -0.382961  ,  0.11680883, -0.17162113],\n",
            "       [-0.15044796, -0.07549235,  0.41397294, -0.46461254,  0.14868814,\n",
            "         0.23893137,  0.30193707, -0.04369749,  0.02913308,  0.4985131 ],\n",
            "       [-0.01547579, -0.27760223, -0.39309242, -0.53514636,  0.53445077,\n",
            "        -0.18150869, -0.45794037,  0.31014797, -0.06418899, -0.40095592],\n",
            "       [ 0.24828106,  0.08516705, -0.16657197, -0.22344872, -0.1454452 ,\n",
            "         0.47984827,  0.22672373,  0.4497795 , -0.47296464,  0.03752971],\n",
            "       [ 0.7796462 , -0.44919568,  0.01700256,  0.5044452 , -0.4666557 ,\n",
            "        -0.23892602,  0.39174548, -0.4006728 , -0.32235706,  0.0874963 ],\n",
            "       [ 0.26994696, -0.08382982,  0.50967157, -0.517214  ,  0.13557705,\n",
            "         0.5627863 ,  0.38687438,  0.5758718 , -0.00791281,  0.56511915]],\n",
            "      dtype=float32), array([-0.17411192,  0.        ,  0.10512474,  0.        , -0.04693716,\n",
            "        0.11436568,  0.03225865,  0.10564967,  0.        ,  0.00879133],\n",
            "      dtype=float32), array([[-0.9142412 , -0.69646037,  1.1675323 ],\n",
            "       [ 0.40368903,  0.10933536, -0.22777933],\n",
            "       [ 0.63033843, -0.15755446, -0.84379923],\n",
            "       [ 0.21243674,  0.31776518,  0.22620559],\n",
            "       [-0.2310698 , -0.5271563 , -0.02290657],\n",
            "       [ 0.01577454,  0.58329403, -0.80476624],\n",
            "       [-0.72734886,  0.32749322, -0.00911723],\n",
            "       [ 0.4446483 ,  0.14208567, -0.75630194],\n",
            "       [ 0.1741941 , -0.62693816,  0.31087708],\n",
            "       [-0.76662767,  0.06570946,  0.05937097]], dtype=float32), array([ 0.10931798,  0.03092141, -0.14023964], dtype=float32)]\n",
            "Epoch 050: Loss: 0.079, Accuracy: 99.167%\n",
            "[array([[-1.7957211e-02, -9.8840207e-02, -3.9311051e-02,  6.3218653e-01,\n",
            "        -4.1892764e-01, -4.7442830e-01, -5.0031459e-01, -5.8503783e-01,\n",
            "        -2.1742767e-01,  6.8989551e-01],\n",
            "       [-3.0800518e-01, -1.5580766e-01, -2.5128934e-01,  1.0129647e+00,\n",
            "        -2.6848033e-01,  2.7460530e-01,  1.8403746e-01, -5.6148827e-01,\n",
            "         3.4092251e-02,  2.7851883e-01],\n",
            "       [-1.5753877e-01,  6.5520161e-01, -7.9602003e-04, -1.0597224e+00,\n",
            "         3.9808181e-01,  3.4171402e-01,  6.7864758e-01,  5.8109975e-01,\n",
            "         6.8656999e-01,  5.1718158e-01],\n",
            "       [ 2.1200454e-01,  8.9116549e-01,  3.8127124e-01, -6.5055442e-01,\n",
            "         4.5896846e-01,  1.8558085e-02, -1.7689455e-01, -1.4161503e-01,\n",
            "         5.1587087e-01, -5.9541827e-01]], dtype=float32), array([ 0.        , -0.13779655,  0.        ,  0.30667365, -0.01251178,\n",
            "       -0.01724545, -0.04837186,  0.        , -0.13669229,  0.09733077],\n",
            "      dtype=float32), array([[ 0.29039562,  0.17989749, -0.35716537, -0.49229234,  0.53829217,\n",
            "        -0.28064817,  0.24018466, -0.39315742, -0.48849264, -0.17750698],\n",
            "       [ 0.52959734,  0.03156763, -0.81397825, -0.0616321 ,  0.38819504,\n",
            "        -0.60235614,  0.56187135,  0.20113115,  0.05098361,  0.5393518 ],\n",
            "       [ 0.28737354, -0.355237  ,  0.20078206, -0.18920055, -0.26308876,\n",
            "        -0.0064863 , -0.4729098 , -0.00121421, -0.1500681 , -0.06688887],\n",
            "       [-1.1710424 , -0.48961085,  0.75683624, -0.25580853, -0.49235982,\n",
            "        -0.0205222 , -0.39030397,  0.7403152 , -0.15560085, -0.58293355],\n",
            "       [-0.4179147 , -0.31026328, -0.5103158 , -0.30635977, -0.47599128,\n",
            "         0.25557804,  0.40843615, -0.382961  ,  0.11680883, -0.17162113],\n",
            "       [-0.15044796, -0.07549235,  0.41397294, -0.46461254,  0.14868814,\n",
            "         0.23893137,  0.30193707, -0.04369749,  0.02913308,  0.4985131 ],\n",
            "       [-0.01804775, -0.27760223, -0.39216596, -0.53514636,  0.53372765,\n",
            "        -0.17955707, -0.4574151 ,  0.31131467, -0.06418899, -0.40090343],\n",
            "       [ 0.24828106,  0.08516705, -0.16657197, -0.22344872, -0.1454452 ,\n",
            "         0.47984827,  0.22672373,  0.4497795 , -0.47296464,  0.03752971],\n",
            "       [ 0.78725725, -0.44919568,  0.01082519,  0.5044452 , -0.46491626,\n",
            "        -0.24123795,  0.39544678, -0.40573415, -0.32235706,  0.09130647],\n",
            "       [ 0.25709572, -0.08382982,  0.5152142 , -0.517214  ,  0.13113749,\n",
            "         0.574941  ,  0.39369324,  0.5825786 , -0.00791281,  0.5707329 ]],\n",
            "      dtype=float32), array([-0.18617198,  0.        ,  0.11007169,  0.        , -0.05037197,\n",
            "        0.12359068,  0.03489791,  0.11173755,  0.        ,  0.00963414],\n",
            "      dtype=float32), array([[-0.9189299 , -0.7064266 ,  1.1821866 ],\n",
            "       [ 0.40368903,  0.10933536, -0.22777933],\n",
            "       [ 0.64231765, -0.15327339, -0.86005944],\n",
            "       [ 0.21243674,  0.31776518,  0.22620559],\n",
            "       [-0.23115438, -0.53055775, -0.01942072],\n",
            "       [ 0.01990751,  0.58814484, -0.8137501 ],\n",
            "       [-0.7369058 ,  0.33092007, -0.00298725],\n",
            "       [ 0.45210192,  0.14682436, -0.76849467],\n",
            "       [ 0.1741941 , -0.62693816,  0.31087708],\n",
            "       [-0.77647656,  0.07056179,  0.06436755]], dtype=float32), array([ 0.10955454,  0.03740856, -0.14696327], dtype=float32)]\n",
            "Epoch 100: Loss: 0.089, Accuracy: 97.500%\n",
            "[array([[-1.7957211e-02, -9.5994405e-02, -3.9311051e-02,  6.3465494e-01,\n",
            "        -4.1892764e-01, -4.7442830e-01, -4.9996567e-01, -5.8503783e-01,\n",
            "        -2.1662004e-01,  6.9212973e-01],\n",
            "       [-3.0800518e-01, -1.6174629e-01, -2.5128934e-01,  1.0261673e+00,\n",
            "        -2.6848033e-01,  2.7460530e-01,  1.8218544e-01, -5.6148827e-01,\n",
            "         2.9252136e-02,  2.8235146e-01],\n",
            "       [-1.5753877e-01,  6.6133273e-01, -7.9602003e-04, -1.0660087e+00,\n",
            "         3.9808181e-01,  3.4171402e-01,  6.7932582e-01,  5.8109975e-01,\n",
            "         6.8924087e-01,  5.1839662e-01],\n",
            "       [ 2.1200454e-01,  9.1056722e-01,  3.8127124e-01, -6.8023026e-01,\n",
            "         4.5896846e-01,  1.8558085e-02, -1.7195062e-01, -1.4161503e-01,\n",
            "         5.3064173e-01, -6.0476863e-01]], dtype=float32), array([ 0.        , -0.15079325,  0.        ,  0.32835376, -0.01251178,\n",
            "       -0.01724545, -0.05213514,  0.        , -0.14737485,  0.10558462],\n",
            "      dtype=float32), array([[ 0.29039562,  0.17989749, -0.35716537, -0.49229234,  0.53829217,\n",
            "        -0.28064817,  0.24018466, -0.39315742, -0.48849264, -0.17750698],\n",
            "       [ 0.5418498 ,  0.03156763, -0.82217026, -0.0616321 ,  0.39123157,\n",
            "        -0.607869  ,  0.5652203 ,  0.19351722,  0.05098361,  0.54348344],\n",
            "       [ 0.28737354, -0.355237  ,  0.20078206, -0.18920055, -0.26308876,\n",
            "        -0.0064863 , -0.4729098 , -0.00121421, -0.1500681 , -0.06688887],\n",
            "       [-1.1846958 , -0.48961085,  0.7689484 , -0.25580853, -0.49626818,\n",
            "        -0.01442968, -0.3933341 ,  0.7498677 , -0.15560085, -0.5850339 ],\n",
            "       [-0.4179147 , -0.31026328, -0.5103158 , -0.30635977, -0.47599128,\n",
            "         0.25557804,  0.40843615, -0.382961  ,  0.11680883, -0.17162113],\n",
            "       [-0.15044796, -0.07549235,  0.41397294, -0.46461254,  0.14868814,\n",
            "         0.23893137,  0.30193707, -0.04369749,  0.02913308,  0.4985131 ],\n",
            "       [-0.02107609, -0.27760223, -0.39101693, -0.53514636,  0.5328918 ,\n",
            "        -0.17729788, -0.45685342,  0.31270227, -0.06418899, -0.40087736],\n",
            "       [ 0.24828106,  0.08516705, -0.16657197, -0.22344872, -0.1454452 ,\n",
            "         0.47984827,  0.22672373,  0.4497795 , -0.47296464,  0.03752971],\n",
            "       [ 0.793884  , -0.44919568,  0.0055107 ,  0.5044452 , -0.46334615,\n",
            "        -0.24334069,  0.39861858, -0.41027552, -0.32235706,  0.09457625],\n",
            "       [ 0.24807778, -0.08382982,  0.51919615, -0.517214  ,  0.1280076 ,\n",
            "         0.58383435,  0.3992826 ,  0.5869917 , -0.00791281,  0.575721  ]],\n",
            "      dtype=float32), array([-0.19747281,  0.        ,  0.11469309,  0.        , -0.05355611,\n",
            "        0.13219613,  0.03733367,  0.11737418,  0.        ,  0.0104002 ],\n",
            "      dtype=float32), array([[-0.9227411 , -0.71554637,  1.195117  ],\n",
            "       [ 0.40368903,  0.10933536, -0.22777933],\n",
            "       [ 0.65245724, -0.15008874, -0.8733839 ],\n",
            "       [ 0.21243674,  0.31776518,  0.22620559],\n",
            "       [-0.2312151 , -0.5334357 , -0.01648199],\n",
            "       [ 0.02339363,  0.59173125, -0.8208223 ],\n",
            "       [-0.7452988 ,  0.3332186 ,  0.00310769],\n",
            "       [ 0.45822886,  0.15045081, -0.77824885],\n",
            "       [ 0.1741941 , -0.62693816,  0.31087708],\n",
            "       [-0.7851105 ,  0.07397117,  0.06959227]], dtype=float32), array([ 0.10967068,  0.0434729 , -0.1531437 ], dtype=float32)]\n",
            "Epoch 150: Loss: 0.081, Accuracy: 98.333%\n",
            "[array([[-1.7957211e-02, -9.7049326e-02, -3.9311051e-02,  6.4348233e-01,\n",
            "        -4.1892764e-01, -4.7442830e-01, -5.0106478e-01, -5.8503783e-01,\n",
            "        -2.1850902e-01,  6.9697070e-01],\n",
            "       [-3.0800518e-01, -1.6826983e-01, -2.5128934e-01,  1.0402707e+00,\n",
            "        -2.6848033e-01,  2.7460530e-01,  1.8009642e-01, -5.6148827e-01,\n",
            "         2.4123682e-02,  2.8681326e-01],\n",
            "       [-1.5753877e-01,  6.6323626e-01, -7.9602003e-04, -1.0652176e+00,\n",
            "         3.9808181e-01,  3.4171402e-01,  6.7864031e-01,  5.8109975e-01,\n",
            "         6.8894005e-01,  5.2221650e-01],\n",
            "       [ 2.1200454e-01,  9.2640024e-01,  3.8127124e-01, -7.0405906e-01,\n",
            "         4.5896846e-01,  1.8558085e-02, -1.6822174e-01, -1.4161503e-01,\n",
            "         5.4260010e-01, -6.1205441e-01]], dtype=float32), array([ 0.        , -0.16452976,  0.        ,  0.35113347, -0.01251178,\n",
            "       -0.01724545, -0.05600434,  0.        , -0.15849508,  0.11438689],\n",
            "      dtype=float32), array([[ 0.29039562,  0.17989749, -0.35716537, -0.49229234,  0.53829217,\n",
            "        -0.28064817,  0.24018466, -0.39315742, -0.48849264, -0.17750698],\n",
            "       [ 0.5510879 ,  0.03156763, -0.82862407, -0.0616321 ,  0.39351824,\n",
            "        -0.6115396 ,  0.56855124,  0.18761988,  0.05098361,  0.54722315],\n",
            "       [ 0.28737354, -0.355237  ,  0.20078206, -0.18920055, -0.26308876,\n",
            "        -0.0064863 , -0.4729098 , -0.00121421, -0.1500681 , -0.06688887],\n",
            "       [-1.1975908 , -0.48961085,  0.7800415 , -0.25580853, -0.4999235 ,\n",
            "        -0.00846371, -0.39612702,  0.75873524, -0.15560085, -0.5870185 ],\n",
            "       [-0.4179147 , -0.31026328, -0.5103158 , -0.30635977, -0.47599128,\n",
            "         0.25557804,  0.40843615, -0.382961  ,  0.11680883, -0.17162113],\n",
            "       [-0.15044796, -0.07549235,  0.41397294, -0.46461254,  0.14868814,\n",
            "         0.23893137,  0.30193707, -0.04369749,  0.02913308,  0.4985131 ],\n",
            "       [-0.02382315, -0.27760223, -0.3899222 , -0.53514636,  0.5321346 ,\n",
            "        -0.17525473, -0.45635277,  0.3139779 , -0.06418899, -0.40085283],\n",
            "       [ 0.24828106,  0.08516705, -0.16657197, -0.22344872, -0.1454452 ,\n",
            "         0.47984827,  0.22672373,  0.4497795 , -0.47296464,  0.03752971],\n",
            "       [ 0.7985969 , -0.44919568,  0.00142055,  0.5044452 , -0.46223927,\n",
            "        -0.24435581,  0.40166304, -0.41367722, -0.32235706,  0.09751451],\n",
            "       [ 0.23643534, -0.08382982,  0.52456015, -0.517214  ,  0.12433845,\n",
            "         0.594334  ,  0.4046396 ,  0.5928288 , -0.00791281,  0.5800766 ]],\n",
            "      dtype=float32), array([-0.20909768,  0.        ,  0.11949933,  0.        , -0.05679753,\n",
            "        0.14098251,  0.03970239,  0.12318581,  0.        ,  0.01106631],\n",
            "      dtype=float32), array([[-0.92590815, -0.7234414 ,  1.206179  ],\n",
            "       [ 0.40368903,  0.10933536, -0.22777933],\n",
            "       [ 0.6615423 , -0.14657018, -0.8859876 ],\n",
            "       [ 0.21243674,  0.31776518,  0.22620559],\n",
            "       [-0.23126087, -0.536036  , -0.01383537],\n",
            "       [ 0.02656521,  0.59563416, -0.8278968 ],\n",
            "       [-0.75266635,  0.33662605,  0.00706793],\n",
            "       [ 0.46378177,  0.15515299, -0.78850347],\n",
            "       [ 0.1741941 , -0.62693816,  0.31087708],\n",
            "       [-0.7926833 ,  0.07832972,  0.07280657]], dtype=float32), array([ 0.10977648,  0.04961823, -0.15939479], dtype=float32)]\n",
            "Epoch 200: Loss: 0.076, Accuracy: 98.333%\n",
            "[array([[-1.7957211e-02, -9.4274633e-02, -3.9311051e-02,  6.4428949e-01,\n",
            "        -4.1892764e-01, -4.7442830e-01, -5.0070924e-01, -5.8503783e-01,\n",
            "        -2.1712425e-01,  6.9769001e-01],\n",
            "       [-3.0800518e-01, -1.7312661e-01, -2.5128934e-01,  1.0507257e+00,\n",
            "        -2.6848033e-01,  2.7460530e-01,  1.7870809e-01, -5.6148827e-01,\n",
            "         2.0387093e-02,  2.8963694e-01],\n",
            "       [-1.5753877e-01,  6.6654950e-01, -7.9602003e-04, -1.0680605e+00,\n",
            "         3.9808181e-01,  3.4171402e-01,  6.7875040e-01,  5.8109975e-01,\n",
            "         6.9006503e-01,  5.2340424e-01],\n",
            "       [ 2.1200454e-01,  9.4223452e-01,  3.8127124e-01, -7.2824800e-01,\n",
            "         4.5896846e-01,  1.8558085e-02, -1.6449299e-01, -1.4161503e-01,\n",
            "         5.5460417e-01, -6.2004668e-01]], dtype=float32), array([ 0.        , -0.17786145,  0.        ,  0.37283972, -0.01251178,\n",
            "       -0.01724545, -0.05953757,  0.        , -0.1691908 ,  0.122692  ],\n",
            "      dtype=float32), array([[ 0.29039562,  0.17989749, -0.35716537, -0.49229234,  0.53829217,\n",
            "        -0.28064817,  0.24018466, -0.39315742, -0.48849264, -0.17750698],\n",
            "       [ 0.56048304,  0.03156763, -0.83481693, -0.0616321 ,  0.39594537,\n",
            "        -0.6157477 ,  0.57127285,  0.18161656,  0.05098361,  0.55050224],\n",
            "       [ 0.28737354, -0.355237  ,  0.20078206, -0.18920055, -0.26308876,\n",
            "        -0.0064863 , -0.4729098 , -0.00121421, -0.1500681 , -0.06688887],\n",
            "       [-1.2076784 , -0.48961085,  0.7892593 , -0.25580853, -0.5027585 ,\n",
            "        -0.00410754, -0.39866123,  0.7658635 , -0.15560085, -0.5886462 ],\n",
            "       [-0.4179147 , -0.31026328, -0.5103158 , -0.30635977, -0.47599128,\n",
            "         0.25557804,  0.40843615, -0.382961  ,  0.11680883, -0.17162113],\n",
            "       [-0.15044796, -0.07549235,  0.41397294, -0.46461254,  0.14868814,\n",
            "         0.23893137,  0.30193707, -0.04369749,  0.02913308,  0.4985131 ],\n",
            "       [-0.026985  , -0.27760223, -0.38864434, -0.53514636,  0.5312729 ,\n",
            "        -0.17292975, -0.45581424,  0.3154497 , -0.06418899, -0.40084854],\n",
            "       [ 0.24828106,  0.08516705, -0.16657197, -0.22344872, -0.1454452 ,\n",
            "         0.47984827,  0.22672373,  0.4497795 , -0.47296464,  0.03752971],\n",
            "       [ 0.8034528 , -0.44919568, -0.00245453,  0.5044452 , -0.46101394,\n",
            "        -0.24582452,  0.4042015 , -0.41716605, -0.32235706,  0.10007595],\n",
            "       [ 0.22914155, -0.08382982,  0.5280756 , -0.517214  ,  0.122079  ,\n",
            "         0.6013063 ,  0.40891984,  0.5961617 , -0.00791281,  0.5839676 ]],\n",
            "      dtype=float32), array([-0.2200994 ,  0.        ,  0.1240341 ,  0.        , -0.05983039,\n",
            "        0.14925496,  0.04191425,  0.12862794,  0.        ,  0.01166828],\n",
            "      dtype=float32), array([[-0.928599  , -0.7305955 ,  1.2160242 ],\n",
            "       [ 0.40368903,  0.10933536, -0.22777933],\n",
            "       [ 0.6694322 , -0.14440696, -0.89604044],\n",
            "       [ 0.21243674,  0.31776518,  0.22620559],\n",
            "       [-0.23129617, -0.53803706, -0.01179901],\n",
            "       [ 0.02929735,  0.59845096, -0.8334464 ],\n",
            "       [-0.75931424,  0.3386294 ,  0.01171213],\n",
            "       [ 0.46846762,  0.1580428 , -0.7960792 ],\n",
            "       [ 0.1741941 , -0.62693816,  0.31087708],\n",
            "       [-0.7995036 ,  0.08120709,  0.07674979]], dtype=float32), array([ 0.10981332,  0.05540728, -0.1652206 ], dtype=float32)]\n"
          ],
          "name": "stdout"
        }
      ]
    },
    {
      "cell_type": "markdown",
      "metadata": {
        "id": "2FQHVUnm_rjw"
      },
      "source": [
        "### Visualize the loss function over time"
      ]
    },
    {
      "cell_type": "markdown",
      "metadata": {
        "id": "j3wdbmtLVTyr"
      },
      "source": [
        "While it's helpful to print out the model's training progress, it's often *more* helpful to see this progress. [TensorBoard](https://www.tensorflow.org/tensorboard) is a nice visualization tool that is packaged with TensorFlow, but we can create basic charts using the `matplotlib` module.\n",
        "\n",
        "Interpreting these charts takes some experience, but you really want to see the *loss* go down and the *accuracy* go up:"
      ]
    },
    {
      "cell_type": "code",
      "metadata": {
        "id": "agjvNd2iUGFn",
        "outputId": "181d18a8-8371-44f5-cf66-3bc7fe644b18",
        "colab": {
          "base_uri": "https://localhost:8080/",
          "height": 558
        }
      },
      "source": [
        "fig, axes = plt.subplots(2, sharex=True, figsize=(12, 8))\n",
        "fig.suptitle('Training Metrics')\n",
        "\n",
        "axes[0].set_ylabel(\"Loss\", fontsize=14)\n",
        "axes[0].plot(train_loss_results)\n",
        "\n",
        "axes[1].set_ylabel(\"Accuracy\", fontsize=14)\n",
        "axes[1].set_xlabel(\"Epoch\", fontsize=14)\n",
        "axes[1].plot(train_accuracy_results)\n",
        "plt.show()"
      ],
      "execution_count": 31,
      "outputs": [
        {
          "output_type": "display_data",
          "data": {
            "image/png": "[encoded data removed]",
            "text/plain": [
              "<Figure size 864x576 with 2 Axes>"
            ]
          },
          "metadata": {
            "tags": [],
            "needs_background": "light"
          }
        }
      ]
    },
    {
      "cell_type": "markdown",
      "metadata": {
        "id": "Zg8GoMZhLpGH"
      },
      "source": [
        "## Evaluate the model's effectiveness\n",
        "\n",
        "Now that the model is trained, we can get some statistics on its performance.\n",
        "\n",
        "*Evaluating* means determining how effectively the model makes predictions. To determine the model's effectiveness at Iris classification, pass some sepal and petal measurements to the model and ask the model to predict what Iris species they represent. Then compare the model's predictions against the actual label.  For example, a model that picked the correct species on half the input examples has an *[accuracy](https://developers.google.com/machine-learning/glossary/#accuracy)* of `0.5`. Figure 4 shows a slightly more effective model, getting 4 out of 5 predictions correct at 80% accuracy:\n",
        "\n",
        "<table cellpadding=\"8\" border=\"0\">\n",
        "  <colgroup>\n",
        "    <col span=\"4\" >\n",
        "    <col span=\"1\" bgcolor=\"lightblue\">\n",
        "    <col span=\"1\" bgcolor=\"lightgreen\">\n",
        "  </colgroup>\n",
        "  <tr bgcolor=\"lightgray\">\n",
        "    <th colspan=\"4\">Example features</th>\n",
        "    <th colspan=\"1\">Label</th>\n",
        "    <th colspan=\"1\" >Model prediction</th>\n",
        "  </tr>\n",
        "  <tr>\n",
        "    <td>5.9</td><td>3.0</td><td>4.3</td><td>1.5</td><td align=\"center\">1</td><td align=\"center\">1</td>\n",
        "  </tr>\n",
        "  <tr>\n",
        "    <td>6.9</td><td>3.1</td><td>5.4</td><td>2.1</td><td align=\"center\">2</td><td align=\"center\">2</td>\n",
        "  </tr>\n",
        "  <tr>\n",
        "    <td>5.1</td><td>3.3</td><td>1.7</td><td>0.5</td><td align=\"center\">0</td><td align=\"center\">0</td>\n",
        "  </tr>\n",
        "  <tr>\n",
        "    <td>6.0</td> <td>3.4</td> <td>4.5</td> <td>1.6</td> <td align=\"center\">1</td><td align=\"center\" bgcolor=\"red\">2</td>\n",
        "  </tr>\n",
        "  <tr>\n",
        "    <td>5.5</td><td>2.5</td><td>4.0</td><td>1.3</td><td align=\"center\">1</td><td align=\"center\">1</td>\n",
        "  </tr>\n",
        "  <tr><td align=\"center\" colspan=\"6\">\n",
        "    <b>Figure 4.</b> An Iris classifier that is 80% accurate.<br/>&nbsp;\n",
        "  </td></tr>\n",
        "</table>"
      ]
    },
    {
      "cell_type": "markdown",
      "metadata": {
        "id": "z-EvK7hGL0d8"
      },
      "source": [
        "### Setup the test dataset\n",
        "\n",
        "Evaluating the model is similar to training the model. The biggest difference is the examples come from a separate *[test set](https://developers.google.com/machine-learning/crash-course/glossary#test_set)* rather than the training set. To fairly assess a model's effectiveness, the examples used to evaluate a model must be different from the examples used to train the model.\n",
        "\n",
        "The setup for the test `Dataset` is similar to the setup for training `Dataset`. Download the CSV text file and parse that values, then give it a little shuffle:"
      ]
    },
    {
      "cell_type": "code",
      "metadata": {
        "id": "Ps3_9dJ3Lodk"
      },
      "source": [
        "test_url = \"https://storage.googleapis.com/download.tensorflow.org/data/iris_test.csv\"\n",
        "\n",
        "test_fp = tf.keras.utils.get_file(fname=os.path.basename(test_url),\n",
        "                                  origin=test_url)"
      ],
      "execution_count": null,
      "outputs": []
    },
    {
      "cell_type": "code",
      "metadata": {
        "id": "SRMWCu30bnxH"
      },
      "source": [
        "test_dataset = tf.data.experimental.make_csv_dataset(\n",
        "    test_fp,\n",
        "    batch_size,\n",
        "    column_names=column_names,\n",
        "    label_name='species',\n",
        "    num_epochs=1,\n",
        "    shuffle=False)\n",
        "\n",
        "test_dataset = test_dataset.map(pack_features_vector)"
      ],
      "execution_count": null,
      "outputs": []
    },
    {
      "cell_type": "markdown",
      "metadata": {
        "id": "HFuOKXJdMAdm"
      },
      "source": [
        "### Evaluate the model on the test dataset\n",
        "\n",
        "Unlike the training stage, the model only evaluates a single [epoch](https://developers.google.com/machine-learning/glossary/#epoch) of the test data. In the following code cell, we iterate over each example in the test set and compare the model's prediction against the actual label. This is used to measure the model's accuracy across the entire test set:"
      ]
    },
    {
      "cell_type": "code",
      "metadata": {
        "id": "Tw03-MK1cYId"
      },
      "source": [
        "test_accuracy = tf.keras.metrics.Accuracy()\n",
        "\n",
        "for (x, y) in test_dataset:\n",
        "  # training=False is needed only if there are layers with different\n",
        "  # behavior during training versus inference (e.g. Dropout).\n",
        "  logits = model(x, training=False)\n",
        "  prediction = tf.argmax(logits, axis=1, output_type=tf.int32)\n",
        "  test_accuracy(prediction, y)\n",
        "\n",
        "print(\"Test set accuracy: {:.3%}\".format(test_accuracy.result()))"
      ],
      "execution_count": null,
      "outputs": []
    },
    {
      "cell_type": "markdown",
      "metadata": {
        "id": "HcKEZMtCOeK-"
      },
      "source": [
        "We can see on the last batch, for example, the model is usually correct:"
      ]
    },
    {
      "cell_type": "code",
      "metadata": {
        "id": "uNwt2eMeOane"
      },
      "source": [
        "tf.stack([y,prediction],axis=1)"
      ],
      "execution_count": null,
      "outputs": []
    },
    {
      "cell_type": "markdown",
      "metadata": {
        "id": "7Li2r1tYvW7S"
      },
      "source": [
        "## Use the trained model to make predictions\n",
        "\n",
        "We've trained a model and \"proven\" that it's good—but not perfect—at classifying Iris species. Now let's use the trained model to make some predictions on [unlabeled examples](https://developers.google.com/machine-learning/glossary/#unlabeled_example); that is, on examples that contain features but not a label.\n",
        "\n",
        "In real-life, the unlabeled examples could come from lots of different sources including apps, CSV files, and data feeds. For now, we're going to manually provide three unlabeled examples to predict their labels. Recall, the label numbers are mapped to a named representation as:\n",
        "\n",
        "* `0`: Iris setosa\n",
        "* `1`: Iris versicolor\n",
        "* `2`: Iris virginica"
      ]
    },
    {
      "cell_type": "code",
      "metadata": {
        "id": "kesTS5Lzv-M2"
      },
      "source": [
        "predict_dataset = tf.convert_to_tensor([\n",
        "    [5.1, 3.3, 1.7, 0.5,],\n",
        "    [5.9, 3.0, 4.2, 1.5,],\n",
        "    [6.9, 3.1, 5.4, 2.1]\n",
        "])\n",
        "\n",
        "# training=False is needed only if there are layers with different\n",
        "# behavior during training versus inference (e.g. Dropout).\n",
        "predictions = model(predict_dataset, training=False)\n",
        "\n",
        "for i, logits in enumerate(predictions):\n",
        "  class_idx = tf.argmax(logits).numpy()\n",
        "  p = tf.nn.softmax(logits)[class_idx]\n",
        "  name = class_names[class_idx]\n",
        "  print(\"Example {} prediction: {} ({:4.1f}%)\".format(i, name, 100*p))"
      ],
      "execution_count": null,
      "outputs": []
    }
  ]
}